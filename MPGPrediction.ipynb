{
  "nbformat": 4,
  "nbformat_minor": 0,
  "metadata": {
    "colab": {
      "provenance": []
    },
    "kernelspec": {
      "name": "python3",
      "display_name": "Python 3"
    },
    "language_info": {
      "name": "python"
    }
  },
  "cells": [
    {
      "cell_type": "markdown",
      "source": [
        "# WITHOUT OUTLIERS, WITHOUT DUPLICATES"
      ],
      "metadata": {
        "id": "rbV2A90nFKJC"
      }
    },
    {
      "cell_type": "code",
      "execution_count": 1,
      "metadata": {
        "id": "keoVZvpnFCxR"
      },
      "outputs": [],
      "source": [
        "import pandas as pd\n",
        "import numpy as np\n",
        "import seaborn as sns\n",
        "import matplotlib.pyplot as plt"
      ]
    },
    {
      "cell_type": "code",
      "source": [
        "df = pd.read_csv('MPGPrediction.csv')"
      ],
      "metadata": {
        "id": "V2txt0bQFTCB"
      },
      "execution_count": 2,
      "outputs": []
    },
    {
      "cell_type": "code",
      "source": [
        "df.head(5)"
      ],
      "metadata": {
        "colab": {
          "base_uri": "https://localhost:8080/",
          "height": 206
        },
        "id": "H44y1ZY6FS4u",
        "outputId": "e341e9c7-20c6-4a95-9513-f1e6edac3beb"
      },
      "execution_count": 3,
      "outputs": [
        {
          "output_type": "execute_result",
          "data": {
            "text/plain": [
              "    mpg  cylinders  displacement horsepower  weight  acceleration  model year  \\\n",
              "0  18.0          8         307.0        130    3504          12.0          70   \n",
              "1  15.0          8         350.0        165    3693          11.5          70   \n",
              "2  18.0          8         318.0        150    3436          11.0          70   \n",
              "3  16.0          8         304.0        150    3433          12.0          70   \n",
              "4  17.0          8         302.0        140    3449          10.5          70   \n",
              "\n",
              "   origin                   car name  \n",
              "0       1  chevrolet chevelle malibu  \n",
              "1       1          buick skylark 320  \n",
              "2       1         plymouth satellite  \n",
              "3       1              amc rebel sst  \n",
              "4       1                ford torino  "
            ],
            "text/html": [
              "\n",
              "  <div id=\"df-9a84460b-fe0e-41e9-9288-f4e33618c849\">\n",
              "    <div class=\"colab-df-container\">\n",
              "      <div>\n",
              "<style scoped>\n",
              "    .dataframe tbody tr th:only-of-type {\n",
              "        vertical-align: middle;\n",
              "    }\n",
              "\n",
              "    .dataframe tbody tr th {\n",
              "        vertical-align: top;\n",
              "    }\n",
              "\n",
              "    .dataframe thead th {\n",
              "        text-align: right;\n",
              "    }\n",
              "</style>\n",
              "<table border=\"1\" class=\"dataframe\">\n",
              "  <thead>\n",
              "    <tr style=\"text-align: right;\">\n",
              "      <th></th>\n",
              "      <th>mpg</th>\n",
              "      <th>cylinders</th>\n",
              "      <th>displacement</th>\n",
              "      <th>horsepower</th>\n",
              "      <th>weight</th>\n",
              "      <th>acceleration</th>\n",
              "      <th>model year</th>\n",
              "      <th>origin</th>\n",
              "      <th>car name</th>\n",
              "    </tr>\n",
              "  </thead>\n",
              "  <tbody>\n",
              "    <tr>\n",
              "      <th>0</th>\n",
              "      <td>18.0</td>\n",
              "      <td>8</td>\n",
              "      <td>307.0</td>\n",
              "      <td>130</td>\n",
              "      <td>3504</td>\n",
              "      <td>12.0</td>\n",
              "      <td>70</td>\n",
              "      <td>1</td>\n",
              "      <td>chevrolet chevelle malibu</td>\n",
              "    </tr>\n",
              "    <tr>\n",
              "      <th>1</th>\n",
              "      <td>15.0</td>\n",
              "      <td>8</td>\n",
              "      <td>350.0</td>\n",
              "      <td>165</td>\n",
              "      <td>3693</td>\n",
              "      <td>11.5</td>\n",
              "      <td>70</td>\n",
              "      <td>1</td>\n",
              "      <td>buick skylark 320</td>\n",
              "    </tr>\n",
              "    <tr>\n",
              "      <th>2</th>\n",
              "      <td>18.0</td>\n",
              "      <td>8</td>\n",
              "      <td>318.0</td>\n",
              "      <td>150</td>\n",
              "      <td>3436</td>\n",
              "      <td>11.0</td>\n",
              "      <td>70</td>\n",
              "      <td>1</td>\n",
              "      <td>plymouth satellite</td>\n",
              "    </tr>\n",
              "    <tr>\n",
              "      <th>3</th>\n",
              "      <td>16.0</td>\n",
              "      <td>8</td>\n",
              "      <td>304.0</td>\n",
              "      <td>150</td>\n",
              "      <td>3433</td>\n",
              "      <td>12.0</td>\n",
              "      <td>70</td>\n",
              "      <td>1</td>\n",
              "      <td>amc rebel sst</td>\n",
              "    </tr>\n",
              "    <tr>\n",
              "      <th>4</th>\n",
              "      <td>17.0</td>\n",
              "      <td>8</td>\n",
              "      <td>302.0</td>\n",
              "      <td>140</td>\n",
              "      <td>3449</td>\n",
              "      <td>10.5</td>\n",
              "      <td>70</td>\n",
              "      <td>1</td>\n",
              "      <td>ford torino</td>\n",
              "    </tr>\n",
              "  </tbody>\n",
              "</table>\n",
              "</div>\n",
              "      <button class=\"colab-df-convert\" onclick=\"convertToInteractive('df-9a84460b-fe0e-41e9-9288-f4e33618c849')\"\n",
              "              title=\"Convert this dataframe to an interactive table.\"\n",
              "              style=\"display:none;\">\n",
              "        \n",
              "  <svg xmlns=\"http://www.w3.org/2000/svg\" height=\"24px\"viewBox=\"0 0 24 24\"\n",
              "       width=\"24px\">\n",
              "    <path d=\"M0 0h24v24H0V0z\" fill=\"none\"/>\n",
              "    <path d=\"M18.56 5.44l.94 2.06.94-2.06 2.06-.94-2.06-.94-.94-2.06-.94 2.06-2.06.94zm-11 1L8.5 8.5l.94-2.06 2.06-.94-2.06-.94L8.5 2.5l-.94 2.06-2.06.94zm10 10l.94 2.06.94-2.06 2.06-.94-2.06-.94-.94-2.06-.94 2.06-2.06.94z\"/><path d=\"M17.41 7.96l-1.37-1.37c-.4-.4-.92-.59-1.43-.59-.52 0-1.04.2-1.43.59L10.3 9.45l-7.72 7.72c-.78.78-.78 2.05 0 2.83L4 21.41c.39.39.9.59 1.41.59.51 0 1.02-.2 1.41-.59l7.78-7.78 2.81-2.81c.8-.78.8-2.07 0-2.86zM5.41 20L4 18.59l7.72-7.72 1.47 1.35L5.41 20z\"/>\n",
              "  </svg>\n",
              "      </button>\n",
              "      \n",
              "  <style>\n",
              "    .colab-df-container {\n",
              "      display:flex;\n",
              "      flex-wrap:wrap;\n",
              "      gap: 12px;\n",
              "    }\n",
              "\n",
              "    .colab-df-convert {\n",
              "      background-color: #E8F0FE;\n",
              "      border: none;\n",
              "      border-radius: 50%;\n",
              "      cursor: pointer;\n",
              "      display: none;\n",
              "      fill: #1967D2;\n",
              "      height: 32px;\n",
              "      padding: 0 0 0 0;\n",
              "      width: 32px;\n",
              "    }\n",
              "\n",
              "    .colab-df-convert:hover {\n",
              "      background-color: #E2EBFA;\n",
              "      box-shadow: 0px 1px 2px rgba(60, 64, 67, 0.3), 0px 1px 3px 1px rgba(60, 64, 67, 0.15);\n",
              "      fill: #174EA6;\n",
              "    }\n",
              "\n",
              "    [theme=dark] .colab-df-convert {\n",
              "      background-color: #3B4455;\n",
              "      fill: #D2E3FC;\n",
              "    }\n",
              "\n",
              "    [theme=dark] .colab-df-convert:hover {\n",
              "      background-color: #434B5C;\n",
              "      box-shadow: 0px 1px 3px 1px rgba(0, 0, 0, 0.15);\n",
              "      filter: drop-shadow(0px 1px 2px rgba(0, 0, 0, 0.3));\n",
              "      fill: #FFFFFF;\n",
              "    }\n",
              "  </style>\n",
              "\n",
              "      <script>\n",
              "        const buttonEl =\n",
              "          document.querySelector('#df-9a84460b-fe0e-41e9-9288-f4e33618c849 button.colab-df-convert');\n",
              "        buttonEl.style.display =\n",
              "          google.colab.kernel.accessAllowed ? 'block' : 'none';\n",
              "\n",
              "        async function convertToInteractive(key) {\n",
              "          const element = document.querySelector('#df-9a84460b-fe0e-41e9-9288-f4e33618c849');\n",
              "          const dataTable =\n",
              "            await google.colab.kernel.invokeFunction('convertToInteractive',\n",
              "                                                     [key], {});\n",
              "          if (!dataTable) return;\n",
              "\n",
              "          const docLinkHtml = 'Like what you see? Visit the ' +\n",
              "            '<a target=\"_blank\" href=https://colab.research.google.com/notebooks/data_table.ipynb>data table notebook</a>'\n",
              "            + ' to learn more about interactive tables.';\n",
              "          element.innerHTML = '';\n",
              "          dataTable['output_type'] = 'display_data';\n",
              "          await google.colab.output.renderOutput(dataTable, element);\n",
              "          const docLink = document.createElement('div');\n",
              "          docLink.innerHTML = docLinkHtml;\n",
              "          element.appendChild(docLink);\n",
              "        }\n",
              "      </script>\n",
              "    </div>\n",
              "  </div>\n",
              "  "
            ]
          },
          "metadata": {},
          "execution_count": 3
        }
      ]
    },
    {
      "cell_type": "code",
      "source": [
        "df.info()"
      ],
      "metadata": {
        "colab": {
          "base_uri": "https://localhost:8080/"
        },
        "id": "jwogpLn8FV8s",
        "outputId": "923e7b0b-2da9-49e2-d842-179315cd9250"
      },
      "execution_count": 4,
      "outputs": [
        {
          "output_type": "stream",
          "name": "stdout",
          "text": [
            "<class 'pandas.core.frame.DataFrame'>\n",
            "RangeIndex: 398 entries, 0 to 397\n",
            "Data columns (total 9 columns):\n",
            " #   Column        Non-Null Count  Dtype  \n",
            "---  ------        --------------  -----  \n",
            " 0   mpg           398 non-null    float64\n",
            " 1   cylinders     398 non-null    int64  \n",
            " 2   displacement  398 non-null    float64\n",
            " 3   horsepower    398 non-null    object \n",
            " 4   weight        398 non-null    int64  \n",
            " 5   acceleration  398 non-null    float64\n",
            " 6   model year    398 non-null    int64  \n",
            " 7   origin        398 non-null    int64  \n",
            " 8   car name      398 non-null    object \n",
            "dtypes: float64(3), int64(4), object(2)\n",
            "memory usage: 28.1+ KB\n"
          ]
        }
      ]
    },
    {
      "cell_type": "markdown",
      "source": [
        "**Horsepower** feature seems **numerical** but it is of object datatype. This means that there are some abnormal entries(NaN, spl char) in the feature. And it needs to be converted to a numeric data type"
      ],
      "metadata": {
        "id": "5_NPRLZjFXQx"
      }
    },
    {
      "cell_type": "code",
      "source": [
        "df.shape"
      ],
      "metadata": {
        "colab": {
          "base_uri": "https://localhost:8080/"
        },
        "id": "bNsodCovFZUA",
        "outputId": "9ab46226-9eed-4f81-e7db-51b111e8cbda"
      },
      "execution_count": 5,
      "outputs": [
        {
          "output_type": "execute_result",
          "data": {
            "text/plain": [
              "(398, 9)"
            ]
          },
          "metadata": {},
          "execution_count": 5
        }
      ]
    },
    {
      "cell_type": "markdown",
      "source": [
        "## Number of unique entries in each feature"
      ],
      "metadata": {
        "id": "oghwTDeYFaIh"
      }
    },
    {
      "cell_type": "code",
      "source": [
        "for col in df.columns:\n",
        "    num_unique = len(df[col].unique())\n",
        "    print(f\"{col} : {num_unique} \")"
      ],
      "metadata": {
        "colab": {
          "base_uri": "https://localhost:8080/"
        },
        "id": "_G9jgPsXFcaX",
        "outputId": "159693db-320e-4d35-f021-1a33796b7566"
      },
      "execution_count": 6,
      "outputs": [
        {
          "output_type": "stream",
          "name": "stdout",
          "text": [
            "mpg : 129 \n",
            "cylinders : 5 \n",
            "displacement : 82 \n",
            "horsepower : 94 \n",
            "weight : 351 \n",
            "acceleration : 95 \n",
            "model year : 13 \n",
            "origin : 3 \n",
            "car name : 305 \n"
          ]
        }
      ]
    },
    {
      "cell_type": "markdown",
      "source": [
        "## Checking for missing values"
      ],
      "metadata": {
        "id": "ZcW5I5VjFeFF"
      }
    },
    {
      "cell_type": "code",
      "source": [
        "df.isnull().sum()"
      ],
      "metadata": {
        "colab": {
          "base_uri": "https://localhost:8080/"
        },
        "id": "DHdtiF_ZFncI",
        "outputId": "33893327-4485-4b39-f9c0-a6a639149c7d"
      },
      "execution_count": 7,
      "outputs": [
        {
          "output_type": "execute_result",
          "data": {
            "text/plain": [
              "mpg             0\n",
              "cylinders       0\n",
              "displacement    0\n",
              "horsepower      0\n",
              "weight          0\n",
              "acceleration    0\n",
              "model year      0\n",
              "origin          0\n",
              "car name        0\n",
              "dtype: int64"
            ]
          },
          "metadata": {},
          "execution_count": 7
        }
      ]
    },
    {
      "cell_type": "markdown",
      "source": [
        "**No column contains a NaN value. But they might contain special characters in\n",
        "place of int or float**"
      ],
      "metadata": {
        "id": "_KOi_nf5Fouj"
      }
    },
    {
      "cell_type": "code",
      "source": [
        "df_cols = df.columns\n",
        "df_cols"
      ],
      "metadata": {
        "colab": {
          "base_uri": "https://localhost:8080/"
        },
        "id": "h4BNXjSqFqCj",
        "outputId": "11a1cfae-e026-461a-acf3-582c5425a675"
      },
      "execution_count": 8,
      "outputs": [
        {
          "output_type": "execute_result",
          "data": {
            "text/plain": [
              "Index(['mpg', 'cylinders', 'displacement', 'horsepower', 'weight',\n",
              "       'acceleration', 'model year', 'origin', 'car name'],\n",
              "      dtype='object')"
            ]
          },
          "metadata": {},
          "execution_count": 8
        }
      ]
    },
    {
      "cell_type": "code",
      "source": [
        "spl_char = r'[@#&$%+-/_?*]'\n",
        "for col_name in df_cols:\n",
        "  spl_col = df[col_name].astype(str).str.contains(spl_char)\n",
        "  spl_char_rows = df.loc[spl_col]\n",
        "  print(spl_char_rows)"
      ],
      "metadata": {
        "colab": {
          "base_uri": "https://localhost:8080/"
        },
        "id": "vZMUIr-4FrJP",
        "outputId": "782113f7-7d9c-4078-9367-0457e1a81735"
      },
      "execution_count": 9,
      "outputs": [
        {
          "output_type": "stream",
          "name": "stdout",
          "text": [
            "      mpg  cylinders  displacement horsepower  weight  acceleration  \\\n",
            "0    18.0          8         307.0        130    3504          12.0   \n",
            "1    15.0          8         350.0        165    3693          11.5   \n",
            "2    18.0          8         318.0        150    3436          11.0   \n",
            "3    16.0          8         304.0        150    3433          12.0   \n",
            "4    17.0          8         302.0        140    3449          10.5   \n",
            "..    ...        ...           ...        ...     ...           ...   \n",
            "393  27.0          4         140.0         86    2790          15.6   \n",
            "394  44.0          4          97.0         52    2130          24.6   \n",
            "395  32.0          4         135.0         84    2295          11.6   \n",
            "396  28.0          4         120.0         79    2625          18.6   \n",
            "397  31.0          4         119.0         82    2720          19.4   \n",
            "\n",
            "     model year  origin                   car name  \n",
            "0            70       1  chevrolet chevelle malibu  \n",
            "1            70       1          buick skylark 320  \n",
            "2            70       1         plymouth satellite  \n",
            "3            70       1              amc rebel sst  \n",
            "4            70       1                ford torino  \n",
            "..          ...     ...                        ...  \n",
            "393          82       1            ford mustang gl  \n",
            "394          82       2                  vw pickup  \n",
            "395          82       1              dodge rampage  \n",
            "396          82       1                ford ranger  \n",
            "397          82       1                 chevy s-10  \n",
            "\n",
            "[398 rows x 9 columns]\n",
            "Empty DataFrame\n",
            "Columns: [mpg, cylinders, displacement, horsepower, weight, acceleration, model year, origin, car name]\n",
            "Index: []\n",
            "      mpg  cylinders  displacement horsepower  weight  acceleration  \\\n",
            "0    18.0          8         307.0        130    3504          12.0   \n",
            "1    15.0          8         350.0        165    3693          11.5   \n",
            "2    18.0          8         318.0        150    3436          11.0   \n",
            "3    16.0          8         304.0        150    3433          12.0   \n",
            "4    17.0          8         302.0        140    3449          10.5   \n",
            "..    ...        ...           ...        ...     ...           ...   \n",
            "393  27.0          4         140.0         86    2790          15.6   \n",
            "394  44.0          4          97.0         52    2130          24.6   \n",
            "395  32.0          4         135.0         84    2295          11.6   \n",
            "396  28.0          4         120.0         79    2625          18.6   \n",
            "397  31.0          4         119.0         82    2720          19.4   \n",
            "\n",
            "     model year  origin                   car name  \n",
            "0            70       1  chevrolet chevelle malibu  \n",
            "1            70       1          buick skylark 320  \n",
            "2            70       1         plymouth satellite  \n",
            "3            70       1              amc rebel sst  \n",
            "4            70       1                ford torino  \n",
            "..          ...     ...                        ...  \n",
            "393          82       1            ford mustang gl  \n",
            "394          82       2                  vw pickup  \n",
            "395          82       1              dodge rampage  \n",
            "396          82       1                ford ranger  \n",
            "397          82       1                 chevy s-10  \n",
            "\n",
            "[398 rows x 9 columns]\n",
            "      mpg  cylinders  displacement horsepower  weight  acceleration  \\\n",
            "32   25.0          4          98.0          ?    2046          19.0   \n",
            "126  21.0          6         200.0          ?    2875          17.0   \n",
            "330  40.9          4          85.0          ?    1835          17.3   \n",
            "336  23.6          4         140.0          ?    2905          14.3   \n",
            "354  34.5          4         100.0          ?    2320          15.8   \n",
            "374  23.0          4         151.0          ?    3035          20.5   \n",
            "\n",
            "     model year  origin              car name  \n",
            "32           71       1            ford pinto  \n",
            "126          74       1         ford maverick  \n",
            "330          80       2  renault lecar deluxe  \n",
            "336          80       1    ford mustang cobra  \n",
            "354          81       2           renault 18i  \n",
            "374          82       1        amc concord dl  \n",
            "Empty DataFrame\n",
            "Columns: [mpg, cylinders, displacement, horsepower, weight, acceleration, model year, origin, car name]\n",
            "Index: []\n",
            "      mpg  cylinders  displacement horsepower  weight  acceleration  \\\n",
            "0    18.0          8         307.0        130    3504          12.0   \n",
            "1    15.0          8         350.0        165    3693          11.5   \n",
            "2    18.0          8         318.0        150    3436          11.0   \n",
            "3    16.0          8         304.0        150    3433          12.0   \n",
            "4    17.0          8         302.0        140    3449          10.5   \n",
            "..    ...        ...           ...        ...     ...           ...   \n",
            "393  27.0          4         140.0         86    2790          15.6   \n",
            "394  44.0          4          97.0         52    2130          24.6   \n",
            "395  32.0          4         135.0         84    2295          11.6   \n",
            "396  28.0          4         120.0         79    2625          18.6   \n",
            "397  31.0          4         119.0         82    2720          19.4   \n",
            "\n",
            "     model year  origin                   car name  \n",
            "0            70       1  chevrolet chevelle malibu  \n",
            "1            70       1          buick skylark 320  \n",
            "2            70       1         plymouth satellite  \n",
            "3            70       1              amc rebel sst  \n",
            "4            70       1                ford torino  \n",
            "..          ...     ...                        ...  \n",
            "393          82       1            ford mustang gl  \n",
            "394          82       2                  vw pickup  \n",
            "395          82       1              dodge rampage  \n",
            "396          82       1                ford ranger  \n",
            "397          82       1                 chevy s-10  \n",
            "\n",
            "[398 rows x 9 columns]\n",
            "Empty DataFrame\n",
            "Columns: [mpg, cylinders, displacement, horsepower, weight, acceleration, model year, origin, car name]\n",
            "Index: []\n",
            "Empty DataFrame\n",
            "Columns: [mpg, cylinders, displacement, horsepower, weight, acceleration, model year, origin, car name]\n",
            "Index: []\n",
            "      mpg  cylinders  displacement horsepower  weight  acceleration  \\\n",
            "151  31.0          4          79.0         67    2000          16.0   \n",
            "165  20.0          8         262.0        110    3221          13.5   \n",
            "202  17.5          6         258.0         95    3193          17.8   \n",
            "204  32.0          4          85.0         70    1990          17.0   \n",
            "211  16.5          6         168.0        120    3820          16.7   \n",
            "220  33.5          4          85.0         70    1945          16.8   \n",
            "236  25.5          4         140.0         89    2755          15.8   \n",
            "238  33.5          4          98.0         83    2075          15.9   \n",
            "243  21.5          3          80.0        110    2720          13.5   \n",
            "261  18.1          6         258.0        120    3410          15.1   \n",
            "273  23.9          4         119.0         97    2405          14.9   \n",
            "288  18.2          8         318.0        135    3830          15.2   \n",
            "292  18.5          8         360.0        150    3940          13.0   \n",
            "328  30.0          4         146.0         67    3250          21.8   \n",
            "333  32.7          6         168.0        132    2910          11.4   \n",
            "334  23.7          3          70.0        100    2420          12.5   \n",
            "369  34.0          4         112.0         88    2395          18.0   \n",
            "391  36.0          4         135.0         84    2370          13.0   \n",
            "397  31.0          4         119.0         82    2720          19.4   \n",
            "\n",
            "     model year  origin                              car name  \n",
            "151          74       2                             fiat x1.9  \n",
            "165          75       1                   chevrolet monza 2+2  \n",
            "202          76       1                         amc pacer d/l  \n",
            "204          76       3                          datsun b-210  \n",
            "211          76       2                    mercedes-benz 280s  \n",
            "220          77       3                 datsun f-10 hatchback  \n",
            "236          77       1                   ford mustang ii 2+2  \n",
            "238          77       1                        dodge colt m/m  \n",
            "243          77       3                            mazda rx-4  \n",
            "261          78       1                       amc concord d/l  \n",
            "273          78       3                         datsun 200-sx  \n",
            "288          79       1                       dodge st. regis  \n",
            "292          79       1  chrysler lebaron town @ country (sw)  \n",
            "328          80       2                    mercedes-benz 240d  \n",
            "333          80       3                         datsun 280-zx  \n",
            "334          80       3                         mazda rx-7 gs  \n",
            "369          82       1             chevrolet cavalier 2-door  \n",
            "391          82       1                     dodge charger 2.2  \n",
            "397          82       1                            chevy s-10  \n"
          ]
        }
      ]
    },
    {
      "cell_type": "markdown",
      "source": [
        "Horsepower column contains 6 rows with '?'"
      ],
      "metadata": {
        "id": "2NP0OXNKFtiE"
      }
    },
    {
      "cell_type": "markdown",
      "source": [
        "**Checking if ''car' contains '?' before replacing '?' in 'horsepower'**"
      ],
      "metadata": {
        "id": "bpObCXwvFtas"
      }
    },
    {
      "cell_type": "code",
      "source": [
        "rows_with_qm = df.loc[df['car name'] == '?']\n",
        "rows_with_qm"
      ],
      "metadata": {
        "colab": {
          "base_uri": "https://localhost:8080/",
          "height": 49
        },
        "id": "4U5lRUjUFyHN",
        "outputId": "56393794-6739-4454-850a-847e9a282371"
      },
      "execution_count": 10,
      "outputs": [
        {
          "output_type": "execute_result",
          "data": {
            "text/plain": [
              "Empty DataFrame\n",
              "Columns: [mpg, cylinders, displacement, horsepower, weight, acceleration, model year, origin, car name]\n",
              "Index: []"
            ],
            "text/html": [
              "\n",
              "  <div id=\"df-0d727464-aee0-40db-b0eb-4fb1c9c499ea\">\n",
              "    <div class=\"colab-df-container\">\n",
              "      <div>\n",
              "<style scoped>\n",
              "    .dataframe tbody tr th:only-of-type {\n",
              "        vertical-align: middle;\n",
              "    }\n",
              "\n",
              "    .dataframe tbody tr th {\n",
              "        vertical-align: top;\n",
              "    }\n",
              "\n",
              "    .dataframe thead th {\n",
              "        text-align: right;\n",
              "    }\n",
              "</style>\n",
              "<table border=\"1\" class=\"dataframe\">\n",
              "  <thead>\n",
              "    <tr style=\"text-align: right;\">\n",
              "      <th></th>\n",
              "      <th>mpg</th>\n",
              "      <th>cylinders</th>\n",
              "      <th>displacement</th>\n",
              "      <th>horsepower</th>\n",
              "      <th>weight</th>\n",
              "      <th>acceleration</th>\n",
              "      <th>model year</th>\n",
              "      <th>origin</th>\n",
              "      <th>car name</th>\n",
              "    </tr>\n",
              "  </thead>\n",
              "  <tbody>\n",
              "  </tbody>\n",
              "</table>\n",
              "</div>\n",
              "      <button class=\"colab-df-convert\" onclick=\"convertToInteractive('df-0d727464-aee0-40db-b0eb-4fb1c9c499ea')\"\n",
              "              title=\"Convert this dataframe to an interactive table.\"\n",
              "              style=\"display:none;\">\n",
              "        \n",
              "  <svg xmlns=\"http://www.w3.org/2000/svg\" height=\"24px\"viewBox=\"0 0 24 24\"\n",
              "       width=\"24px\">\n",
              "    <path d=\"M0 0h24v24H0V0z\" fill=\"none\"/>\n",
              "    <path d=\"M18.56 5.44l.94 2.06.94-2.06 2.06-.94-2.06-.94-.94-2.06-.94 2.06-2.06.94zm-11 1L8.5 8.5l.94-2.06 2.06-.94-2.06-.94L8.5 2.5l-.94 2.06-2.06.94zm10 10l.94 2.06.94-2.06 2.06-.94-2.06-.94-.94-2.06-.94 2.06-2.06.94z\"/><path d=\"M17.41 7.96l-1.37-1.37c-.4-.4-.92-.59-1.43-.59-.52 0-1.04.2-1.43.59L10.3 9.45l-7.72 7.72c-.78.78-.78 2.05 0 2.83L4 21.41c.39.39.9.59 1.41.59.51 0 1.02-.2 1.41-.59l7.78-7.78 2.81-2.81c.8-.78.8-2.07 0-2.86zM5.41 20L4 18.59l7.72-7.72 1.47 1.35L5.41 20z\"/>\n",
              "  </svg>\n",
              "      </button>\n",
              "      \n",
              "  <style>\n",
              "    .colab-df-container {\n",
              "      display:flex;\n",
              "      flex-wrap:wrap;\n",
              "      gap: 12px;\n",
              "    }\n",
              "\n",
              "    .colab-df-convert {\n",
              "      background-color: #E8F0FE;\n",
              "      border: none;\n",
              "      border-radius: 50%;\n",
              "      cursor: pointer;\n",
              "      display: none;\n",
              "      fill: #1967D2;\n",
              "      height: 32px;\n",
              "      padding: 0 0 0 0;\n",
              "      width: 32px;\n",
              "    }\n",
              "\n",
              "    .colab-df-convert:hover {\n",
              "      background-color: #E2EBFA;\n",
              "      box-shadow: 0px 1px 2px rgba(60, 64, 67, 0.3), 0px 1px 3px 1px rgba(60, 64, 67, 0.15);\n",
              "      fill: #174EA6;\n",
              "    }\n",
              "\n",
              "    [theme=dark] .colab-df-convert {\n",
              "      background-color: #3B4455;\n",
              "      fill: #D2E3FC;\n",
              "    }\n",
              "\n",
              "    [theme=dark] .colab-df-convert:hover {\n",
              "      background-color: #434B5C;\n",
              "      box-shadow: 0px 1px 3px 1px rgba(0, 0, 0, 0.15);\n",
              "      filter: drop-shadow(0px 1px 2px rgba(0, 0, 0, 0.3));\n",
              "      fill: #FFFFFF;\n",
              "    }\n",
              "  </style>\n",
              "\n",
              "      <script>\n",
              "        const buttonEl =\n",
              "          document.querySelector('#df-0d727464-aee0-40db-b0eb-4fb1c9c499ea button.colab-df-convert');\n",
              "        buttonEl.style.display =\n",
              "          google.colab.kernel.accessAllowed ? 'block' : 'none';\n",
              "\n",
              "        async function convertToInteractive(key) {\n",
              "          const element = document.querySelector('#df-0d727464-aee0-40db-b0eb-4fb1c9c499ea');\n",
              "          const dataTable =\n",
              "            await google.colab.kernel.invokeFunction('convertToInteractive',\n",
              "                                                     [key], {});\n",
              "          if (!dataTable) return;\n",
              "\n",
              "          const docLinkHtml = 'Like what you see? Visit the ' +\n",
              "            '<a target=\"_blank\" href=https://colab.research.google.com/notebooks/data_table.ipynb>data table notebook</a>'\n",
              "            + ' to learn more about interactive tables.';\n",
              "          element.innerHTML = '';\n",
              "          dataTable['output_type'] = 'display_data';\n",
              "          await google.colab.output.renderOutput(dataTable, element);\n",
              "          const docLink = document.createElement('div');\n",
              "          docLink.innerHTML = docLinkHtml;\n",
              "          element.appendChild(docLink);\n",
              "        }\n",
              "      </script>\n",
              "    </div>\n",
              "  </div>\n",
              "  "
            ]
          },
          "metadata": {},
          "execution_count": 10
        }
      ]
    },
    {
      "cell_type": "code",
      "source": [
        "df['horsepower'].replace('?', np.nan, inplace=True)"
      ],
      "metadata": {
        "id": "MM7_ohqBFz62"
      },
      "execution_count": 11,
      "outputs": []
    },
    {
      "cell_type": "code",
      "source": [
        "df.isnull().sum()"
      ],
      "metadata": {
        "colab": {
          "base_uri": "https://localhost:8080/"
        },
        "id": "bZYgpIekF1Jb",
        "outputId": "77a7d299-406b-4565-a548-55f4d8cbf12d"
      },
      "execution_count": 12,
      "outputs": [
        {
          "output_type": "execute_result",
          "data": {
            "text/plain": [
              "mpg             0\n",
              "cylinders       0\n",
              "displacement    0\n",
              "horsepower      6\n",
              "weight          0\n",
              "acceleration    0\n",
              "model year      0\n",
              "origin          0\n",
              "car name        0\n",
              "dtype: int64"
            ]
          },
          "metadata": {},
          "execution_count": 12
        }
      ]
    },
    {
      "cell_type": "code",
      "source": [
        "sns.heatmap(df.isnull())"
      ],
      "metadata": {
        "colab": {
          "base_uri": "https://localhost:8080/",
          "height": 344
        },
        "id": "1siFgRNaF2rf",
        "outputId": "2aa2cff9-26eb-495c-f3fc-37bd8359f84b"
      },
      "execution_count": 13,
      "outputs": [
        {
          "output_type": "execute_result",
          "data": {
            "text/plain": [
              "<Axes: >"
            ]
          },
          "metadata": {},
          "execution_count": 13
        },
        {
          "output_type": "display_data",
          "data": {
            "text/plain": [
              "<Figure size 432x288 with 2 Axes>"
            ],
            "image/png": "[encoded data removed]"
          },
          "metadata": {
            "needs_background": "light"
          }
        }
      ]
    },
    {
      "cell_type": "markdown",
      "source": [
        "Checking the **data distribution** in horsepower"
      ],
      "metadata": {
        "id": "Q791OIItF453"
      }
    },
    {
      "cell_type": "code",
      "source": [
        "plt.figure(figsize=(10, 10))\n",
        "plt.hist(df['horsepower'].dropna(), bins=20)\n",
        "plt.xlabel('horsepower')\n",
        "plt.title('Histogram of horsepower')\n",
        "plt.show()"
      ],
      "metadata": {
        "colab": {
          "base_uri": "https://localhost:8080/",
          "height": 621
        },
        "id": "pqWsMxRdF6Ql",
        "outputId": "1ecfdb0e-bc1f-4705-a2bf-d49a942caa02"
      },
      "execution_count": 14,
      "outputs": [
        {
          "output_type": "display_data",
          "data": {
            "text/plain": [
              "<Figure size 720x720 with 1 Axes>"
            ],
            "image/png": "[encoded data removed]"
          },
          "metadata": {
            "needs_background": "light"
          }
        }
      ]
    },
    {
      "cell_type": "markdown",
      "source": [
        "**The distribution is skewed. Hence, the '?' values need to be replaced by the median**"
      ],
      "metadata": {
        "id": "ZmtXNeJHF7tR"
      }
    },
    {
      "cell_type": "code",
      "source": [
        "median = df['horsepower'].median()\n",
        "median"
      ],
      "metadata": {
        "colab": {
          "base_uri": "https://localhost:8080/"
        },
        "id": "A2PGeWbEF8ty",
        "outputId": "0b469c97-4b99-4358-c061-3490601e0a2f"
      },
      "execution_count": 15,
      "outputs": [
        {
          "output_type": "execute_result",
          "data": {
            "text/plain": [
              "93.5"
            ]
          },
          "metadata": {},
          "execution_count": 15
        }
      ]
    },
    {
      "cell_type": "code",
      "source": [
        "df['horsepower'] = df['horsepower'].fillna(median)"
      ],
      "metadata": {
        "id": "JdjNuSmZF90v"
      },
      "execution_count": 16,
      "outputs": []
    },
    {
      "cell_type": "code",
      "source": [
        "sns.heatmap(df.isnull())"
      ],
      "metadata": {
        "colab": {
          "base_uri": "https://localhost:8080/",
          "height": 344
        },
        "id": "Apsh4-ClF-3n",
        "outputId": "b8e21203-8c6b-420a-84a2-5d5757a56c43"
      },
      "execution_count": 17,
      "outputs": [
        {
          "output_type": "execute_result",
          "data": {
            "text/plain": [
              "<Axes: >"
            ]
          },
          "metadata": {},
          "execution_count": 17
        },
        {
          "output_type": "display_data",
          "data": {
            "text/plain": [
              "<Figure size 432x288 with 2 Axes>"
            ],
            "image/png": "[encoded data removed]"
          },
          "metadata": {
            "needs_background": "light"
          }
        }
      ]
    },
    {
      "cell_type": "code",
      "source": [
        "df.isnull().sum()"
      ],
      "metadata": {
        "colab": {
          "base_uri": "https://localhost:8080/"
        },
        "id": "Pw0wttWnF_-Y",
        "outputId": "08ad3081-9edc-4917-e5cf-8f95c6249850"
      },
      "execution_count": 18,
      "outputs": [
        {
          "output_type": "execute_result",
          "data": {
            "text/plain": [
              "mpg             0\n",
              "cylinders       0\n",
              "displacement    0\n",
              "horsepower      0\n",
              "weight          0\n",
              "acceleration    0\n",
              "model year      0\n",
              "origin          0\n",
              "car name        0\n",
              "dtype: int64"
            ]
          },
          "metadata": {},
          "execution_count": 18
        }
      ]
    },
    {
      "cell_type": "markdown",
      "source": [
        "Converting datatype of 'horsepower' from **object to float**"
      ],
      "metadata": {
        "id": "m2pZTwdgGBxI"
      }
    },
    {
      "cell_type": "code",
      "source": [
        "df[['horsepower']] = df[['horsepower']].astype(float)"
      ],
      "metadata": {
        "id": "rzCHXoBuGC9w"
      },
      "execution_count": 19,
      "outputs": []
    },
    {
      "cell_type": "code",
      "source": [
        "df.info()"
      ],
      "metadata": {
        "colab": {
          "base_uri": "https://localhost:8080/"
        },
        "id": "zCyaG3BKGDv5",
        "outputId": "4da50160-3d31-4ba8-b5c2-583f5145a050"
      },
      "execution_count": 20,
      "outputs": [
        {
          "output_type": "stream",
          "name": "stdout",
          "text": [
            "<class 'pandas.core.frame.DataFrame'>\n",
            "RangeIndex: 398 entries, 0 to 397\n",
            "Data columns (total 9 columns):\n",
            " #   Column        Non-Null Count  Dtype  \n",
            "---  ------        --------------  -----  \n",
            " 0   mpg           398 non-null    float64\n",
            " 1   cylinders     398 non-null    int64  \n",
            " 2   displacement  398 non-null    float64\n",
            " 3   horsepower    398 non-null    float64\n",
            " 4   weight        398 non-null    int64  \n",
            " 5   acceleration  398 non-null    float64\n",
            " 6   model year    398 non-null    int64  \n",
            " 7   origin        398 non-null    int64  \n",
            " 8   car name      398 non-null    object \n",
            "dtypes: float64(4), int64(4), object(1)\n",
            "memory usage: 28.1+ KB\n"
          ]
        }
      ]
    },
    {
      "cell_type": "markdown",
      "source": [
        "## Checking for outliers"
      ],
      "metadata": {
        "id": "gPxjdVl7FgAt"
      }
    },
    {
      "cell_type": "code",
      "source": [
        "df_with_outliers = df[['mpg', 'cylinders', 'displacement','horsepower', 'weight', 'acceleration', 'model year', 'origin']]"
      ],
      "metadata": {
        "id": "1Dr334oYGG_w"
      },
      "execution_count": 21,
      "outputs": []
    },
    {
      "cell_type": "code",
      "source": [
        "fig, axs = plt.subplots(ncols=len(df_with_outliers.columns), figsize=(15, 5))\n",
        "for i, col in enumerate(df_with_outliers.columns):\n",
        "    axs[i].boxplot(df_with_outliers[col])\n",
        "    axs[i].set_title(col)\n",
        "\n",
        "plt.show()"
      ],
      "metadata": {
        "colab": {
          "base_uri": "https://localhost:8080/",
          "height": 336
        },
        "id": "5mS6CeF-GG3Z",
        "outputId": "a7b6ad00-e677-4d9b-f445-657fa79f633f"
      },
      "execution_count": 22,
      "outputs": [
        {
          "output_type": "display_data",
          "data": {
            "text/plain": [
              "<Figure size 1080x360 with 8 Axes>"
            ],
            "image/png": "[encoded data removed]"
          },
          "metadata": {
            "needs_background": "light"
          }
        }
      ]
    },
    {
      "cell_type": "markdown",
      "source": [
        "**horsepower, acceleration** have outliers"
      ],
      "metadata": {
        "id": "V6Z6UeuDGKMQ"
      }
    },
    {
      "cell_type": "markdown",
      "source": [
        "### Calculate number of outliers and print their rows for each feature"
      ],
      "metadata": {
        "id": "obBc-TjvGKuc"
      }
    },
    {
      "cell_type": "code",
      "source": [
        "def print_outliers(column):\n",
        "    Q1 = column.quantile(0.25)\n",
        "    Q3 = column.quantile(0.75)\n",
        "    IQR = Q3 - Q1\n",
        "    lower_bound = Q1 - 1.5 * IQR\n",
        "    upper_bound = Q3 + 1.5 * IQR\n",
        "    outliers = column[(column < lower_bound) | (column > upper_bound)]\n",
        "    print(f\"{len(outliers)} outliers in {column.name}:\")\n",
        "    print(df.loc[outliers.index])\n",
        "\n",
        "\n",
        "for col in df_with_outliers.columns:\n",
        "    print_outliers(df_with_outliers[col])"
      ],
      "metadata": {
        "colab": {
          "base_uri": "https://localhost:8080/"
        },
        "id": "bReML5aGGNaA",
        "outputId": "8d8897fb-557d-40a4-e9de-60b5cbed7f8d"
      },
      "execution_count": 23,
      "outputs": [
        {
          "output_type": "stream",
          "name": "stdout",
          "text": [
            "1 outliers in mpg:\n",
            "      mpg  cylinders  displacement  horsepower  weight  acceleration  \\\n",
            "322  46.6          4          86.0        65.0    2110          17.9   \n",
            "\n",
            "     model year  origin   car name  \n",
            "322          80       3  mazda glc  \n",
            "0 outliers in cylinders:\n",
            "Empty DataFrame\n",
            "Columns: [mpg, cylinders, displacement, horsepower, weight, acceleration, model year, origin, car name]\n",
            "Index: []\n",
            "0 outliers in displacement:\n",
            "Empty DataFrame\n",
            "Columns: [mpg, cylinders, displacement, horsepower, weight, acceleration, model year, origin, car name]\n",
            "Index: []\n",
            "11 outliers in horsepower:\n",
            "      mpg  cylinders  displacement  horsepower  weight  acceleration  \\\n",
            "6    14.0          8         454.0       220.0    4354           9.0   \n",
            "7    14.0          8         440.0       215.0    4312           8.5   \n",
            "8    14.0          8         455.0       225.0    4425          10.0   \n",
            "13   14.0          8         455.0       225.0    3086          10.0   \n",
            "25   10.0          8         360.0       215.0    4615          14.0   \n",
            "26   10.0          8         307.0       200.0    4376          15.0   \n",
            "27   11.0          8         318.0       210.0    4382          13.5   \n",
            "67   11.0          8         429.0       208.0    4633          11.0   \n",
            "94   13.0          8         440.0       215.0    4735          11.0   \n",
            "95   12.0          8         455.0       225.0    4951          11.0   \n",
            "116  16.0          8         400.0       230.0    4278           9.5   \n",
            "\n",
            "     model year  origin                      car name  \n",
            "6            70       1              chevrolet impala  \n",
            "7            70       1             plymouth fury iii  \n",
            "8            70       1              pontiac catalina  \n",
            "13           70       1       buick estate wagon (sw)  \n",
            "25           70       1                     ford f250  \n",
            "26           70       1                     chevy c20  \n",
            "27           70       1                    dodge d200  \n",
            "67           72       1               mercury marquis  \n",
            "94           73       1  chrysler new yorker brougham  \n",
            "95           73       1      buick electra 225 custom  \n",
            "116          73       1            pontiac grand prix  \n",
            "0 outliers in weight:\n",
            "Empty DataFrame\n",
            "Columns: [mpg, cylinders, displacement, horsepower, weight, acceleration, model year, origin, car name]\n",
            "Index: []\n",
            "7 outliers in acceleration:\n",
            "      mpg  cylinders  displacement  horsepower  weight  acceleration  \\\n",
            "7    14.0          8         440.0       215.0    4312           8.5   \n",
            "9    15.0          8         390.0       190.0    3850           8.5   \n",
            "11   14.0          8         340.0       160.0    3609           8.0   \n",
            "59   23.0          4          97.0        54.0    2254          23.5   \n",
            "299  27.2          4         141.0        71.0    3190          24.8   \n",
            "326  43.4          4          90.0        48.0    2335          23.7   \n",
            "394  44.0          4          97.0        52.0    2130          24.6   \n",
            "\n",
            "     model year  origin            car name  \n",
            "7            70       1   plymouth fury iii  \n",
            "9            70       1  amc ambassador dpl  \n",
            "11           70       1  plymouth 'cuda 340  \n",
            "59           72       2   volkswagen type 3  \n",
            "299          79       2         peugeot 504  \n",
            "326          80       2  vw dasher (diesel)  \n",
            "394          82       2           vw pickup  \n",
            "0 outliers in model year:\n",
            "Empty DataFrame\n",
            "Columns: [mpg, cylinders, displacement, horsepower, weight, acceleration, model year, origin, car name]\n",
            "Index: []\n",
            "0 outliers in origin:\n",
            "Empty DataFrame\n",
            "Columns: [mpg, cylinders, displacement, horsepower, weight, acceleration, model year, origin, car name]\n",
            "Index: []\n"
          ]
        }
      ]
    },
    {
      "cell_type": "markdown",
      "source": [
        "11 outliers in horsepower, 7 outliers in acceleration"
      ],
      "metadata": {
        "id": "K-to4-2tGPQF"
      }
    },
    {
      "cell_type": "code",
      "source": [
        "for col in df_with_outliers.columns:\n",
        "  plt.figure(figsize=(7, 7))\n",
        "  df_with_outliers[col].hist()\n",
        "  plt.xlabel(col)\n",
        "  plt.title('Histogram of {}'.format(col))\n",
        "  plt.show()"
      ],
      "metadata": {
        "colab": {
          "base_uri": "https://localhost:8080/",
          "height": 1000
        },
        "id": "E9iO1BrRGQT2",
        "outputId": "f260f003-a7d9-4128-c6fa-c04c8399f647"
      },
      "execution_count": 24,
      "outputs": [
        {
          "output_type": "display_data",
          "data": {
            "text/plain": [
              "<Figure size 504x504 with 1 Axes>"
            ],
            "image/png": "[encoded data removed]"
          },
          "metadata": {
            "needs_background": "light"
          }
        },
        {
          "output_type": "display_data",
          "data": {
            "text/plain": [
              "<Figure size 504x504 with 1 Axes>"
            ],
            "image/png": "[encoded data removed]"
          },
          "metadata": {
            "needs_background": "light"
          }
        },
        {
          "output_type": "display_data",
          "data": {
            "text/plain": [
              "<Figure size 504x504 with 1 Axes>"
            ],
            "image/png": "[encoded data removed]"
          },
          "metadata": {
            "needs_background": "light"
          }
        },
        {
          "output_type": "display_data",
          "data": {
            "text/plain": [
              "<Figure size 504x504 with 1 Axes>"
            ],
            "image/png": "[encoded data removed]"
          },
          "metadata": {
            "needs_background": "light"
          }
        },
        {
          "output_type": "display_data",
          "data": {
            "text/plain": [
              "<Figure size 504x504 with 1 Axes>"
            ],
            "image/png": "[encoded data removed]"
          },
          "metadata": {
            "needs_background": "light"
          }
        },
        {
          "output_type": "display_data",
          "data": {
            "text/plain": [
              "<Figure size 504x504 with 1 Axes>"
            ],
            "image/png": "[encoded data removed]"
          },
          "metadata": {
            "needs_background": "light"
          }
        },
        {
          "output_type": "display_data",
          "data": {
            "text/plain": [
              "<Figure size 504x504 with 1 Axes>"
            ],
            "image/png": "[encoded data removed]"
          },
          "metadata": {
            "needs_background": "light"
          }
        },
        {
          "output_type": "display_data",
          "data": {
            "text/plain": [
              "<Figure size 504x504 with 1 Axes>"
            ],
            "image/png": "[encoded data removed]"
          },
          "metadata": {
            "needs_background": "light"
          }
        }
      ]
    },
    {
      "cell_type": "code",
      "source": [
        "percent_outliers_horsepower = (11/398) * 100\n",
        "percent_outliers_acceleration = (7/398) * 100"
      ],
      "metadata": {
        "id": "jU4cJXlmGSEu"
      },
      "execution_count": 25,
      "outputs": []
    },
    {
      "cell_type": "code",
      "source": [
        "percent_outliers_horsepower"
      ],
      "metadata": {
        "colab": {
          "base_uri": "https://localhost:8080/"
        },
        "id": "efZxJHDkGR9Y",
        "outputId": "9818c041-3967-45d2-b250-27b41daff59f"
      },
      "execution_count": 26,
      "outputs": [
        {
          "output_type": "execute_result",
          "data": {
            "text/plain": [
              "2.763819095477387"
            ]
          },
          "metadata": {},
          "execution_count": 26
        }
      ]
    },
    {
      "cell_type": "code",
      "source": [
        "percent_outliers_acceleration"
      ],
      "metadata": {
        "colab": {
          "base_uri": "https://localhost:8080/"
        },
        "id": "1vn4ApOxGUyp",
        "outputId": "c232c01a-534f-4ed2-d9cd-4f4fcdd8a94d"
      },
      "execution_count": 27,
      "outputs": [
        {
          "output_type": "execute_result",
          "data": {
            "text/plain": [
              "1.7587939698492463"
            ]
          },
          "metadata": {},
          "execution_count": 27
        }
      ]
    },
    {
      "cell_type": "markdown",
      "source": [
        "### Horsepower"
      ],
      "metadata": {
        "id": "aS7DgrVQGVfh"
      }
    },
    {
      "cell_type": "code",
      "source": [
        "df['horsepower'].quantile(0.97)"
      ],
      "metadata": {
        "colab": {
          "base_uri": "https://localhost:8080/"
        },
        "id": "XxuSV3UhGZuJ",
        "outputId": "faa08ba0-71c9-4b8d-9444-aafe4292706c"
      },
      "execution_count": 28,
      "outputs": [
        {
          "output_type": "execute_result",
          "data": {
            "text/plain": [
              "198.0"
            ]
          },
          "metadata": {},
          "execution_count": 28
        }
      ]
    },
    {
      "cell_type": "code",
      "source": [
        "hp_outliers_indices = [6,7,8,13,25,26,27,67,94,95,116]"
      ],
      "metadata": {
        "id": "I2GkIYewGZnA"
      },
      "execution_count": 29,
      "outputs": []
    },
    {
      "cell_type": "code",
      "source": [
        "for index in hp_outliers_indices:\n",
        "  df.loc[index, 'horsepower'] = median"
      ],
      "metadata": {
        "id": "GSb6n-aFGZja"
      },
      "execution_count": 30,
      "outputs": []
    },
    {
      "cell_type": "code",
      "source": [
        "df.loc[116]"
      ],
      "metadata": {
        "colab": {
          "base_uri": "https://localhost:8080/"
        },
        "id": "rIXBUvXvGd90",
        "outputId": "af7922a2-5bcb-4e41-aec5-2975f31cfee2"
      },
      "execution_count": 31,
      "outputs": [
        {
          "output_type": "execute_result",
          "data": {
            "text/plain": [
              "mpg                           16.0\n",
              "cylinders                        8\n",
              "displacement                 400.0\n",
              "horsepower                    93.5\n",
              "weight                        4278\n",
              "acceleration                   9.5\n",
              "model year                      73\n",
              "origin                           1\n",
              "car name        pontiac grand prix\n",
              "Name: 116, dtype: object"
            ]
          },
          "metadata": {},
          "execution_count": 31
        }
      ]
    },
    {
      "cell_type": "markdown",
      "source": [
        "### Acceleration"
      ],
      "metadata": {
        "id": "lhfvNZ-lGXOE"
      }
    },
    {
      "cell_type": "code",
      "source": [
        "df['acceleration'].quantile(0.98)"
      ],
      "metadata": {
        "colab": {
          "base_uri": "https://localhost:8080/"
        },
        "id": "8XIJLXlPGfjW",
        "outputId": "8d0b0b1e-2f97-43a2-d161-a73c6d7f2cdf"
      },
      "execution_count": 32,
      "outputs": [
        {
          "output_type": "execute_result",
          "data": {
            "text/plain": [
              "21.806"
            ]
          },
          "metadata": {},
          "execution_count": 32
        }
      ]
    },
    {
      "cell_type": "code",
      "source": [
        "acc_outliers_indices = [7,9,11,59,299,326,394]"
      ],
      "metadata": {
        "id": "2Erm5ttvGfct"
      },
      "execution_count": 33,
      "outputs": []
    },
    {
      "cell_type": "code",
      "source": [
        "plt.figure(figsize=(15, 15))\n",
        "plt.hist(df['acceleration'], bins=20)\n",
        "plt.xlabel('acceleration')\n",
        "plt.title('Histogram of acceleration')\n",
        "plt.show()"
      ],
      "metadata": {
        "colab": {
          "base_uri": "https://localhost:8080/",
          "height": 893
        },
        "id": "83heoTQEGfU5",
        "outputId": "b11ff670-4b6f-45d8-8b9e-766d5208a13c"
      },
      "execution_count": 34,
      "outputs": [
        {
          "output_type": "display_data",
          "data": {
            "text/plain": [
              "<Figure size 1080x1080 with 1 Axes>"
            ],
            "image/png": "[encoded data removed]"
          },
          "metadata": {
            "needs_background": "light"
          }
        }
      ]
    },
    {
      "cell_type": "code",
      "source": [
        "acc_mean = df['acceleration'].mean()\n",
        "acc_mean"
      ],
      "metadata": {
        "colab": {
          "base_uri": "https://localhost:8080/"
        },
        "id": "BMsKDI4jGjNZ",
        "outputId": "3505372b-74ff-4d37-9ada-c4a20f1462b7"
      },
      "execution_count": 35,
      "outputs": [
        {
          "output_type": "execute_result",
          "data": {
            "text/plain": [
              "15.568090452261307"
            ]
          },
          "metadata": {},
          "execution_count": 35
        }
      ]
    },
    {
      "cell_type": "code",
      "source": [
        "for index in acc_outliers_indices:\n",
        "  df.loc[index, 'acceleration'] = acc_mean"
      ],
      "metadata": {
        "id": "WX_OIUfEGkJ-"
      },
      "execution_count": 36,
      "outputs": []
    },
    {
      "cell_type": "code",
      "source": [
        "df.loc[11]"
      ],
      "metadata": {
        "colab": {
          "base_uri": "https://localhost:8080/"
        },
        "id": "jWx6Hh4QGlLH",
        "outputId": "cf4d112a-1fc4-4d4b-b8f5-fc7760be5695"
      },
      "execution_count": 37,
      "outputs": [
        {
          "output_type": "execute_result",
          "data": {
            "text/plain": [
              "mpg                           14.0\n",
              "cylinders                        8\n",
              "displacement                 340.0\n",
              "horsepower                   160.0\n",
              "weight                        3609\n",
              "acceleration              15.56809\n",
              "model year                      70\n",
              "origin                           1\n",
              "car name        plymouth 'cuda 340\n",
              "Name: 11, dtype: object"
            ]
          },
          "metadata": {},
          "execution_count": 37
        }
      ]
    },
    {
      "cell_type": "markdown",
      "source": [
        "### Checking if outliers are still there"
      ],
      "metadata": {
        "id": "36OwU8VqGmLV"
      }
    },
    {
      "cell_type": "code",
      "source": [
        "selected_features = ['mpg', 'cylinders', 'displacement','horsepower', 'weight', 'acceleration', 'model year', 'origin']\n",
        "df_wout_outliers = df[selected_features].copy()"
      ],
      "metadata": {
        "id": "v4uCXBQeGqER"
      },
      "execution_count": 38,
      "outputs": []
    },
    {
      "cell_type": "code",
      "source": [
        "def print_outliers(column):\n",
        "    Q1 = column.quantile(0.25)\n",
        "    Q3 = column.quantile(0.75)\n",
        "    IQR = Q3 - Q1\n",
        "    lower_bound = Q1 - 1.5 * IQR\n",
        "    upper_bound = Q3 + 1.5 * IQR\n",
        "    outliers = column[(column < lower_bound) | (column > upper_bound)]\n",
        "    print(f\"{len(outliers)} outliers in {column.name}:\")\n",
        "    print(df_wout_outliers.loc[outliers.index])\n",
        "\n",
        "\n",
        "for col in df_wout_outliers.columns:\n",
        "    print_outliers(df_wout_outliers[col])"
      ],
      "metadata": {
        "colab": {
          "base_uri": "https://localhost:8080/"
        },
        "id": "xxt0NzPKGw8Z",
        "outputId": "2152108b-9816-46e6-8cc7-6ffe9b4e8ff7"
      },
      "execution_count": 39,
      "outputs": [
        {
          "output_type": "stream",
          "name": "stdout",
          "text": [
            "1 outliers in mpg:\n",
            "      mpg  cylinders  displacement  horsepower  weight  acceleration  \\\n",
            "322  46.6          4          86.0        65.0    2110          17.9   \n",
            "\n",
            "     model year  origin  \n",
            "322          80       3  \n",
            "0 outliers in cylinders:\n",
            "Empty DataFrame\n",
            "Columns: [mpg, cylinders, displacement, horsepower, weight, acceleration, model year, origin]\n",
            "Index: []\n",
            "0 outliers in displacement:\n",
            "Empty DataFrame\n",
            "Columns: [mpg, cylinders, displacement, horsepower, weight, acceleration, model year, origin]\n",
            "Index: []\n",
            "16 outliers in horsepower:\n",
            "      mpg  cylinders  displacement  horsepower  weight  acceleration  \\\n",
            "5    15.0          8         429.0       198.0    4341      10.00000   \n",
            "9    15.0          8         390.0       190.0    3850      15.56809   \n",
            "28    9.0          8         304.0       193.0    4732      18.50000   \n",
            "39   14.0          8         400.0       175.0    4464      11.50000   \n",
            "42   12.0          8         383.0       180.0    4955      11.50000   \n",
            "44   13.0          8         400.0       175.0    5140      12.00000   \n",
            "63   14.0          8         400.0       175.0    4385      12.00000   \n",
            "70   13.0          8         400.0       190.0    4422      12.50000   \n",
            "85   13.0          8         350.0       175.0    4100      13.00000   \n",
            "90   12.0          8         429.0       198.0    4952      11.50000   \n",
            "96   13.0          8         360.0       175.0    3821      11.00000   \n",
            "106  12.0          8         350.0       180.0    4499      12.50000   \n",
            "124  11.0          8         350.0       180.0    3664      11.00000   \n",
            "212  16.5          8         350.0       180.0    4380      12.10000   \n",
            "229  16.0          8         400.0       180.0    4220      11.10000   \n",
            "231  15.5          8         400.0       190.0    4325      12.20000   \n",
            "\n",
            "     model year  origin  \n",
            "5            70       1  \n",
            "9            70       1  \n",
            "28           70       1  \n",
            "39           71       1  \n",
            "42           71       1  \n",
            "44           71       1  \n",
            "63           72       1  \n",
            "70           72       1  \n",
            "85           73       1  \n",
            "90           73       1  \n",
            "96           73       1  \n",
            "106          73       1  \n",
            "124          73       1  \n",
            "212          76       1  \n",
            "229          77       1  \n",
            "231          77       1  \n",
            "0 outliers in weight:\n",
            "Empty DataFrame\n",
            "Columns: [mpg, cylinders, displacement, horsepower, weight, acceleration, model year, origin]\n",
            "Index: []\n",
            "7 outliers in acceleration:\n",
            "      mpg  cylinders  displacement  horsepower  weight  acceleration  \\\n",
            "6    14.0          8         454.0        93.5    4354           9.0   \n",
            "195  29.0          4          85.0        52.0    2035          22.2   \n",
            "196  24.5          4          98.0        60.0    2164          22.1   \n",
            "209  19.0          4         120.0        88.0    3270          21.9   \n",
            "300  23.9          8         260.0        90.0    3420          22.2   \n",
            "325  44.3          4          90.0        48.0    2085          21.7   \n",
            "328  30.0          4         146.0        67.0    3250          21.8   \n",
            "\n",
            "     model year  origin  \n",
            "6            70       1  \n",
            "195          76       1  \n",
            "196          76       1  \n",
            "209          76       2  \n",
            "300          79       1  \n",
            "325          80       2  \n",
            "328          80       2  \n",
            "0 outliers in model year:\n",
            "Empty DataFrame\n",
            "Columns: [mpg, cylinders, displacement, horsepower, weight, acceleration, model year, origin]\n",
            "Index: []\n",
            "0 outliers in origin:\n",
            "Empty DataFrame\n",
            "Columns: [mpg, cylinders, displacement, horsepower, weight, acceleration, model year, origin]\n",
            "Index: []\n"
          ]
        }
      ]
    },
    {
      "cell_type": "code",
      "source": [
        "for col in df_wout_outliers.columns:\n",
        "  plt.figure(figsize=(7, 7))\n",
        "  df_wout_outliers[col].hist()\n",
        "  plt.xlabel(col)\n",
        "  plt.title('Histogram of {}'.format(col))\n",
        "  plt.show()"
      ],
      "metadata": {
        "colab": {
          "base_uri": "https://localhost:8080/",
          "height": 1000
        },
        "id": "Dr7m6elxGyYk",
        "outputId": "9f14d3cb-18d9-4946-ab9a-23243777a1af"
      },
      "execution_count": 40,
      "outputs": [
        {
          "output_type": "display_data",
          "data": {
            "text/plain": [
              "<Figure size 504x504 with 1 Axes>"
            ],
            "image/png": "[encoded data removed]"
          },
          "metadata": {
            "needs_background": "light"
          }
        },
        {
          "output_type": "display_data",
          "data": {
            "text/plain": [
              "<Figure size 504x504 with 1 Axes>"
            ],
            "image/png": "[encoded data removed]"
          },
          "metadata": {
            "needs_background": "light"
          }
        },
        {
          "output_type": "display_data",
          "data": {
            "text/plain": [
              "<Figure size 504x504 with 1 Axes>"
            ],
            "image/png": "[encoded data removed]"
          },
          "metadata": {
            "needs_background": "light"
          }
        },
        {
          "output_type": "display_data",
          "data": {
            "text/plain": [
              "<Figure size 504x504 with 1 Axes>"
            ],
            "image/png": "[encoded data removed]"
          },
          "metadata": {
            "needs_background": "light"
          }
        },
        {
          "output_type": "display_data",
          "data": {
            "text/plain": [
              "<Figure size 504x504 with 1 Axes>"
            ],
            "image/png": "[encoded data removed]"
          },
          "metadata": {
            "needs_background": "light"
          }
        },
        {
          "output_type": "display_data",
          "data": {
            "text/plain": [
              "<Figure size 504x504 with 1 Axes>"
            ],
            "image/png": "[encoded data removed]"
          },
          "metadata": {
            "needs_background": "light"
          }
        },
        {
          "output_type": "display_data",
          "data": {
            "text/plain": [
              "<Figure size 504x504 with 1 Axes>"
            ],
            "image/png": "[encoded data removed]"
          },
          "metadata": {
            "needs_background": "light"
          }
        },
        {
          "output_type": "display_data",
          "data": {
            "text/plain": [
              "<Figure size 504x504 with 1 Axes>"
            ],
            "image/png": "[encoded data removed]"
          },
          "metadata": {
            "needs_background": "light"
          }
        }
      ]
    },
    {
      "cell_type": "markdown",
      "source": [
        "Even after replacing initially found outliers with median/mean, other values are being considered as outliers. This means that the intial set of outliers are **NOT outliers**"
      ],
      "metadata": {
        "id": "Tr4upKyPG0ol"
      }
    },
    {
      "cell_type": "markdown",
      "source": [
        "## Checking for duplicate data"
      ],
      "metadata": {
        "id": "QXbY6DLRFf6w"
      }
    },
    {
      "cell_type": "code",
      "source": [
        "duplicates = df.duplicated(subset=df.columns, keep=False)\n",
        "df[duplicates]"
      ],
      "metadata": {
        "colab": {
          "base_uri": "https://localhost:8080/",
          "height": 49
        },
        "id": "iyG8FaeBFfX9",
        "outputId": "f4c6190b-526a-4dc9-ea1e-8356a9330a8a"
      },
      "execution_count": 41,
      "outputs": [
        {
          "output_type": "execute_result",
          "data": {
            "text/plain": [
              "Empty DataFrame\n",
              "Columns: [mpg, cylinders, displacement, horsepower, weight, acceleration, model year, origin, car name]\n",
              "Index: []"
            ],
            "text/html": [
              "\n",
              "  <div id=\"df-2ebe9af2-bce2-48ce-a9a2-5fcba6be0807\">\n",
              "    <div class=\"colab-df-container\">\n",
              "      <div>\n",
              "<style scoped>\n",
              "    .dataframe tbody tr th:only-of-type {\n",
              "        vertical-align: middle;\n",
              "    }\n",
              "\n",
              "    .dataframe tbody tr th {\n",
              "        vertical-align: top;\n",
              "    }\n",
              "\n",
              "    .dataframe thead th {\n",
              "        text-align: right;\n",
              "    }\n",
              "</style>\n",
              "<table border=\"1\" class=\"dataframe\">\n",
              "  <thead>\n",
              "    <tr style=\"text-align: right;\">\n",
              "      <th></th>\n",
              "      <th>mpg</th>\n",
              "      <th>cylinders</th>\n",
              "      <th>displacement</th>\n",
              "      <th>horsepower</th>\n",
              "      <th>weight</th>\n",
              "      <th>acceleration</th>\n",
              "      <th>model year</th>\n",
              "      <th>origin</th>\n",
              "      <th>car name</th>\n",
              "    </tr>\n",
              "  </thead>\n",
              "  <tbody>\n",
              "  </tbody>\n",
              "</table>\n",
              "</div>\n",
              "      <button class=\"colab-df-convert\" onclick=\"convertToInteractive('df-2ebe9af2-bce2-48ce-a9a2-5fcba6be0807')\"\n",
              "              title=\"Convert this dataframe to an interactive table.\"\n",
              "              style=\"display:none;\">\n",
              "        \n",
              "  <svg xmlns=\"http://www.w3.org/2000/svg\" height=\"24px\"viewBox=\"0 0 24 24\"\n",
              "       width=\"24px\">\n",
              "    <path d=\"M0 0h24v24H0V0z\" fill=\"none\"/>\n",
              "    <path d=\"M18.56 5.44l.94 2.06.94-2.06 2.06-.94-2.06-.94-.94-2.06-.94 2.06-2.06.94zm-11 1L8.5 8.5l.94-2.06 2.06-.94-2.06-.94L8.5 2.5l-.94 2.06-2.06.94zm10 10l.94 2.06.94-2.06 2.06-.94-2.06-.94-.94-2.06-.94 2.06-2.06.94z\"/><path d=\"M17.41 7.96l-1.37-1.37c-.4-.4-.92-.59-1.43-.59-.52 0-1.04.2-1.43.59L10.3 9.45l-7.72 7.72c-.78.78-.78 2.05 0 2.83L4 21.41c.39.39.9.59 1.41.59.51 0 1.02-.2 1.41-.59l7.78-7.78 2.81-2.81c.8-.78.8-2.07 0-2.86zM5.41 20L4 18.59l7.72-7.72 1.47 1.35L5.41 20z\"/>\n",
              "  </svg>\n",
              "      </button>\n",
              "      \n",
              "  <style>\n",
              "    .colab-df-container {\n",
              "      display:flex;\n",
              "      flex-wrap:wrap;\n",
              "      gap: 12px;\n",
              "    }\n",
              "\n",
              "    .colab-df-convert {\n",
              "      background-color: #E8F0FE;\n",
              "      border: none;\n",
              "      border-radius: 50%;\n",
              "      cursor: pointer;\n",
              "      display: none;\n",
              "      fill: #1967D2;\n",
              "      height: 32px;\n",
              "      padding: 0 0 0 0;\n",
              "      width: 32px;\n",
              "    }\n",
              "\n",
              "    .colab-df-convert:hover {\n",
              "      background-color: #E2EBFA;\n",
              "      box-shadow: 0px 1px 2px rgba(60, 64, 67, 0.3), 0px 1px 3px 1px rgba(60, 64, 67, 0.15);\n",
              "      fill: #174EA6;\n",
              "    }\n",
              "\n",
              "    [theme=dark] .colab-df-convert {\n",
              "      background-color: #3B4455;\n",
              "      fill: #D2E3FC;\n",
              "    }\n",
              "\n",
              "    [theme=dark] .colab-df-convert:hover {\n",
              "      background-color: #434B5C;\n",
              "      box-shadow: 0px 1px 3px 1px rgba(0, 0, 0, 0.15);\n",
              "      filter: drop-shadow(0px 1px 2px rgba(0, 0, 0, 0.3));\n",
              "      fill: #FFFFFF;\n",
              "    }\n",
              "  </style>\n",
              "\n",
              "      <script>\n",
              "        const buttonEl =\n",
              "          document.querySelector('#df-2ebe9af2-bce2-48ce-a9a2-5fcba6be0807 button.colab-df-convert');\n",
              "        buttonEl.style.display =\n",
              "          google.colab.kernel.accessAllowed ? 'block' : 'none';\n",
              "\n",
              "        async function convertToInteractive(key) {\n",
              "          const element = document.querySelector('#df-2ebe9af2-bce2-48ce-a9a2-5fcba6be0807');\n",
              "          const dataTable =\n",
              "            await google.colab.kernel.invokeFunction('convertToInteractive',\n",
              "                                                     [key], {});\n",
              "          if (!dataTable) return;\n",
              "\n",
              "          const docLinkHtml = 'Like what you see? Visit the ' +\n",
              "            '<a target=\"_blank\" href=https://colab.research.google.com/notebooks/data_table.ipynb>data table notebook</a>'\n",
              "            + ' to learn more about interactive tables.';\n",
              "          element.innerHTML = '';\n",
              "          dataTable['output_type'] = 'display_data';\n",
              "          await google.colab.output.renderOutput(dataTable, element);\n",
              "          const docLink = document.createElement('div');\n",
              "          docLink.innerHTML = docLinkHtml;\n",
              "          element.appendChild(docLink);\n",
              "        }\n",
              "      </script>\n",
              "    </div>\n",
              "  </div>\n",
              "  "
            ]
          },
          "metadata": {},
          "execution_count": 41
        }
      ]
    },
    {
      "cell_type": "markdown",
      "source": [
        "We saw that\n",
        "\n",
        "> cylinders - 5 unique values\n",
        "\n",
        "> model year - 13 unique values\n",
        "\n",
        "> origin - 3 unique values\n",
        "\n",
        "A car model with the same model year, origin and no. of cylinders can't have varying horsepower, displacement, weight, mpg.\n",
        "\n",
        "Let us check if there are any rows which have **same car name, model year, origin** and **different horsepower, mpg, etc.**"
      ],
      "metadata": {
        "id": "SeuVgQcaG3cB"
      }
    },
    {
      "cell_type": "code",
      "source": [
        "col_duplicates = ['cylinders', 'model year', 'origin','car name']\n",
        "duplicates = df.duplicated(subset=col_duplicates, keep=False)\n",
        "\n",
        "# print rows with duplicates\n",
        "print(df[duplicates])"
      ],
      "metadata": {
        "colab": {
          "base_uri": "https://localhost:8080/"
        },
        "id": "O8dWOme7G5jm",
        "outputId": "de250478-1e3a-4f4c-96da-0a3275905261"
      },
      "execution_count": 42,
      "outputs": [
        {
          "output_type": "stream",
          "name": "stdout",
          "text": [
            "      mpg  cylinders  displacement  horsepower  weight  acceleration  \\\n",
            "338  27.2          4         135.0        84.0    2490          15.7   \n",
            "342  30.0          4         135.0        84.0    2385          12.9   \n",
            "\n",
            "     model year  origin          car name  \n",
            "338          81       1  plymouth reliant  \n",
            "342          81       1  plymouth reliant  \n"
          ]
        }
      ]
    },
    {
      "cell_type": "code",
      "source": [
        "col_duplicates = ['model year', 'origin','car name']\n",
        "duplicates = df.duplicated(subset=col_duplicates, keep=False)\n",
        "\n",
        "# print rows with duplicates\n",
        "print(df[duplicates])"
      ],
      "metadata": {
        "colab": {
          "base_uri": "https://localhost:8080/"
        },
        "id": "yRmXnLOUG6kB",
        "outputId": "a2e752d3-ae1e-4bfb-f516-03bb791bed69"
      },
      "execution_count": 43,
      "outputs": [
        {
          "output_type": "stream",
          "name": "stdout",
          "text": [
            "      mpg  cylinders  displacement  horsepower  weight  acceleration  \\\n",
            "168  23.0          4         140.0        83.0    2639          17.0   \n",
            "174  18.0          6         171.0        97.0    2984          14.5   \n",
            "338  27.2          4         135.0        84.0    2490          15.7   \n",
            "342  30.0          4         135.0        84.0    2385          12.9   \n",
            "\n",
            "     model year  origin          car name  \n",
            "168          75       1        ford pinto  \n",
            "174          75       1        ford pinto  \n",
            "338          81       1  plymouth reliant  \n",
            "342          81       1  plymouth reliant  \n"
          ]
        }
      ]
    },
    {
      "cell_type": "code",
      "source": [
        "col_duplicates = ['cylinders', 'origin','car name']\n",
        "duplicates = df.duplicated(subset=col_duplicates, keep=False)\n",
        "\n",
        "# print rows with duplicates\n",
        "print(df[duplicates])"
      ],
      "metadata": {
        "colab": {
          "base_uri": "https://localhost:8080/"
        },
        "id": "ZgIJCiX3G7vs",
        "outputId": "2d448bdf-4ee3-4064-fba5-f18fc923f770"
      },
      "execution_count": 44,
      "outputs": [
        {
          "output_type": "stream",
          "name": "stdout",
          "text": [
            "      mpg  cylinders  displacement  horsepower  weight  acceleration  \\\n",
            "5    15.0          8         429.0       198.0    4341      10.00000   \n",
            "6    14.0          8         454.0        93.5    4354       9.00000   \n",
            "7    14.0          8         440.0        93.5    4312      15.56809   \n",
            "8    14.0          8         455.0        93.5    4425      10.00000   \n",
            "13   14.0          8         455.0        93.5    3086      10.00000   \n",
            "..    ...        ...           ...         ...     ...           ...   \n",
            "363  22.4          6         231.0       110.0    3415      15.80000   \n",
            "372  27.0          4         151.0        90.0    2735      18.00000   \n",
            "381  36.0          4         107.0        75.0    2205      14.50000   \n",
            "382  34.0          4         108.0        70.0    2245      16.90000   \n",
            "383  38.0          4          91.0        67.0    1965      15.00000   \n",
            "\n",
            "     model year  origin                 car name  \n",
            "5            70       1         ford galaxie 500  \n",
            "6            70       1         chevrolet impala  \n",
            "7            70       1        plymouth fury iii  \n",
            "8            70       1         pontiac catalina  \n",
            "13           70       1  buick estate wagon (sw)  \n",
            "..          ...     ...                      ...  \n",
            "363          81       1            buick century  \n",
            "372          82       1          pontiac phoenix  \n",
            "381          82       3             honda accord  \n",
            "382          82       3           toyota corolla  \n",
            "383          82       3              honda civic  \n",
            "\n",
            "[137 rows x 9 columns]\n"
          ]
        }
      ]
    },
    {
      "cell_type": "markdown",
      "source": [
        "Although these 137 rows have duplicates, deleting 137 would result in a loss of information."
      ],
      "metadata": {
        "id": "YQK3PKJcG9yr"
      }
    },
    {
      "cell_type": "markdown",
      "source": [
        "### Deleting duplicate rows"
      ],
      "metadata": {
        "id": "FdqtvWNJG-XR"
      }
    },
    {
      "cell_type": "code",
      "source": [
        "df.drop_duplicates(subset = [\"car name\", \"origin\", \"model year\"], inplace = True)"
      ],
      "metadata": {
        "id": "Ey6C7EO-HATY"
      },
      "execution_count": 45,
      "outputs": []
    },
    {
      "cell_type": "code",
      "source": [
        "col_duplicates = ['model year', 'origin','car name']\n",
        "duplicates = df.duplicated(subset=col_duplicates, keep=False)\n",
        "\n",
        "if duplicates.any():\n",
        "    print(\"Duplicates found\")\n",
        "    print(df[duplicates])\n",
        "else:\n",
        "    print(\"No duplicates found\")"
      ],
      "metadata": {
        "colab": {
          "base_uri": "https://localhost:8080/"
        },
        "id": "m2pD_MRsHB6F",
        "outputId": "cc19a3d0-3f22-495f-e8e7-ea362c280d16"
      },
      "execution_count": 46,
      "outputs": [
        {
          "output_type": "stream",
          "name": "stdout",
          "text": [
            "No duplicates found\n"
          ]
        }
      ]
    },
    {
      "cell_type": "markdown",
      "source": [
        "## EDA"
      ],
      "metadata": {
        "id": "S5-9wX6JHCj7"
      }
    },
    {
      "cell_type": "markdown",
      "source": [
        "### Lineplot"
      ],
      "metadata": {
        "id": "UWTrf-erHQSV"
      }
    },
    {
      "cell_type": "code",
      "source": [
        "cols_for_graph = ['cylinders', 'displacement', 'weight', 'horsepower',\n",
        "       'acceleration', 'model year', 'origin']"
      ],
      "metadata": {
        "id": "LpBwGU40IG1b"
      },
      "execution_count": 47,
      "outputs": []
    },
    {
      "cell_type": "code",
      "source": [
        "for col in cols_for_graph:\n",
        "  sns.lineplot(x=col, y='mpg', data=df)\n",
        "  plt.xlabel(col)\n",
        "  plt.ylabel('mpg')\n",
        "  plt.title('Line Graph between {} and mpg'.format(col))\n",
        "  plt.show()"
      ],
      "metadata": {
        "colab": {
          "base_uri": "https://localhost:8080/",
          "height": 1000
        },
        "id": "80w159KwIHnh",
        "outputId": "165b2b72-aba2-4241-f5cd-adc7aab301bc"
      },
      "execution_count": 48,
      "outputs": [
        {
          "output_type": "display_data",
          "data": {
            "text/plain": [
              "<Figure size 432x288 with 1 Axes>"
            ],
            "image/png": "[encoded data removed]"
          },
          "metadata": {
            "needs_background": "light"
          }
        },
        {
          "output_type": "display_data",
          "data": {
            "text/plain": [
              "<Figure size 432x288 with 1 Axes>"
            ],
            "image/png": "[encoded data removed]"
          },
          "metadata": {
            "needs_background": "light"
          }
        },
        {
          "output_type": "display_data",
          "data": {
            "text/plain": [
              "<Figure size 432x288 with 1 Axes>"
            ],
            "image/png": "[encoded data removed]"
          },
          "metadata": {
            "needs_background": "light"
          }
        },
        {
          "output_type": "display_data",
          "data": {
            "text/plain": [
              "<Figure size 432x288 with 1 Axes>"
            ],
            "image/png": "[encoded data removed]"
          },
          "metadata": {
            "needs_background": "light"
          }
        },
        {
          "output_type": "display_data",
          "data": {
            "text/plain": [
              "<Figure size 432x288 with 1 Axes>"
            ],
            "image/png": "[encoded data removed]"
          },
          "metadata": {
            "needs_background": "light"
          }
        },
        {
          "output_type": "display_data",
          "data": {
            "text/plain": [
              "<Figure size 432x288 with 1 Axes>"
            ],
            "image/png": "[encoded data removed]"
          },
          "metadata": {
            "needs_background": "light"
          }
        },
        {
          "output_type": "display_data",
          "data": {
            "text/plain": [
              "<Figure size 432x288 with 1 Axes>"
            ],
            "image/png": "[encoded data removed]"
          },
          "metadata": {
            "needs_background": "light"
          }
        }
      ]
    },
    {
      "cell_type": "markdown",
      "source": [
        "### Scatterplot"
      ],
      "metadata": {
        "id": "kRcAT7q2HPr-"
      }
    },
    {
      "cell_type": "markdown",
      "source": [
        "Plotting scatterplot between mpg and other features except 'car name'"
      ],
      "metadata": {
        "id": "P2IS8fk3IBVB"
      }
    },
    {
      "cell_type": "code",
      "source": [
        "for col in cols_for_graph:\n",
        "  plt.scatter(df[col], df['mpg'])\n",
        "  plt.xlabel(col)\n",
        "  plt.ylabel('mpg')\n",
        "  plt.title('Line Graph between {} and mpg'.format(col))\n",
        "  plt.show()"
      ],
      "metadata": {
        "colab": {
          "base_uri": "https://localhost:8080/",
          "height": 1000
        },
        "id": "7iB-EcRFIJRl",
        "outputId": "a1cee35c-d57d-4cb5-cf6f-2ea932f75dfb"
      },
      "execution_count": 49,
      "outputs": [
        {
          "output_type": "display_data",
          "data": {
            "text/plain": [
              "<Figure size 432x288 with 1 Axes>"
            ],
            "image/png": "[encoded data removed]"
          },
          "metadata": {
            "needs_background": "light"
          }
        },
        {
          "output_type": "display_data",
          "data": {
            "text/plain": [
              "<Figure size 432x288 with 1 Axes>"
            ],
            "image/png": "[encoded data removed]"
          },
          "metadata": {
            "needs_background": "light"
          }
        },
        {
          "output_type": "display_data",
          "data": {
            "text/plain": [
              "<Figure size 432x288 with 1 Axes>"
            ],
            "image/png": "[encoded data removed]"
          },
          "metadata": {
            "needs_background": "light"
          }
        },
        {
          "output_type": "display_data",
          "data": {
            "text/plain": [
              "<Figure size 432x288 with 1 Axes>"
            ],
            "image/png": "[encoded data removed]"
          },
          "metadata": {
            "needs_background": "light"
          }
        },
        {
          "output_type": "display_data",
          "data": {
            "text/plain": [
              "<Figure size 432x288 with 1 Axes>"
            ],
            "image/png": "[encoded data removed]"
          },
          "metadata": {
            "needs_background": "light"
          }
        },
        {
          "output_type": "display_data",
          "data": {
            "text/plain": [
              "<Figure size 432x288 with 1 Axes>"
            ],
            "image/png": "[encoded data removed]"
          },
          "metadata": {
            "needs_background": "light"
          }
        },
        {
          "output_type": "display_data",
          "data": {
            "text/plain": [
              "<Figure size 432x288 with 1 Axes>"
            ],
            "image/png": "[encoded data removed]"
          },
          "metadata": {
            "needs_background": "light"
          }
        }
      ]
    },
    {
      "cell_type": "markdown",
      "source": [
        "### Correlation"
      ],
      "metadata": {
        "id": "LJ_C5JK3IE0n"
      }
    },
    {
      "cell_type": "code",
      "source": [
        "cols_for_corr = ['mpg','cylinders', 'displacement', 'weight', 'horsepower',\n",
        "       'acceleration', 'model year', 'origin']\n",
        "corr = df[cols_for_corr].corr()\n",
        "\n",
        "# create the heatmap\n",
        "sns.heatmap(corr, annot=True, cmap='coolwarm')"
      ],
      "metadata": {
        "colab": {
          "base_uri": "https://localhost:8080/",
          "height": 344
        },
        "id": "pp51yu4IHPEo",
        "outputId": "4cd18e70-2bcd-4cd6-b882-36d2934736a1"
      },
      "execution_count": 50,
      "outputs": [
        {
          "output_type": "execute_result",
          "data": {
            "text/plain": [
              "<Axes: >"
            ]
          },
          "metadata": {},
          "execution_count": 50
        },
        {
          "output_type": "display_data",
          "data": {
            "text/plain": [
              "<Figure size 432x288 with 2 Axes>"
            ],
            "image/png": "[encoded data removed]"
          },
          "metadata": {
            "needs_background": "light"
          }
        }
      ]
    },
    {
      "cell_type": "markdown",
      "source": [
        "We notice that mpg is **negatively correlated** to\n",
        "> horsepower\n",
        "\n",
        "> weight\n",
        "\n",
        "> displacement\n",
        "\n",
        "> cylinders\n",
        "\n",
        "mpg is **positively correlated** to\n",
        "\n",
        "\n",
        "> model year\n",
        "\n",
        "> origin"
      ],
      "metadata": {
        "id": "BK7DPHZ4IMVr"
      }
    },
    {
      "cell_type": "markdown",
      "source": [
        "## Model building"
      ],
      "metadata": {
        "id": "fCRdgkbJHD2g"
      }
    },
    {
      "cell_type": "code",
      "source": [
        "df.shape"
      ],
      "metadata": {
        "colab": {
          "base_uri": "https://localhost:8080/"
        },
        "id": "dy9O9RB8HDdq",
        "outputId": "c1f105eb-5ca7-41b3-aa59-320fdb9407b7"
      },
      "execution_count": 51,
      "outputs": [
        {
          "output_type": "execute_result",
          "data": {
            "text/plain": [
              "(396, 9)"
            ]
          },
          "metadata": {},
          "execution_count": 51
        }
      ]
    },
    {
      "cell_type": "code",
      "source": [
        "df.drop('car name', axis = 1, inplace = True)"
      ],
      "metadata": {
        "id": "sKfI-GVYIUse"
      },
      "execution_count": 52,
      "outputs": []
    },
    {
      "cell_type": "code",
      "source": [
        "features = ['cylinders', 'displacement', 'horsepower','weight',\n",
        "             'model year', 'origin']"
      ],
      "metadata": {
        "id": "QQ6_CFRTIUpF"
      },
      "execution_count": 53,
      "outputs": []
    },
    {
      "cell_type": "code",
      "source": [
        "x = df[features]\n",
        "x"
      ],
      "metadata": {
        "colab": {
          "base_uri": "https://localhost:8080/",
          "height": 423
        },
        "id": "HrEhvVQCIUmP",
        "outputId": "03a9ee0d-ab78-42f8-f1f6-9b9eae74735a"
      },
      "execution_count": 54,
      "outputs": [
        {
          "output_type": "execute_result",
          "data": {
            "text/plain": [
              "     cylinders  displacement  horsepower  weight  model year  origin\n",
              "0            8         307.0       130.0    3504          70       1\n",
              "1            8         350.0       165.0    3693          70       1\n",
              "2            8         318.0       150.0    3436          70       1\n",
              "3            8         304.0       150.0    3433          70       1\n",
              "4            8         302.0       140.0    3449          70       1\n",
              "..         ...           ...         ...     ...         ...     ...\n",
              "393          4         140.0        86.0    2790          82       1\n",
              "394          4          97.0        52.0    2130          82       2\n",
              "395          4         135.0        84.0    2295          82       1\n",
              "396          4         120.0        79.0    2625          82       1\n",
              "397          4         119.0        82.0    2720          82       1\n",
              "\n",
              "[396 rows x 6 columns]"
            ],
            "text/html": [
              "\n",
              "  <div id=\"df-4821dd15-a310-4a34-b2ec-fd8dbe8ce1e1\">\n",
              "    <div class=\"colab-df-container\">\n",
              "      <div>\n",
              "<style scoped>\n",
              "    .dataframe tbody tr th:only-of-type {\n",
              "        vertical-align: middle;\n",
              "    }\n",
              "\n",
              "    .dataframe tbody tr th {\n",
              "        vertical-align: top;\n",
              "    }\n",
              "\n",
              "    .dataframe thead th {\n",
              "        text-align: right;\n",
              "    }\n",
              "</style>\n",
              "<table border=\"1\" class=\"dataframe\">\n",
              "  <thead>\n",
              "    <tr style=\"text-align: right;\">\n",
              "      <th></th>\n",
              "      <th>cylinders</th>\n",
              "      <th>displacement</th>\n",
              "      <th>horsepower</th>\n",
              "      <th>weight</th>\n",
              "      <th>model year</th>\n",
              "      <th>origin</th>\n",
              "    </tr>\n",
              "  </thead>\n",
              "  <tbody>\n",
              "    <tr>\n",
              "      <th>0</th>\n",
              "      <td>8</td>\n",
              "      <td>307.0</td>\n",
              "      <td>130.0</td>\n",
              "      <td>3504</td>\n",
              "      <td>70</td>\n",
              "      <td>1</td>\n",
              "    </tr>\n",
              "    <tr>\n",
              "      <th>1</th>\n",
              "      <td>8</td>\n",
              "      <td>350.0</td>\n",
              "      <td>165.0</td>\n",
              "      <td>3693</td>\n",
              "      <td>70</td>\n",
              "      <td>1</td>\n",
              "    </tr>\n",
              "    <tr>\n",
              "      <th>2</th>\n",
              "      <td>8</td>\n",
              "      <td>318.0</td>\n",
              "      <td>150.0</td>\n",
              "      <td>3436</td>\n",
              "      <td>70</td>\n",
              "      <td>1</td>\n",
              "    </tr>\n",
              "    <tr>\n",
              "      <th>3</th>\n",
              "      <td>8</td>\n",
              "      <td>304.0</td>\n",
              "      <td>150.0</td>\n",
              "      <td>3433</td>\n",
              "      <td>70</td>\n",
              "      <td>1</td>\n",
              "    </tr>\n",
              "    <tr>\n",
              "      <th>4</th>\n",
              "      <td>8</td>\n",
              "      <td>302.0</td>\n",
              "      <td>140.0</td>\n",
              "      <td>3449</td>\n",
              "      <td>70</td>\n",
              "      <td>1</td>\n",
              "    </tr>\n",
              "    <tr>\n",
              "      <th>...</th>\n",
              "      <td>...</td>\n",
              "      <td>...</td>\n",
              "      <td>...</td>\n",
              "      <td>...</td>\n",
              "      <td>...</td>\n",
              "      <td>...</td>\n",
              "    </tr>\n",
              "    <tr>\n",
              "      <th>393</th>\n",
              "      <td>4</td>\n",
              "      <td>140.0</td>\n",
              "      <td>86.0</td>\n",
              "      <td>2790</td>\n",
              "      <td>82</td>\n",
              "      <td>1</td>\n",
              "    </tr>\n",
              "    <tr>\n",
              "      <th>394</th>\n",
              "      <td>4</td>\n",
              "      <td>97.0</td>\n",
              "      <td>52.0</td>\n",
              "      <td>2130</td>\n",
              "      <td>82</td>\n",
              "      <td>2</td>\n",
              "    </tr>\n",
              "    <tr>\n",
              "      <th>395</th>\n",
              "      <td>4</td>\n",
              "      <td>135.0</td>\n",
              "      <td>84.0</td>\n",
              "      <td>2295</td>\n",
              "      <td>82</td>\n",
              "      <td>1</td>\n",
              "    </tr>\n",
              "    <tr>\n",
              "      <th>396</th>\n",
              "      <td>4</td>\n",
              "      <td>120.0</td>\n",
              "      <td>79.0</td>\n",
              "      <td>2625</td>\n",
              "      <td>82</td>\n",
              "      <td>1</td>\n",
              "    </tr>\n",
              "    <tr>\n",
              "      <th>397</th>\n",
              "      <td>4</td>\n",
              "      <td>119.0</td>\n",
              "      <td>82.0</td>\n",
              "      <td>2720</td>\n",
              "      <td>82</td>\n",
              "      <td>1</td>\n",
              "    </tr>\n",
              "  </tbody>\n",
              "</table>\n",
              "<p>396 rows × 6 columns</p>\n",
              "</div>\n",
              "      <button class=\"colab-df-convert\" onclick=\"convertToInteractive('df-4821dd15-a310-4a34-b2ec-fd8dbe8ce1e1')\"\n",
              "              title=\"Convert this dataframe to an interactive table.\"\n",
              "              style=\"display:none;\">\n",
              "        \n",
              "  <svg xmlns=\"http://www.w3.org/2000/svg\" height=\"24px\"viewBox=\"0 0 24 24\"\n",
              "       width=\"24px\">\n",
              "    <path d=\"M0 0h24v24H0V0z\" fill=\"none\"/>\n",
              "    <path d=\"M18.56 5.44l.94 2.06.94-2.06 2.06-.94-2.06-.94-.94-2.06-.94 2.06-2.06.94zm-11 1L8.5 8.5l.94-2.06 2.06-.94-2.06-.94L8.5 2.5l-.94 2.06-2.06.94zm10 10l.94 2.06.94-2.06 2.06-.94-2.06-.94-.94-2.06-.94 2.06-2.06.94z\"/><path d=\"M17.41 7.96l-1.37-1.37c-.4-.4-.92-.59-1.43-.59-.52 0-1.04.2-1.43.59L10.3 9.45l-7.72 7.72c-.78.78-.78 2.05 0 2.83L4 21.41c.39.39.9.59 1.41.59.51 0 1.02-.2 1.41-.59l7.78-7.78 2.81-2.81c.8-.78.8-2.07 0-2.86zM5.41 20L4 18.59l7.72-7.72 1.47 1.35L5.41 20z\"/>\n",
              "  </svg>\n",
              "      </button>\n",
              "      \n",
              "  <style>\n",
              "    .colab-df-container {\n",
              "      display:flex;\n",
              "      flex-wrap:wrap;\n",
              "      gap: 12px;\n",
              "    }\n",
              "\n",
              "    .colab-df-convert {\n",
              "      background-color: #E8F0FE;\n",
              "      border: none;\n",
              "      border-radius: 50%;\n",
              "      cursor: pointer;\n",
              "      display: none;\n",
              "      fill: #1967D2;\n",
              "      height: 32px;\n",
              "      padding: 0 0 0 0;\n",
              "      width: 32px;\n",
              "    }\n",
              "\n",
              "    .colab-df-convert:hover {\n",
              "      background-color: #E2EBFA;\n",
              "      box-shadow: 0px 1px 2px rgba(60, 64, 67, 0.3), 0px 1px 3px 1px rgba(60, 64, 67, 0.15);\n",
              "      fill: #174EA6;\n",
              "    }\n",
              "\n",
              "    [theme=dark] .colab-df-convert {\n",
              "      background-color: #3B4455;\n",
              "      fill: #D2E3FC;\n",
              "    }\n",
              "\n",
              "    [theme=dark] .colab-df-convert:hover {\n",
              "      background-color: #434B5C;\n",
              "      box-shadow: 0px 1px 3px 1px rgba(0, 0, 0, 0.15);\n",
              "      filter: drop-shadow(0px 1px 2px rgba(0, 0, 0, 0.3));\n",
              "      fill: #FFFFFF;\n",
              "    }\n",
              "  </style>\n",
              "\n",
              "      <script>\n",
              "        const buttonEl =\n",
              "          document.querySelector('#df-4821dd15-a310-4a34-b2ec-fd8dbe8ce1e1 button.colab-df-convert');\n",
              "        buttonEl.style.display =\n",
              "          google.colab.kernel.accessAllowed ? 'block' : 'none';\n",
              "\n",
              "        async function convertToInteractive(key) {\n",
              "          const element = document.querySelector('#df-4821dd15-a310-4a34-b2ec-fd8dbe8ce1e1');\n",
              "          const dataTable =\n",
              "            await google.colab.kernel.invokeFunction('convertToInteractive',\n",
              "                                                     [key], {});\n",
              "          if (!dataTable) return;\n",
              "\n",
              "          const docLinkHtml = 'Like what you see? Visit the ' +\n",
              "            '<a target=\"_blank\" href=https://colab.research.google.com/notebooks/data_table.ipynb>data table notebook</a>'\n",
              "            + ' to learn more about interactive tables.';\n",
              "          element.innerHTML = '';\n",
              "          dataTable['output_type'] = 'display_data';\n",
              "          await google.colab.output.renderOutput(dataTable, element);\n",
              "          const docLink = document.createElement('div');\n",
              "          docLink.innerHTML = docLinkHtml;\n",
              "          element.appendChild(docLink);\n",
              "        }\n",
              "      </script>\n",
              "    </div>\n",
              "  </div>\n",
              "  "
            ]
          },
          "metadata": {},
          "execution_count": 54
        }
      ]
    },
    {
      "cell_type": "code",
      "source": [
        "y = df['mpg']\n",
        "y"
      ],
      "metadata": {
        "colab": {
          "base_uri": "https://localhost:8080/"
        },
        "id": "m96J_1zeIX4e",
        "outputId": "b0f1e4f3-bd3a-4c72-cfec-53e5106cd879"
      },
      "execution_count": 55,
      "outputs": [
        {
          "output_type": "execute_result",
          "data": {
            "text/plain": [
              "0      18.0\n",
              "1      15.0\n",
              "2      18.0\n",
              "3      16.0\n",
              "4      17.0\n",
              "       ... \n",
              "393    27.0\n",
              "394    44.0\n",
              "395    32.0\n",
              "396    28.0\n",
              "397    31.0\n",
              "Name: mpg, Length: 396, dtype: float64"
            ]
          },
          "metadata": {},
          "execution_count": 55
        }
      ]
    },
    {
      "cell_type": "code",
      "source": [
        "from sklearn.model_selection import train_test_split"
      ],
      "metadata": {
        "id": "Mm2skYqIIY_o"
      },
      "execution_count": 56,
      "outputs": []
    },
    {
      "cell_type": "code",
      "source": [
        "x_train, x_test, y_train, y_test = train_test_split(x, y, train_size = 0.8,test_size = 0.2, random_state = 7)"
      ],
      "metadata": {
        "id": "8eQjI9WfIZ2f"
      },
      "execution_count": 57,
      "outputs": []
    },
    {
      "cell_type": "code",
      "source": [
        "x_train.shape"
      ],
      "metadata": {
        "colab": {
          "base_uri": "https://localhost:8080/"
        },
        "id": "niGC6HYbIaqV",
        "outputId": "e023bc48-39ca-4351-8bab-a9f0eb7e1dc1"
      },
      "execution_count": 58,
      "outputs": [
        {
          "output_type": "execute_result",
          "data": {
            "text/plain": [
              "(316, 6)"
            ]
          },
          "metadata": {},
          "execution_count": 58
        }
      ]
    },
    {
      "cell_type": "code",
      "source": [
        "x_test.shape"
      ],
      "metadata": {
        "colab": {
          "base_uri": "https://localhost:8080/"
        },
        "id": "njQ4Lla-Icfv",
        "outputId": "a0802ad9-75cf-4cea-b292-51f5a66aaa37"
      },
      "execution_count": 59,
      "outputs": [
        {
          "output_type": "execute_result",
          "data": {
            "text/plain": [
              "(80, 6)"
            ]
          },
          "metadata": {},
          "execution_count": 59
        }
      ]
    },
    {
      "cell_type": "code",
      "source": [
        "y_train.shape"
      ],
      "metadata": {
        "colab": {
          "base_uri": "https://localhost:8080/"
        },
        "id": "q54wKnqsIccM",
        "outputId": "ae62297e-f5bb-4f33-a70e-3f651f2e1c8e"
      },
      "execution_count": 60,
      "outputs": [
        {
          "output_type": "execute_result",
          "data": {
            "text/plain": [
              "(316,)"
            ]
          },
          "metadata": {},
          "execution_count": 60
        }
      ]
    },
    {
      "cell_type": "code",
      "source": [
        "y_test.shape"
      ],
      "metadata": {
        "colab": {
          "base_uri": "https://localhost:8080/"
        },
        "id": "0e1vBG0CIcY7",
        "outputId": "e30ab6ac-82c2-4da2-a255-cd32733b989c"
      },
      "execution_count": 61,
      "outputs": [
        {
          "output_type": "execute_result",
          "data": {
            "text/plain": [
              "(80,)"
            ]
          },
          "metadata": {},
          "execution_count": 61
        }
      ]
    },
    {
      "cell_type": "markdown",
      "source": [
        "### Feature Scaling"
      ],
      "metadata": {
        "id": "4N5aZWPqIfHj"
      }
    },
    {
      "cell_type": "code",
      "source": [
        "from sklearn.preprocessing import StandardScaler"
      ],
      "metadata": {
        "id": "QJvddKIDIgJF"
      },
      "execution_count": 62,
      "outputs": []
    },
    {
      "cell_type": "code",
      "source": [
        "x_train_scaled = StandardScaler().fit(x_train).transform(x_train)\n",
        "x_test_scaled = StandardScaler().fit(x_test).transform(x_test)"
      ],
      "metadata": {
        "id": "Nq4a6C49IhL5"
      },
      "execution_count": 63,
      "outputs": []
    },
    {
      "cell_type": "markdown",
      "source": [
        "Libraries"
      ],
      "metadata": {
        "id": "_rTN5vgaIgnE"
      }
    },
    {
      "cell_type": "code",
      "source": [
        "from sklearn.linear_model import (LinearRegression,\n",
        "                                  Ridge,\n",
        "                                  Lasso)\n",
        "from sklearn.preprocessing import PolynomialFeatures\n",
        "from sklearn.svm import SVR\n",
        "from sklearn.tree import DecisionTreeRegressor\n",
        "from sklearn.ensemble import (RandomForestRegressor,\n",
        "                              GradientBoostingRegressor)\n",
        "from sklearn.metrics import mean_squared_error as mse\n",
        "from math import sqrt"
      ],
      "metadata": {
        "id": "XRa4fdwZIm7L"
      },
      "execution_count": 64,
      "outputs": []
    },
    {
      "cell_type": "markdown",
      "source": [
        "**METRICS:**\n",
        "*   MSE \n",
        "*   RMSE\n",
        "\n",
        "MAE doesn't necessarily penalise large errors. So, MSE and RMSE have been chosen"
      ],
      "metadata": {
        "id": "GxxQvegXIo_b"
      }
    },
    {
      "cell_type": "code",
      "source": [
        "# arrays for sorting models based on mse and rmse\n",
        "model_Name, model_MSE, model_RMSE = [],[],[]"
      ],
      "metadata": {
        "id": "Qdw006q1IqYa"
      },
      "execution_count": 65,
      "outputs": []
    },
    {
      "cell_type": "markdown",
      "source": [
        "### Linear Regression"
      ],
      "metadata": {
        "id": "BnE3Yc0aIrRt"
      }
    },
    {
      "cell_type": "code",
      "source": [
        "lr = LinearRegression()\n",
        "\n",
        "# Train the model on the training data\n",
        "lr.fit(x_train_scaled, y_train)\n",
        "\n",
        "# Predict the target variable on the test data\n",
        "y_pred_linear = lr.predict(x_test_scaled)\n",
        "\n",
        "#MSE, r2 and MAE\n",
        "mse_linear = mse(y_test, y_pred_linear)\n",
        "rmse_linear = sqrt(mse_linear)\n",
        "\n",
        "# Evaluate the performance of the model\n",
        "print(\"MSE linear:\", mse_linear)\n",
        "print(\"RMSE linear:\", rmse_linear)\n",
        "\n",
        "# append values to array\n",
        "model_Name.append(\"Linear Reg\")\n",
        "model_MSE.append(mse_linear)\n",
        "model_RMSE.append(rmse_linear)"
      ],
      "metadata": {
        "colab": {
          "base_uri": "https://localhost:8080/"
        },
        "id": "7HIvg-FcJFy8",
        "outputId": "d31efc3c-d285-4b13-ca7a-0aa9d1065ddc"
      },
      "execution_count": 66,
      "outputs": [
        {
          "output_type": "stream",
          "name": "stdout",
          "text": [
            "MSE linear: 14.79826707770656\n",
            "RMSE linear: 3.846851579890568\n"
          ]
        }
      ]
    },
    {
      "cell_type": "code",
      "source": [
        "model_Name, model_MSE, model_RMSE"
      ],
      "metadata": {
        "colab": {
          "base_uri": "https://localhost:8080/"
        },
        "id": "R4SzrvNgJFrj",
        "outputId": "b8c21fbb-efef-4e96-a2ea-a642f499eba8"
      },
      "execution_count": 67,
      "outputs": [
        {
          "output_type": "execute_result",
          "data": {
            "text/plain": [
              "(['Linear Reg'], [14.79826707770656], [3.846851579890568])"
            ]
          },
          "metadata": {},
          "execution_count": 67
        }
      ]
    },
    {
      "cell_type": "code",
      "source": [
        "result_df = pd.DataFrame({'Real Values':y_test, 'Predicted Values':y_pred_linear})\n",
        "result_df.head(10)"
      ],
      "metadata": {
        "colab": {
          "base_uri": "https://localhost:8080/",
          "height": 363
        },
        "id": "x5aaPJTxJFmX",
        "outputId": "59a99e6e-d1bd-4c8c-8357-3c8b20c0fa17"
      },
      "execution_count": 68,
      "outputs": [
        {
          "output_type": "execute_result",
          "data": {
            "text/plain": [
              "     Real Values  Predicted Values\n",
              "377         31.0         34.854799\n",
              "99          18.0         19.664932\n",
              "217         30.0         26.742312\n",
              "129         31.0         28.332186\n",
              "74          13.0         10.099798\n",
              "395         32.0         30.227697\n",
              "52          30.0         23.608135\n",
              "303         31.8         32.146302\n",
              "221         17.5         16.430007\n",
              "228         18.5         19.889912"
            ],
            "text/html": [
              "\n",
              "  <div id=\"df-3b34e455-09e4-4b34-bebc-1431eb1e0436\">\n",
              "    <div class=\"colab-df-container\">\n",
              "      <div>\n",
              "<style scoped>\n",
              "    .dataframe tbody tr th:only-of-type {\n",
              "        vertical-align: middle;\n",
              "    }\n",
              "\n",
              "    .dataframe tbody tr th {\n",
              "        vertical-align: top;\n",
              "    }\n",
              "\n",
              "    .dataframe thead th {\n",
              "        text-align: right;\n",
              "    }\n",
              "</style>\n",
              "<table border=\"1\" class=\"dataframe\">\n",
              "  <thead>\n",
              "    <tr style=\"text-align: right;\">\n",
              "      <th></th>\n",
              "      <th>Real Values</th>\n",
              "      <th>Predicted Values</th>\n",
              "    </tr>\n",
              "  </thead>\n",
              "  <tbody>\n",
              "    <tr>\n",
              "      <th>377</th>\n",
              "      <td>31.0</td>\n",
              "      <td>34.854799</td>\n",
              "    </tr>\n",
              "    <tr>\n",
              "      <th>99</th>\n",
              "      <td>18.0</td>\n",
              "      <td>19.664932</td>\n",
              "    </tr>\n",
              "    <tr>\n",
              "      <th>217</th>\n",
              "      <td>30.0</td>\n",
              "      <td>26.742312</td>\n",
              "    </tr>\n",
              "    <tr>\n",
              "      <th>129</th>\n",
              "      <td>31.0</td>\n",
              "      <td>28.332186</td>\n",
              "    </tr>\n",
              "    <tr>\n",
              "      <th>74</th>\n",
              "      <td>13.0</td>\n",
              "      <td>10.099798</td>\n",
              "    </tr>\n",
              "    <tr>\n",
              "      <th>395</th>\n",
              "      <td>32.0</td>\n",
              "      <td>30.227697</td>\n",
              "    </tr>\n",
              "    <tr>\n",
              "      <th>52</th>\n",
              "      <td>30.0</td>\n",
              "      <td>23.608135</td>\n",
              "    </tr>\n",
              "    <tr>\n",
              "      <th>303</th>\n",
              "      <td>31.8</td>\n",
              "      <td>32.146302</td>\n",
              "    </tr>\n",
              "    <tr>\n",
              "      <th>221</th>\n",
              "      <td>17.5</td>\n",
              "      <td>16.430007</td>\n",
              "    </tr>\n",
              "    <tr>\n",
              "      <th>228</th>\n",
              "      <td>18.5</td>\n",
              "      <td>19.889912</td>\n",
              "    </tr>\n",
              "  </tbody>\n",
              "</table>\n",
              "</div>\n",
              "      <button class=\"colab-df-convert\" onclick=\"convertToInteractive('df-3b34e455-09e4-4b34-bebc-1431eb1e0436')\"\n",
              "              title=\"Convert this dataframe to an interactive table.\"\n",
              "              style=\"display:none;\">\n",
              "        \n",
              "  <svg xmlns=\"http://www.w3.org/2000/svg\" height=\"24px\"viewBox=\"0 0 24 24\"\n",
              "       width=\"24px\">\n",
              "    <path d=\"M0 0h24v24H0V0z\" fill=\"none\"/>\n",
              "    <path d=\"M18.56 5.44l.94 2.06.94-2.06 2.06-.94-2.06-.94-.94-2.06-.94 2.06-2.06.94zm-11 1L8.5 8.5l.94-2.06 2.06-.94-2.06-.94L8.5 2.5l-.94 2.06-2.06.94zm10 10l.94 2.06.94-2.06 2.06-.94-2.06-.94-.94-2.06-.94 2.06-2.06.94z\"/><path d=\"M17.41 7.96l-1.37-1.37c-.4-.4-.92-.59-1.43-.59-.52 0-1.04.2-1.43.59L10.3 9.45l-7.72 7.72c-.78.78-.78 2.05 0 2.83L4 21.41c.39.39.9.59 1.41.59.51 0 1.02-.2 1.41-.59l7.78-7.78 2.81-2.81c.8-.78.8-2.07 0-2.86zM5.41 20L4 18.59l7.72-7.72 1.47 1.35L5.41 20z\"/>\n",
              "  </svg>\n",
              "      </button>\n",
              "      \n",
              "  <style>\n",
              "    .colab-df-container {\n",
              "      display:flex;\n",
              "      flex-wrap:wrap;\n",
              "      gap: 12px;\n",
              "    }\n",
              "\n",
              "    .colab-df-convert {\n",
              "      background-color: #E8F0FE;\n",
              "      border: none;\n",
              "      border-radius: 50%;\n",
              "      cursor: pointer;\n",
              "      display: none;\n",
              "      fill: #1967D2;\n",
              "      height: 32px;\n",
              "      padding: 0 0 0 0;\n",
              "      width: 32px;\n",
              "    }\n",
              "\n",
              "    .colab-df-convert:hover {\n",
              "      background-color: #E2EBFA;\n",
              "      box-shadow: 0px 1px 2px rgba(60, 64, 67, 0.3), 0px 1px 3px 1px rgba(60, 64, 67, 0.15);\n",
              "      fill: #174EA6;\n",
              "    }\n",
              "\n",
              "    [theme=dark] .colab-df-convert {\n",
              "      background-color: #3B4455;\n",
              "      fill: #D2E3FC;\n",
              "    }\n",
              "\n",
              "    [theme=dark] .colab-df-convert:hover {\n",
              "      background-color: #434B5C;\n",
              "      box-shadow: 0px 1px 3px 1px rgba(0, 0, 0, 0.15);\n",
              "      filter: drop-shadow(0px 1px 2px rgba(0, 0, 0, 0.3));\n",
              "      fill: #FFFFFF;\n",
              "    }\n",
              "  </style>\n",
              "\n",
              "      <script>\n",
              "        const buttonEl =\n",
              "          document.querySelector('#df-3b34e455-09e4-4b34-bebc-1431eb1e0436 button.colab-df-convert');\n",
              "        buttonEl.style.display =\n",
              "          google.colab.kernel.accessAllowed ? 'block' : 'none';\n",
              "\n",
              "        async function convertToInteractive(key) {\n",
              "          const element = document.querySelector('#df-3b34e455-09e4-4b34-bebc-1431eb1e0436');\n",
              "          const dataTable =\n",
              "            await google.colab.kernel.invokeFunction('convertToInteractive',\n",
              "                                                     [key], {});\n",
              "          if (!dataTable) return;\n",
              "\n",
              "          const docLinkHtml = 'Like what you see? Visit the ' +\n",
              "            '<a target=\"_blank\" href=https://colab.research.google.com/notebooks/data_table.ipynb>data table notebook</a>'\n",
              "            + ' to learn more about interactive tables.';\n",
              "          element.innerHTML = '';\n",
              "          dataTable['output_type'] = 'display_data';\n",
              "          await google.colab.output.renderOutput(dataTable, element);\n",
              "          const docLink = document.createElement('div');\n",
              "          docLink.innerHTML = docLinkHtml;\n",
              "          element.appendChild(docLink);\n",
              "        }\n",
              "      </script>\n",
              "    </div>\n",
              "  </div>\n",
              "  "
            ]
          },
          "metadata": {},
          "execution_count": 68
        }
      ]
    },
    {
      "cell_type": "markdown",
      "source": [
        "### Polynomial Regression"
      ],
      "metadata": {
        "id": "nLfFtk37IumM"
      }
    },
    {
      "cell_type": "code",
      "source": [
        "# Transform the input features into polynomial terms\n",
        "poly = PolynomialFeatures(degree=2)\n",
        "x_train_poly = poly.fit_transform(x_train_scaled)\n",
        "x_test_poly = poly.transform(x_test_scaled)\n",
        "\n",
        "# Create a polynomial regression model\n",
        "pr = LinearRegression()\n",
        "\n",
        "# Train the model on the training data\n",
        "pr.fit(x_train_poly, y_train)\n",
        "\n",
        "# Predict the target variable on the test data\n",
        "y_pred_poly = pr.predict(x_test_poly)\n",
        "\n",
        "#MSE, r2 and MAE\n",
        "mse_poly = mse(y_test, y_pred_poly)\n",
        "rmse_poly = sqrt(mse_poly)\n",
        "\n",
        "# Evaluate the performance of the model\n",
        "print(\"MSE poly:\", mse_poly)\n",
        "print(\"RMSE poly:\", rmse_poly)\n",
        "\n",
        "# # append values to array\n",
        "model_Name.append(\"Polynomial Reg\")\n",
        "model_MSE.append(mse_poly)\n",
        "model_RMSE.append(rmse_poly)"
      ],
      "metadata": {
        "colab": {
          "base_uri": "https://localhost:8080/"
        },
        "id": "lQ2j2h_dJPnK",
        "outputId": "ae81f19c-6ae5-4a5a-d35a-95cfbcb6275a"
      },
      "execution_count": 69,
      "outputs": [
        {
          "output_type": "stream",
          "name": "stdout",
          "text": [
            "MSE poly: 13.029404165943301\n",
            "RMSE poly: 3.609626596469959\n"
          ]
        }
      ]
    },
    {
      "cell_type": "code",
      "source": [
        "model_Name, model_MSE, model_RMSE"
      ],
      "metadata": {
        "colab": {
          "base_uri": "https://localhost:8080/"
        },
        "id": "NZa21HqTJPeb",
        "outputId": "88a32da3-d1a5-4ff1-d4cf-05a9439f1d3e"
      },
      "execution_count": 70,
      "outputs": [
        {
          "output_type": "execute_result",
          "data": {
            "text/plain": [
              "(['Linear Reg', 'Polynomial Reg'],\n",
              " [14.79826707770656, 13.029404165943301],\n",
              " [3.846851579890568, 3.609626596469959])"
            ]
          },
          "metadata": {},
          "execution_count": 70
        }
      ]
    },
    {
      "cell_type": "code",
      "source": [
        "result_df = pd.DataFrame({'Real Values':y_test, 'Predicted Values':y_pred_poly})\n",
        "result_df.head(10)"
      ],
      "metadata": {
        "colab": {
          "base_uri": "https://localhost:8080/",
          "height": 363
        },
        "id": "5suKXGx7JPXx",
        "outputId": "7721302b-f121-47a1-9d3b-8b5351d6d6e4"
      },
      "execution_count": 71,
      "outputs": [
        {
          "output_type": "execute_result",
          "data": {
            "text/plain": [
              "     Real Values  Predicted Values\n",
              "377         31.0         38.218768\n",
              "99          18.0         17.021174\n",
              "217         30.0         26.042967\n",
              "129         31.0         28.221001\n",
              "74          13.0         12.605118\n",
              "395         32.0         31.260685\n",
              "52          30.0         25.165689\n",
              "303         31.8         33.518864\n",
              "221         17.5         14.978239\n",
              "228         18.5         17.987810"
            ],
            "text/html": [
              "\n",
              "  <div id=\"df-6a23472e-928d-4b27-a860-5d675f8faf9b\">\n",
              "    <div class=\"colab-df-container\">\n",
              "      <div>\n",
              "<style scoped>\n",
              "    .dataframe tbody tr th:only-of-type {\n",
              "        vertical-align: middle;\n",
              "    }\n",
              "\n",
              "    .dataframe tbody tr th {\n",
              "        vertical-align: top;\n",
              "    }\n",
              "\n",
              "    .dataframe thead th {\n",
              "        text-align: right;\n",
              "    }\n",
              "</style>\n",
              "<table border=\"1\" class=\"dataframe\">\n",
              "  <thead>\n",
              "    <tr style=\"text-align: right;\">\n",
              "      <th></th>\n",
              "      <th>Real Values</th>\n",
              "      <th>Predicted Values</th>\n",
              "    </tr>\n",
              "  </thead>\n",
              "  <tbody>\n",
              "    <tr>\n",
              "      <th>377</th>\n",
              "      <td>31.0</td>\n",
              "      <td>38.218768</td>\n",
              "    </tr>\n",
              "    <tr>\n",
              "      <th>99</th>\n",
              "      <td>18.0</td>\n",
              "      <td>17.021174</td>\n",
              "    </tr>\n",
              "    <tr>\n",
              "      <th>217</th>\n",
              "      <td>30.0</td>\n",
              "      <td>26.042967</td>\n",
              "    </tr>\n",
              "    <tr>\n",
              "      <th>129</th>\n",
              "      <td>31.0</td>\n",
              "      <td>28.221001</td>\n",
              "    </tr>\n",
              "    <tr>\n",
              "      <th>74</th>\n",
              "      <td>13.0</td>\n",
              "      <td>12.605118</td>\n",
              "    </tr>\n",
              "    <tr>\n",
              "      <th>395</th>\n",
              "      <td>32.0</td>\n",
              "      <td>31.260685</td>\n",
              "    </tr>\n",
              "    <tr>\n",
              "      <th>52</th>\n",
              "      <td>30.0</td>\n",
              "      <td>25.165689</td>\n",
              "    </tr>\n",
              "    <tr>\n",
              "      <th>303</th>\n",
              "      <td>31.8</td>\n",
              "      <td>33.518864</td>\n",
              "    </tr>\n",
              "    <tr>\n",
              "      <th>221</th>\n",
              "      <td>17.5</td>\n",
              "      <td>14.978239</td>\n",
              "    </tr>\n",
              "    <tr>\n",
              "      <th>228</th>\n",
              "      <td>18.5</td>\n",
              "      <td>17.987810</td>\n",
              "    </tr>\n",
              "  </tbody>\n",
              "</table>\n",
              "</div>\n",
              "      <button class=\"colab-df-convert\" onclick=\"convertToInteractive('df-6a23472e-928d-4b27-a860-5d675f8faf9b')\"\n",
              "              title=\"Convert this dataframe to an interactive table.\"\n",
              "              style=\"display:none;\">\n",
              "        \n",
              "  <svg xmlns=\"http://www.w3.org/2000/svg\" height=\"24px\"viewBox=\"0 0 24 24\"\n",
              "       width=\"24px\">\n",
              "    <path d=\"M0 0h24v24H0V0z\" fill=\"none\"/>\n",
              "    <path d=\"M18.56 5.44l.94 2.06.94-2.06 2.06-.94-2.06-.94-.94-2.06-.94 2.06-2.06.94zm-11 1L8.5 8.5l.94-2.06 2.06-.94-2.06-.94L8.5 2.5l-.94 2.06-2.06.94zm10 10l.94 2.06.94-2.06 2.06-.94-2.06-.94-.94-2.06-.94 2.06-2.06.94z\"/><path d=\"M17.41 7.96l-1.37-1.37c-.4-.4-.92-.59-1.43-.59-.52 0-1.04.2-1.43.59L10.3 9.45l-7.72 7.72c-.78.78-.78 2.05 0 2.83L4 21.41c.39.39.9.59 1.41.59.51 0 1.02-.2 1.41-.59l7.78-7.78 2.81-2.81c.8-.78.8-2.07 0-2.86zM5.41 20L4 18.59l7.72-7.72 1.47 1.35L5.41 20z\"/>\n",
              "  </svg>\n",
              "      </button>\n",
              "      \n",
              "  <style>\n",
              "    .colab-df-container {\n",
              "      display:flex;\n",
              "      flex-wrap:wrap;\n",
              "      gap: 12px;\n",
              "    }\n",
              "\n",
              "    .colab-df-convert {\n",
              "      background-color: #E8F0FE;\n",
              "      border: none;\n",
              "      border-radius: 50%;\n",
              "      cursor: pointer;\n",
              "      display: none;\n",
              "      fill: #1967D2;\n",
              "      height: 32px;\n",
              "      padding: 0 0 0 0;\n",
              "      width: 32px;\n",
              "    }\n",
              "\n",
              "    .colab-df-convert:hover {\n",
              "      background-color: #E2EBFA;\n",
              "      box-shadow: 0px 1px 2px rgba(60, 64, 67, 0.3), 0px 1px 3px 1px rgba(60, 64, 67, 0.15);\n",
              "      fill: #174EA6;\n",
              "    }\n",
              "\n",
              "    [theme=dark] .colab-df-convert {\n",
              "      background-color: #3B4455;\n",
              "      fill: #D2E3FC;\n",
              "    }\n",
              "\n",
              "    [theme=dark] .colab-df-convert:hover {\n",
              "      background-color: #434B5C;\n",
              "      box-shadow: 0px 1px 3px 1px rgba(0, 0, 0, 0.15);\n",
              "      filter: drop-shadow(0px 1px 2px rgba(0, 0, 0, 0.3));\n",
              "      fill: #FFFFFF;\n",
              "    }\n",
              "  </style>\n",
              "\n",
              "      <script>\n",
              "        const buttonEl =\n",
              "          document.querySelector('#df-6a23472e-928d-4b27-a860-5d675f8faf9b button.colab-df-convert');\n",
              "        buttonEl.style.display =\n",
              "          google.colab.kernel.accessAllowed ? 'block' : 'none';\n",
              "\n",
              "        async function convertToInteractive(key) {\n",
              "          const element = document.querySelector('#df-6a23472e-928d-4b27-a860-5d675f8faf9b');\n",
              "          const dataTable =\n",
              "            await google.colab.kernel.invokeFunction('convertToInteractive',\n",
              "                                                     [key], {});\n",
              "          if (!dataTable) return;\n",
              "\n",
              "          const docLinkHtml = 'Like what you see? Visit the ' +\n",
              "            '<a target=\"_blank\" href=https://colab.research.google.com/notebooks/data_table.ipynb>data table notebook</a>'\n",
              "            + ' to learn more about interactive tables.';\n",
              "          element.innerHTML = '';\n",
              "          dataTable['output_type'] = 'display_data';\n",
              "          await google.colab.output.renderOutput(dataTable, element);\n",
              "          const docLink = document.createElement('div');\n",
              "          docLink.innerHTML = docLinkHtml;\n",
              "          element.appendChild(docLink);\n",
              "        }\n",
              "      </script>\n",
              "    </div>\n",
              "  </div>\n",
              "  "
            ]
          },
          "metadata": {},
          "execution_count": 71
        }
      ]
    },
    {
      "cell_type": "markdown",
      "source": [
        "### Ridge Regression"
      ],
      "metadata": {
        "id": "5sJPTCaVIuds"
      }
    },
    {
      "cell_type": "code",
      "source": [
        "# Create a ridge regression model\n",
        "rr = Ridge(alpha=1)\n",
        "\n",
        "# Train the model on the training data\n",
        "rr.fit(x_train_scaled, y_train)\n",
        "\n",
        "# Predict the target variable on the test data\n",
        "y_pred_ridge = rr.predict(x_test_scaled)\n",
        "\n",
        "mse_ridge = mse(y_test, y_pred_ridge)\n",
        "rmse_ridge = sqrt(mse_ridge)\n",
        "\n",
        "# Evaluate the performance of the model\n",
        "print(\"MSE ridge:\", mse_ridge)\n",
        "print(\"RMSE ridge:\", rmse_ridge)\n",
        "\n",
        "# append values to array\n",
        "model_Name.append(\"Ridge Reg\")\n",
        "model_MSE.append(mse_ridge)\n",
        "model_RMSE.append(rmse_ridge)"
      ],
      "metadata": {
        "colab": {
          "base_uri": "https://localhost:8080/"
        },
        "id": "5FjuQlc1JTPM",
        "outputId": "8e818252-0c1f-4924-9e9d-10bfdec3f756"
      },
      "execution_count": 72,
      "outputs": [
        {
          "output_type": "stream",
          "name": "stdout",
          "text": [
            "MSE ridge: 14.76469385947631\n",
            "RMSE ridge: 3.8424853753106607\n"
          ]
        }
      ]
    },
    {
      "cell_type": "code",
      "source": [
        "model_Name, model_MSE, model_RMSE"
      ],
      "metadata": {
        "colab": {
          "base_uri": "https://localhost:8080/"
        },
        "id": "LuA8nrW1JTLx",
        "outputId": "b1ff88bd-9f55-40f4-d0bb-04cd2948b062"
      },
      "execution_count": 73,
      "outputs": [
        {
          "output_type": "execute_result",
          "data": {
            "text/plain": [
              "(['Linear Reg', 'Polynomial Reg', 'Ridge Reg'],\n",
              " [14.79826707770656, 13.029404165943301, 14.76469385947631],\n",
              " [3.846851579890568, 3.609626596469959, 3.8424853753106607])"
            ]
          },
          "metadata": {},
          "execution_count": 73
        }
      ]
    },
    {
      "cell_type": "code",
      "source": [
        "result_df = pd.DataFrame({'Real Values':y_test, 'Predicted Values':y_pred_ridge})\n",
        "result_df.head(10)"
      ],
      "metadata": {
        "colab": {
          "base_uri": "https://localhost:8080/",
          "height": 363
        },
        "id": "sn7vbK41JTJF",
        "outputId": "b0622d89-860a-44f2-eaf7-409a64d046b0"
      },
      "execution_count": 74,
      "outputs": [
        {
          "output_type": "execute_result",
          "data": {
            "text/plain": [
              "     Real Values  Predicted Values\n",
              "377         31.0         34.798419\n",
              "99          18.0         19.594265\n",
              "217         30.0         26.717221\n",
              "129         31.0         28.349596\n",
              "74          13.0         10.173654\n",
              "395         32.0         30.141461\n",
              "52          30.0         23.649202\n",
              "303         31.8         32.133107\n",
              "221         17.5         16.385745\n",
              "228         18.5         19.863350"
            ],
            "text/html": [
              "\n",
              "  <div id=\"df-47188fb0-a39e-4b4a-9522-bfe38b3e86cb\">\n",
              "    <div class=\"colab-df-container\">\n",
              "      <div>\n",
              "<style scoped>\n",
              "    .dataframe tbody tr th:only-of-type {\n",
              "        vertical-align: middle;\n",
              "    }\n",
              "\n",
              "    .dataframe tbody tr th {\n",
              "        vertical-align: top;\n",
              "    }\n",
              "\n",
              "    .dataframe thead th {\n",
              "        text-align: right;\n",
              "    }\n",
              "</style>\n",
              "<table border=\"1\" class=\"dataframe\">\n",
              "  <thead>\n",
              "    <tr style=\"text-align: right;\">\n",
              "      <th></th>\n",
              "      <th>Real Values</th>\n",
              "      <th>Predicted Values</th>\n",
              "    </tr>\n",
              "  </thead>\n",
              "  <tbody>\n",
              "    <tr>\n",
              "      <th>377</th>\n",
              "      <td>31.0</td>\n",
              "      <td>34.798419</td>\n",
              "    </tr>\n",
              "    <tr>\n",
              "      <th>99</th>\n",
              "      <td>18.0</td>\n",
              "      <td>19.594265</td>\n",
              "    </tr>\n",
              "    <tr>\n",
              "      <th>217</th>\n",
              "      <td>30.0</td>\n",
              "      <td>26.717221</td>\n",
              "    </tr>\n",
              "    <tr>\n",
              "      <th>129</th>\n",
              "      <td>31.0</td>\n",
              "      <td>28.349596</td>\n",
              "    </tr>\n",
              "    <tr>\n",
              "      <th>74</th>\n",
              "      <td>13.0</td>\n",
              "      <td>10.173654</td>\n",
              "    </tr>\n",
              "    <tr>\n",
              "      <th>395</th>\n",
              "      <td>32.0</td>\n",
              "      <td>30.141461</td>\n",
              "    </tr>\n",
              "    <tr>\n",
              "      <th>52</th>\n",
              "      <td>30.0</td>\n",
              "      <td>23.649202</td>\n",
              "    </tr>\n",
              "    <tr>\n",
              "      <th>303</th>\n",
              "      <td>31.8</td>\n",
              "      <td>32.133107</td>\n",
              "    </tr>\n",
              "    <tr>\n",
              "      <th>221</th>\n",
              "      <td>17.5</td>\n",
              "      <td>16.385745</td>\n",
              "    </tr>\n",
              "    <tr>\n",
              "      <th>228</th>\n",
              "      <td>18.5</td>\n",
              "      <td>19.863350</td>\n",
              "    </tr>\n",
              "  </tbody>\n",
              "</table>\n",
              "</div>\n",
              "      <button class=\"colab-df-convert\" onclick=\"convertToInteractive('df-47188fb0-a39e-4b4a-9522-bfe38b3e86cb')\"\n",
              "              title=\"Convert this dataframe to an interactive table.\"\n",
              "              style=\"display:none;\">\n",
              "        \n",
              "  <svg xmlns=\"http://www.w3.org/2000/svg\" height=\"24px\"viewBox=\"0 0 24 24\"\n",
              "       width=\"24px\">\n",
              "    <path d=\"M0 0h24v24H0V0z\" fill=\"none\"/>\n",
              "    <path d=\"M18.56 5.44l.94 2.06.94-2.06 2.06-.94-2.06-.94-.94-2.06-.94 2.06-2.06.94zm-11 1L8.5 8.5l.94-2.06 2.06-.94-2.06-.94L8.5 2.5l-.94 2.06-2.06.94zm10 10l.94 2.06.94-2.06 2.06-.94-2.06-.94-.94-2.06-.94 2.06-2.06.94z\"/><path d=\"M17.41 7.96l-1.37-1.37c-.4-.4-.92-.59-1.43-.59-.52 0-1.04.2-1.43.59L10.3 9.45l-7.72 7.72c-.78.78-.78 2.05 0 2.83L4 21.41c.39.39.9.59 1.41.59.51 0 1.02-.2 1.41-.59l7.78-7.78 2.81-2.81c.8-.78.8-2.07 0-2.86zM5.41 20L4 18.59l7.72-7.72 1.47 1.35L5.41 20z\"/>\n",
              "  </svg>\n",
              "      </button>\n",
              "      \n",
              "  <style>\n",
              "    .colab-df-container {\n",
              "      display:flex;\n",
              "      flex-wrap:wrap;\n",
              "      gap: 12px;\n",
              "    }\n",
              "\n",
              "    .colab-df-convert {\n",
              "      background-color: #E8F0FE;\n",
              "      border: none;\n",
              "      border-radius: 50%;\n",
              "      cursor: pointer;\n",
              "      display: none;\n",
              "      fill: #1967D2;\n",
              "      height: 32px;\n",
              "      padding: 0 0 0 0;\n",
              "      width: 32px;\n",
              "    }\n",
              "\n",
              "    .colab-df-convert:hover {\n",
              "      background-color: #E2EBFA;\n",
              "      box-shadow: 0px 1px 2px rgba(60, 64, 67, 0.3), 0px 1px 3px 1px rgba(60, 64, 67, 0.15);\n",
              "      fill: #174EA6;\n",
              "    }\n",
              "\n",
              "    [theme=dark] .colab-df-convert {\n",
              "      background-color: #3B4455;\n",
              "      fill: #D2E3FC;\n",
              "    }\n",
              "\n",
              "    [theme=dark] .colab-df-convert:hover {\n",
              "      background-color: #434B5C;\n",
              "      box-shadow: 0px 1px 3px 1px rgba(0, 0, 0, 0.15);\n",
              "      filter: drop-shadow(0px 1px 2px rgba(0, 0, 0, 0.3));\n",
              "      fill: #FFFFFF;\n",
              "    }\n",
              "  </style>\n",
              "\n",
              "      <script>\n",
              "        const buttonEl =\n",
              "          document.querySelector('#df-47188fb0-a39e-4b4a-9522-bfe38b3e86cb button.colab-df-convert');\n",
              "        buttonEl.style.display =\n",
              "          google.colab.kernel.accessAllowed ? 'block' : 'none';\n",
              "\n",
              "        async function convertToInteractive(key) {\n",
              "          const element = document.querySelector('#df-47188fb0-a39e-4b4a-9522-bfe38b3e86cb');\n",
              "          const dataTable =\n",
              "            await google.colab.kernel.invokeFunction('convertToInteractive',\n",
              "                                                     [key], {});\n",
              "          if (!dataTable) return;\n",
              "\n",
              "          const docLinkHtml = 'Like what you see? Visit the ' +\n",
              "            '<a target=\"_blank\" href=https://colab.research.google.com/notebooks/data_table.ipynb>data table notebook</a>'\n",
              "            + ' to learn more about interactive tables.';\n",
              "          element.innerHTML = '';\n",
              "          dataTable['output_type'] = 'display_data';\n",
              "          await google.colab.output.renderOutput(dataTable, element);\n",
              "          const docLink = document.createElement('div');\n",
              "          docLink.innerHTML = docLinkHtml;\n",
              "          element.appendChild(docLink);\n",
              "        }\n",
              "      </script>\n",
              "    </div>\n",
              "  </div>\n",
              "  "
            ]
          },
          "metadata": {},
          "execution_count": 74
        }
      ]
    },
    {
      "cell_type": "markdown",
      "source": [
        "### Lasso Regression"
      ],
      "metadata": {
        "id": "4B7hbLQ2IuVJ"
      }
    },
    {
      "cell_type": "code",
      "source": [
        "# Create a lasso regression model\n",
        "lasso = Lasso(alpha=1)\n",
        "\n",
        "# Train the model on the training data\n",
        "lasso.fit(x_train_scaled, y_train)\n",
        "\n",
        "# Predict the target variable on the test data\n",
        "y_pred_lasso = lasso.predict(x_test_scaled)\n",
        "\n",
        "mse_lasso = mse(y_test, y_pred_lasso)\n",
        "rmse_lasso = sqrt(mse_lasso)\n",
        "\n",
        "# Evaluate the performance of the model\n",
        "print(\"MSE lasso:\", mse_lasso)\n",
        "print(\"RMSE lasso:\", rmse_lasso)\n",
        "\n",
        "# append values to array\n",
        "model_Name.append(\"Lasso Reg\")\n",
        "model_MSE.append(mse_lasso)\n",
        "model_RMSE.append(rmse_lasso)"
      ],
      "metadata": {
        "colab": {
          "base_uri": "https://localhost:8080/"
        },
        "id": "JZieyxgkJV6U",
        "outputId": "793312de-6680-4fb0-ac42-f138f1f1fcab"
      },
      "execution_count": 75,
      "outputs": [
        {
          "output_type": "stream",
          "name": "stdout",
          "text": [
            "MSE lasso: 15.066874594864526\n",
            "RMSE lasso: 3.8816072180044863\n"
          ]
        }
      ]
    },
    {
      "cell_type": "code",
      "source": [
        "model_Name, model_MSE, model_RMSE"
      ],
      "metadata": {
        "colab": {
          "base_uri": "https://localhost:8080/"
        },
        "id": "xYWN3ZyMJV2u",
        "outputId": "38522918-2a93-4aae-8747-8f733fd317de"
      },
      "execution_count": 76,
      "outputs": [
        {
          "output_type": "execute_result",
          "data": {
            "text/plain": [
              "(['Linear Reg', 'Polynomial Reg', 'Ridge Reg', 'Lasso Reg'],\n",
              " [14.79826707770656,\n",
              "  13.029404165943301,\n",
              "  14.76469385947631,\n",
              "  15.066874594864526],\n",
              " [3.846851579890568,\n",
              "  3.609626596469959,\n",
              "  3.8424853753106607,\n",
              "  3.8816072180044863])"
            ]
          },
          "metadata": {},
          "execution_count": 76
        }
      ]
    },
    {
      "cell_type": "code",
      "source": [
        "result_df = pd.DataFrame({'Real Values':y_test, 'Predicted Values':y_pred_lasso})\n",
        "result_df.head(10)"
      ],
      "metadata": {
        "colab": {
          "base_uri": "https://localhost:8080/",
          "height": 363
        },
        "id": "0qpA0kQeJV0b",
        "outputId": "f542cc78-ca99-460e-db4b-3d7ce6421e11"
      },
      "execution_count": 77,
      "outputs": [
        {
          "output_type": "execute_result",
          "data": {
            "text/plain": [
              "     Real Values  Predicted Values\n",
              "377         31.0         31.943345\n",
              "99          18.0         20.305442\n",
              "217         30.0         26.864549\n",
              "129         31.0         27.323026\n",
              "74          13.0         12.441926\n",
              "395         32.0         29.072954\n",
              "52          30.0         24.320510\n",
              "303         31.8         29.985848\n",
              "221         17.5         17.294192\n",
              "228         18.5         19.924284"
            ],
            "text/html": [
              "\n",
              "  <div id=\"df-877c792a-b3ad-4057-a30c-aa344eb25e0a\">\n",
              "    <div class=\"colab-df-container\">\n",
              "      <div>\n",
              "<style scoped>\n",
              "    .dataframe tbody tr th:only-of-type {\n",
              "        vertical-align: middle;\n",
              "    }\n",
              "\n",
              "    .dataframe tbody tr th {\n",
              "        vertical-align: top;\n",
              "    }\n",
              "\n",
              "    .dataframe thead th {\n",
              "        text-align: right;\n",
              "    }\n",
              "</style>\n",
              "<table border=\"1\" class=\"dataframe\">\n",
              "  <thead>\n",
              "    <tr style=\"text-align: right;\">\n",
              "      <th></th>\n",
              "      <th>Real Values</th>\n",
              "      <th>Predicted Values</th>\n",
              "    </tr>\n",
              "  </thead>\n",
              "  <tbody>\n",
              "    <tr>\n",
              "      <th>377</th>\n",
              "      <td>31.0</td>\n",
              "      <td>31.943345</td>\n",
              "    </tr>\n",
              "    <tr>\n",
              "      <th>99</th>\n",
              "      <td>18.0</td>\n",
              "      <td>20.305442</td>\n",
              "    </tr>\n",
              "    <tr>\n",
              "      <th>217</th>\n",
              "      <td>30.0</td>\n",
              "      <td>26.864549</td>\n",
              "    </tr>\n",
              "    <tr>\n",
              "      <th>129</th>\n",
              "      <td>31.0</td>\n",
              "      <td>27.323026</td>\n",
              "    </tr>\n",
              "    <tr>\n",
              "      <th>74</th>\n",
              "      <td>13.0</td>\n",
              "      <td>12.441926</td>\n",
              "    </tr>\n",
              "    <tr>\n",
              "      <th>395</th>\n",
              "      <td>32.0</td>\n",
              "      <td>29.072954</td>\n",
              "    </tr>\n",
              "    <tr>\n",
              "      <th>52</th>\n",
              "      <td>30.0</td>\n",
              "      <td>24.320510</td>\n",
              "    </tr>\n",
              "    <tr>\n",
              "      <th>303</th>\n",
              "      <td>31.8</td>\n",
              "      <td>29.985848</td>\n",
              "    </tr>\n",
              "    <tr>\n",
              "      <th>221</th>\n",
              "      <td>17.5</td>\n",
              "      <td>17.294192</td>\n",
              "    </tr>\n",
              "    <tr>\n",
              "      <th>228</th>\n",
              "      <td>18.5</td>\n",
              "      <td>19.924284</td>\n",
              "    </tr>\n",
              "  </tbody>\n",
              "</table>\n",
              "</div>\n",
              "      <button class=\"colab-df-convert\" onclick=\"convertToInteractive('df-877c792a-b3ad-4057-a30c-aa344eb25e0a')\"\n",
              "              title=\"Convert this dataframe to an interactive table.\"\n",
              "              style=\"display:none;\">\n",
              "        \n",
              "  <svg xmlns=\"http://www.w3.org/2000/svg\" height=\"24px\"viewBox=\"0 0 24 24\"\n",
              "       width=\"24px\">\n",
              "    <path d=\"M0 0h24v24H0V0z\" fill=\"none\"/>\n",
              "    <path d=\"M18.56 5.44l.94 2.06.94-2.06 2.06-.94-2.06-.94-.94-2.06-.94 2.06-2.06.94zm-11 1L8.5 8.5l.94-2.06 2.06-.94-2.06-.94L8.5 2.5l-.94 2.06-2.06.94zm10 10l.94 2.06.94-2.06 2.06-.94-2.06-.94-.94-2.06-.94 2.06-2.06.94z\"/><path d=\"M17.41 7.96l-1.37-1.37c-.4-.4-.92-.59-1.43-.59-.52 0-1.04.2-1.43.59L10.3 9.45l-7.72 7.72c-.78.78-.78 2.05 0 2.83L4 21.41c.39.39.9.59 1.41.59.51 0 1.02-.2 1.41-.59l7.78-7.78 2.81-2.81c.8-.78.8-2.07 0-2.86zM5.41 20L4 18.59l7.72-7.72 1.47 1.35L5.41 20z\"/>\n",
              "  </svg>\n",
              "      </button>\n",
              "      \n",
              "  <style>\n",
              "    .colab-df-container {\n",
              "      display:flex;\n",
              "      flex-wrap:wrap;\n",
              "      gap: 12px;\n",
              "    }\n",
              "\n",
              "    .colab-df-convert {\n",
              "      background-color: #E8F0FE;\n",
              "      border: none;\n",
              "      border-radius: 50%;\n",
              "      cursor: pointer;\n",
              "      display: none;\n",
              "      fill: #1967D2;\n",
              "      height: 32px;\n",
              "      padding: 0 0 0 0;\n",
              "      width: 32px;\n",
              "    }\n",
              "\n",
              "    .colab-df-convert:hover {\n",
              "      background-color: #E2EBFA;\n",
              "      box-shadow: 0px 1px 2px rgba(60, 64, 67, 0.3), 0px 1px 3px 1px rgba(60, 64, 67, 0.15);\n",
              "      fill: #174EA6;\n",
              "    }\n",
              "\n",
              "    [theme=dark] .colab-df-convert {\n",
              "      background-color: #3B4455;\n",
              "      fill: #D2E3FC;\n",
              "    }\n",
              "\n",
              "    [theme=dark] .colab-df-convert:hover {\n",
              "      background-color: #434B5C;\n",
              "      box-shadow: 0px 1px 3px 1px rgba(0, 0, 0, 0.15);\n",
              "      filter: drop-shadow(0px 1px 2px rgba(0, 0, 0, 0.3));\n",
              "      fill: #FFFFFF;\n",
              "    }\n",
              "  </style>\n",
              "\n",
              "      <script>\n",
              "        const buttonEl =\n",
              "          document.querySelector('#df-877c792a-b3ad-4057-a30c-aa344eb25e0a button.colab-df-convert');\n",
              "        buttonEl.style.display =\n",
              "          google.colab.kernel.accessAllowed ? 'block' : 'none';\n",
              "\n",
              "        async function convertToInteractive(key) {\n",
              "          const element = document.querySelector('#df-877c792a-b3ad-4057-a30c-aa344eb25e0a');\n",
              "          const dataTable =\n",
              "            await google.colab.kernel.invokeFunction('convertToInteractive',\n",
              "                                                     [key], {});\n",
              "          if (!dataTable) return;\n",
              "\n",
              "          const docLinkHtml = 'Like what you see? Visit the ' +\n",
              "            '<a target=\"_blank\" href=https://colab.research.google.com/notebooks/data_table.ipynb>data table notebook</a>'\n",
              "            + ' to learn more about interactive tables.';\n",
              "          element.innerHTML = '';\n",
              "          dataTable['output_type'] = 'display_data';\n",
              "          await google.colab.output.renderOutput(dataTable, element);\n",
              "          const docLink = document.createElement('div');\n",
              "          docLink.innerHTML = docLinkHtml;\n",
              "          element.appendChild(docLink);\n",
              "        }\n",
              "      </script>\n",
              "    </div>\n",
              "  </div>\n",
              "  "
            ]
          },
          "metadata": {},
          "execution_count": 77
        }
      ]
    },
    {
      "cell_type": "markdown",
      "source": [
        "### SVR"
      ],
      "metadata": {
        "id": "lqkfGJeMIuK-"
      }
    },
    {
      "cell_type": "code",
      "source": [
        "svr = SVR(kernel='linear', C=1, epsilon=0.1)\n",
        "\n",
        "# Train the model on the training data\n",
        "svr.fit(x_train_scaled, y_train)\n",
        "\n",
        "# Predict the target variable on the test data\n",
        "y_pred_svr = svr.predict(x_test_scaled)\n",
        "\n",
        "mse_svr = mse(y_test, y_pred_svr)\n",
        "rmse_svr = sqrt(mse_svr)\n",
        "\n",
        "# Evaluate the performance of the model\n",
        "print(\"MSE SVR:\", mse_svr)\n",
        "print(\"RMSE SVR:\", rmse_svr)\n",
        "\n",
        "# append values to array\n",
        "model_Name.append(\"SVR\")\n",
        "model_MSE.append(mse_svr)\n",
        "model_RMSE.append(rmse_svr)"
      ],
      "metadata": {
        "colab": {
          "base_uri": "https://localhost:8080/"
        },
        "id": "ThVtYbNJJWfz",
        "outputId": "02008754-e925-47c8-ec2c-b687076572c4"
      },
      "execution_count": 78,
      "outputs": [
        {
          "output_type": "stream",
          "name": "stdout",
          "text": [
            "MSE SVR: 15.068400803164044\n",
            "RMSE SVR: 3.88180380791766\n"
          ]
        }
      ]
    },
    {
      "cell_type": "code",
      "source": [
        "model_Name, model_MSE, model_RMSE"
      ],
      "metadata": {
        "colab": {
          "base_uri": "https://localhost:8080/"
        },
        "id": "tM7-O2heJWb-",
        "outputId": "f61c5ec2-81c7-45e5-c3d4-2f56e9e5c78e"
      },
      "execution_count": 79,
      "outputs": [
        {
          "output_type": "execute_result",
          "data": {
            "text/plain": [
              "(['Linear Reg', 'Polynomial Reg', 'Ridge Reg', 'Lasso Reg', 'SVR'],\n",
              " [14.79826707770656,\n",
              "  13.029404165943301,\n",
              "  14.76469385947631,\n",
              "  15.066874594864526,\n",
              "  15.068400803164044],\n",
              " [3.846851579890568,\n",
              "  3.609626596469959,\n",
              "  3.8424853753106607,\n",
              "  3.8816072180044863,\n",
              "  3.88180380791766])"
            ]
          },
          "metadata": {},
          "execution_count": 79
        }
      ]
    },
    {
      "cell_type": "code",
      "source": [
        "result_df = pd.DataFrame({'Real Values':y_test, 'Predicted Values':y_pred_svr})\n",
        "result_df.head(10)"
      ],
      "metadata": {
        "colab": {
          "base_uri": "https://localhost:8080/",
          "height": 363
        },
        "id": "HebN5fkyJWZe",
        "outputId": "15b119a8-e070-4725-8306-aec74298e48a"
      },
      "execution_count": 80,
      "outputs": [
        {
          "output_type": "execute_result",
          "data": {
            "text/plain": [
              "     Real Values  Predicted Values\n",
              "377         31.0         33.924513\n",
              "99          18.0         19.478832\n",
              "217         30.0         26.001446\n",
              "129         31.0         28.316466\n",
              "74          13.0         10.743014\n",
              "395         32.0         28.970419\n",
              "52          30.0         23.791554\n",
              "303         31.8         31.557643\n",
              "221         17.5         16.373420\n",
              "228         18.5         19.442126"
            ],
            "text/html": [
              "\n",
              "  <div id=\"df-ef5da6f0-1543-46a8-9483-e121edefceba\">\n",
              "    <div class=\"colab-df-container\">\n",
              "      <div>\n",
              "<style scoped>\n",
              "    .dataframe tbody tr th:only-of-type {\n",
              "        vertical-align: middle;\n",
              "    }\n",
              "\n",
              "    .dataframe tbody tr th {\n",
              "        vertical-align: top;\n",
              "    }\n",
              "\n",
              "    .dataframe thead th {\n",
              "        text-align: right;\n",
              "    }\n",
              "</style>\n",
              "<table border=\"1\" class=\"dataframe\">\n",
              "  <thead>\n",
              "    <tr style=\"text-align: right;\">\n",
              "      <th></th>\n",
              "      <th>Real Values</th>\n",
              "      <th>Predicted Values</th>\n",
              "    </tr>\n",
              "  </thead>\n",
              "  <tbody>\n",
              "    <tr>\n",
              "      <th>377</th>\n",
              "      <td>31.0</td>\n",
              "      <td>33.924513</td>\n",
              "    </tr>\n",
              "    <tr>\n",
              "      <th>99</th>\n",
              "      <td>18.0</td>\n",
              "      <td>19.478832</td>\n",
              "    </tr>\n",
              "    <tr>\n",
              "      <th>217</th>\n",
              "      <td>30.0</td>\n",
              "      <td>26.001446</td>\n",
              "    </tr>\n",
              "    <tr>\n",
              "      <th>129</th>\n",
              "      <td>31.0</td>\n",
              "      <td>28.316466</td>\n",
              "    </tr>\n",
              "    <tr>\n",
              "      <th>74</th>\n",
              "      <td>13.0</td>\n",
              "      <td>10.743014</td>\n",
              "    </tr>\n",
              "    <tr>\n",
              "      <th>395</th>\n",
              "      <td>32.0</td>\n",
              "      <td>28.970419</td>\n",
              "    </tr>\n",
              "    <tr>\n",
              "      <th>52</th>\n",
              "      <td>30.0</td>\n",
              "      <td>23.791554</td>\n",
              "    </tr>\n",
              "    <tr>\n",
              "      <th>303</th>\n",
              "      <td>31.8</td>\n",
              "      <td>31.557643</td>\n",
              "    </tr>\n",
              "    <tr>\n",
              "      <th>221</th>\n",
              "      <td>17.5</td>\n",
              "      <td>16.373420</td>\n",
              "    </tr>\n",
              "    <tr>\n",
              "      <th>228</th>\n",
              "      <td>18.5</td>\n",
              "      <td>19.442126</td>\n",
              "    </tr>\n",
              "  </tbody>\n",
              "</table>\n",
              "</div>\n",
              "      <button class=\"colab-df-convert\" onclick=\"convertToInteractive('df-ef5da6f0-1543-46a8-9483-e121edefceba')\"\n",
              "              title=\"Convert this dataframe to an interactive table.\"\n",
              "              style=\"display:none;\">\n",
              "        \n",
              "  <svg xmlns=\"http://www.w3.org/2000/svg\" height=\"24px\"viewBox=\"0 0 24 24\"\n",
              "       width=\"24px\">\n",
              "    <path d=\"M0 0h24v24H0V0z\" fill=\"none\"/>\n",
              "    <path d=\"M18.56 5.44l.94 2.06.94-2.06 2.06-.94-2.06-.94-.94-2.06-.94 2.06-2.06.94zm-11 1L8.5 8.5l.94-2.06 2.06-.94-2.06-.94L8.5 2.5l-.94 2.06-2.06.94zm10 10l.94 2.06.94-2.06 2.06-.94-2.06-.94-.94-2.06-.94 2.06-2.06.94z\"/><path d=\"M17.41 7.96l-1.37-1.37c-.4-.4-.92-.59-1.43-.59-.52 0-1.04.2-1.43.59L10.3 9.45l-7.72 7.72c-.78.78-.78 2.05 0 2.83L4 21.41c.39.39.9.59 1.41.59.51 0 1.02-.2 1.41-.59l7.78-7.78 2.81-2.81c.8-.78.8-2.07 0-2.86zM5.41 20L4 18.59l7.72-7.72 1.47 1.35L5.41 20z\"/>\n",
              "  </svg>\n",
              "      </button>\n",
              "      \n",
              "  <style>\n",
              "    .colab-df-container {\n",
              "      display:flex;\n",
              "      flex-wrap:wrap;\n",
              "      gap: 12px;\n",
              "    }\n",
              "\n",
              "    .colab-df-convert {\n",
              "      background-color: #E8F0FE;\n",
              "      border: none;\n",
              "      border-radius: 50%;\n",
              "      cursor: pointer;\n",
              "      display: none;\n",
              "      fill: #1967D2;\n",
              "      height: 32px;\n",
              "      padding: 0 0 0 0;\n",
              "      width: 32px;\n",
              "    }\n",
              "\n",
              "    .colab-df-convert:hover {\n",
              "      background-color: #E2EBFA;\n",
              "      box-shadow: 0px 1px 2px rgba(60, 64, 67, 0.3), 0px 1px 3px 1px rgba(60, 64, 67, 0.15);\n",
              "      fill: #174EA6;\n",
              "    }\n",
              "\n",
              "    [theme=dark] .colab-df-convert {\n",
              "      background-color: #3B4455;\n",
              "      fill: #D2E3FC;\n",
              "    }\n",
              "\n",
              "    [theme=dark] .colab-df-convert:hover {\n",
              "      background-color: #434B5C;\n",
              "      box-shadow: 0px 1px 3px 1px rgba(0, 0, 0, 0.15);\n",
              "      filter: drop-shadow(0px 1px 2px rgba(0, 0, 0, 0.3));\n",
              "      fill: #FFFFFF;\n",
              "    }\n",
              "  </style>\n",
              "\n",
              "      <script>\n",
              "        const buttonEl =\n",
              "          document.querySelector('#df-ef5da6f0-1543-46a8-9483-e121edefceba button.colab-df-convert');\n",
              "        buttonEl.style.display =\n",
              "          google.colab.kernel.accessAllowed ? 'block' : 'none';\n",
              "\n",
              "        async function convertToInteractive(key) {\n",
              "          const element = document.querySelector('#df-ef5da6f0-1543-46a8-9483-e121edefceba');\n",
              "          const dataTable =\n",
              "            await google.colab.kernel.invokeFunction('convertToInteractive',\n",
              "                                                     [key], {});\n",
              "          if (!dataTable) return;\n",
              "\n",
              "          const docLinkHtml = 'Like what you see? Visit the ' +\n",
              "            '<a target=\"_blank\" href=https://colab.research.google.com/notebooks/data_table.ipynb>data table notebook</a>'\n",
              "            + ' to learn more about interactive tables.';\n",
              "          element.innerHTML = '';\n",
              "          dataTable['output_type'] = 'display_data';\n",
              "          await google.colab.output.renderOutput(dataTable, element);\n",
              "          const docLink = document.createElement('div');\n",
              "          docLink.innerHTML = docLinkHtml;\n",
              "          element.appendChild(docLink);\n",
              "        }\n",
              "      </script>\n",
              "    </div>\n",
              "  </div>\n",
              "  "
            ]
          },
          "metadata": {},
          "execution_count": 80
        }
      ]
    },
    {
      "cell_type": "markdown",
      "source": [
        "### Decision Tree Regressor"
      ],
      "metadata": {
        "id": "vT9gXP-4It_X"
      }
    },
    {
      "cell_type": "code",
      "source": [
        "# Create a decision tree regressor\n",
        "dtr = DecisionTreeRegressor(max_depth=5, random_state=42)\n",
        "\n",
        "# Train the model on the training data\n",
        "dtr.fit(x_train_scaled, y_train)\n",
        "\n",
        "# Predict the target variable on the test data\n",
        "y_pred_dtr = dtr.predict(x_test_scaled)\n",
        "\n",
        "mse_dtr = mse(y_test, y_pred_dtr)\n",
        "rmse_dtr = sqrt(mse_dtr)\n",
        "\n",
        "# Evaluate the performance of the model\n",
        "print(\"MSE dtr:\", mse_dtr)\n",
        "print(\"RMSE dtr:\", rmse_dtr)\n",
        "\n",
        "# # append values to array\n",
        "model_Name.append(\"DT Reg\")\n",
        "model_MSE.append(mse_dtr)\n",
        "model_RMSE.append(rmse_dtr)"
      ],
      "metadata": {
        "colab": {
          "base_uri": "https://localhost:8080/"
        },
        "id": "hAzgWLJXJXSG",
        "outputId": "530fe95d-f9d8-4f38-c3ce-b96e96cb60c1"
      },
      "execution_count": 81,
      "outputs": [
        {
          "output_type": "stream",
          "name": "stdout",
          "text": [
            "MSE dtr: 21.331236812033218\n",
            "RMSE dtr: 4.618575192852577\n"
          ]
        }
      ]
    },
    {
      "cell_type": "code",
      "source": [
        "model_Name, model_MSE, model_RMSE"
      ],
      "metadata": {
        "colab": {
          "base_uri": "https://localhost:8080/"
        },
        "id": "DvKOJBjNJXGJ",
        "outputId": "1a51d422-6133-42f9-da99-9065da6cf76a"
      },
      "execution_count": 82,
      "outputs": [
        {
          "output_type": "execute_result",
          "data": {
            "text/plain": [
              "(['Linear Reg', 'Polynomial Reg', 'Ridge Reg', 'Lasso Reg', 'SVR', 'DT Reg'],\n",
              " [14.79826707770656,\n",
              "  13.029404165943301,\n",
              "  14.76469385947631,\n",
              "  15.066874594864526,\n",
              "  15.068400803164044,\n",
              "  21.331236812033218],\n",
              " [3.846851579890568,\n",
              "  3.609626596469959,\n",
              "  3.8424853753106607,\n",
              "  3.8816072180044863,\n",
              "  3.88180380791766,\n",
              "  4.618575192852577])"
            ]
          },
          "metadata": {},
          "execution_count": 82
        }
      ]
    },
    {
      "cell_type": "code",
      "source": [
        "result_df = pd.DataFrame({'Real Values':y_test, 'Predicted Values':y_pred_dtr})\n",
        "result_df.head(10)"
      ],
      "metadata": {
        "colab": {
          "base_uri": "https://localhost:8080/",
          "height": 363
        },
        "id": "WN6pIMwMJXCx",
        "outputId": "79d0f7dd-191f-4129-fe50-d927df892f2c"
      },
      "execution_count": 83,
      "outputs": [
        {
          "output_type": "execute_result",
          "data": {
            "text/plain": [
              "     Real Values  Predicted Values\n",
              "377         31.0         33.437500\n",
              "99          18.0         17.350000\n",
              "217         30.0         23.306667\n",
              "129         31.0         32.285714\n",
              "74          13.0         12.523810\n",
              "395         32.0         34.089474\n",
              "52          30.0         24.833333\n",
              "303         31.8         33.437500\n",
              "221         17.5         14.559524\n",
              "228         18.5         14.559524"
            ],
            "text/html": [
              "\n",
              "  <div id=\"df-092951b1-f314-48ed-92bf-7a11cf665b54\">\n",
              "    <div class=\"colab-df-container\">\n",
              "      <div>\n",
              "<style scoped>\n",
              "    .dataframe tbody tr th:only-of-type {\n",
              "        vertical-align: middle;\n",
              "    }\n",
              "\n",
              "    .dataframe tbody tr th {\n",
              "        vertical-align: top;\n",
              "    }\n",
              "\n",
              "    .dataframe thead th {\n",
              "        text-align: right;\n",
              "    }\n",
              "</style>\n",
              "<table border=\"1\" class=\"dataframe\">\n",
              "  <thead>\n",
              "    <tr style=\"text-align: right;\">\n",
              "      <th></th>\n",
              "      <th>Real Values</th>\n",
              "      <th>Predicted Values</th>\n",
              "    </tr>\n",
              "  </thead>\n",
              "  <tbody>\n",
              "    <tr>\n",
              "      <th>377</th>\n",
              "      <td>31.0</td>\n",
              "      <td>33.437500</td>\n",
              "    </tr>\n",
              "    <tr>\n",
              "      <th>99</th>\n",
              "      <td>18.0</td>\n",
              "      <td>17.350000</td>\n",
              "    </tr>\n",
              "    <tr>\n",
              "      <th>217</th>\n",
              "      <td>30.0</td>\n",
              "      <td>23.306667</td>\n",
              "    </tr>\n",
              "    <tr>\n",
              "      <th>129</th>\n",
              "      <td>31.0</td>\n",
              "      <td>32.285714</td>\n",
              "    </tr>\n",
              "    <tr>\n",
              "      <th>74</th>\n",
              "      <td>13.0</td>\n",
              "      <td>12.523810</td>\n",
              "    </tr>\n",
              "    <tr>\n",
              "      <th>395</th>\n",
              "      <td>32.0</td>\n",
              "      <td>34.089474</td>\n",
              "    </tr>\n",
              "    <tr>\n",
              "      <th>52</th>\n",
              "      <td>30.0</td>\n",
              "      <td>24.833333</td>\n",
              "    </tr>\n",
              "    <tr>\n",
              "      <th>303</th>\n",
              "      <td>31.8</td>\n",
              "      <td>33.437500</td>\n",
              "    </tr>\n",
              "    <tr>\n",
              "      <th>221</th>\n",
              "      <td>17.5</td>\n",
              "      <td>14.559524</td>\n",
              "    </tr>\n",
              "    <tr>\n",
              "      <th>228</th>\n",
              "      <td>18.5</td>\n",
              "      <td>14.559524</td>\n",
              "    </tr>\n",
              "  </tbody>\n",
              "</table>\n",
              "</div>\n",
              "      <button class=\"colab-df-convert\" onclick=\"convertToInteractive('df-092951b1-f314-48ed-92bf-7a11cf665b54')\"\n",
              "              title=\"Convert this dataframe to an interactive table.\"\n",
              "              style=\"display:none;\">\n",
              "        \n",
              "  <svg xmlns=\"http://www.w3.org/2000/svg\" height=\"24px\"viewBox=\"0 0 24 24\"\n",
              "       width=\"24px\">\n",
              "    <path d=\"M0 0h24v24H0V0z\" fill=\"none\"/>\n",
              "    <path d=\"M18.56 5.44l.94 2.06.94-2.06 2.06-.94-2.06-.94-.94-2.06-.94 2.06-2.06.94zm-11 1L8.5 8.5l.94-2.06 2.06-.94-2.06-.94L8.5 2.5l-.94 2.06-2.06.94zm10 10l.94 2.06.94-2.06 2.06-.94-2.06-.94-.94-2.06-.94 2.06-2.06.94z\"/><path d=\"M17.41 7.96l-1.37-1.37c-.4-.4-.92-.59-1.43-.59-.52 0-1.04.2-1.43.59L10.3 9.45l-7.72 7.72c-.78.78-.78 2.05 0 2.83L4 21.41c.39.39.9.59 1.41.59.51 0 1.02-.2 1.41-.59l7.78-7.78 2.81-2.81c.8-.78.8-2.07 0-2.86zM5.41 20L4 18.59l7.72-7.72 1.47 1.35L5.41 20z\"/>\n",
              "  </svg>\n",
              "      </button>\n",
              "      \n",
              "  <style>\n",
              "    .colab-df-container {\n",
              "      display:flex;\n",
              "      flex-wrap:wrap;\n",
              "      gap: 12px;\n",
              "    }\n",
              "\n",
              "    .colab-df-convert {\n",
              "      background-color: #E8F0FE;\n",
              "      border: none;\n",
              "      border-radius: 50%;\n",
              "      cursor: pointer;\n",
              "      display: none;\n",
              "      fill: #1967D2;\n",
              "      height: 32px;\n",
              "      padding: 0 0 0 0;\n",
              "      width: 32px;\n",
              "    }\n",
              "\n",
              "    .colab-df-convert:hover {\n",
              "      background-color: #E2EBFA;\n",
              "      box-shadow: 0px 1px 2px rgba(60, 64, 67, 0.3), 0px 1px 3px 1px rgba(60, 64, 67, 0.15);\n",
              "      fill: #174EA6;\n",
              "    }\n",
              "\n",
              "    [theme=dark] .colab-df-convert {\n",
              "      background-color: #3B4455;\n",
              "      fill: #D2E3FC;\n",
              "    }\n",
              "\n",
              "    [theme=dark] .colab-df-convert:hover {\n",
              "      background-color: #434B5C;\n",
              "      box-shadow: 0px 1px 3px 1px rgba(0, 0, 0, 0.15);\n",
              "      filter: drop-shadow(0px 1px 2px rgba(0, 0, 0, 0.3));\n",
              "      fill: #FFFFFF;\n",
              "    }\n",
              "  </style>\n",
              "\n",
              "      <script>\n",
              "        const buttonEl =\n",
              "          document.querySelector('#df-092951b1-f314-48ed-92bf-7a11cf665b54 button.colab-df-convert');\n",
              "        buttonEl.style.display =\n",
              "          google.colab.kernel.accessAllowed ? 'block' : 'none';\n",
              "\n",
              "        async function convertToInteractive(key) {\n",
              "          const element = document.querySelector('#df-092951b1-f314-48ed-92bf-7a11cf665b54');\n",
              "          const dataTable =\n",
              "            await google.colab.kernel.invokeFunction('convertToInteractive',\n",
              "                                                     [key], {});\n",
              "          if (!dataTable) return;\n",
              "\n",
              "          const docLinkHtml = 'Like what you see? Visit the ' +\n",
              "            '<a target=\"_blank\" href=https://colab.research.google.com/notebooks/data_table.ipynb>data table notebook</a>'\n",
              "            + ' to learn more about interactive tables.';\n",
              "          element.innerHTML = '';\n",
              "          dataTable['output_type'] = 'display_data';\n",
              "          await google.colab.output.renderOutput(dataTable, element);\n",
              "          const docLink = document.createElement('div');\n",
              "          docLink.innerHTML = docLinkHtml;\n",
              "          element.appendChild(docLink);\n",
              "        }\n",
              "      </script>\n",
              "    </div>\n",
              "  </div>\n",
              "  "
            ]
          },
          "metadata": {},
          "execution_count": 83
        }
      ]
    },
    {
      "cell_type": "markdown",
      "source": [
        "### Random Forest Regressor"
      ],
      "metadata": {
        "id": "7lqkPgGnItXN"
      }
    },
    {
      "cell_type": "code",
      "source": [
        "# Create a random forest regressor\n",
        "rfr = RandomForestRegressor(n_estimators=100, max_depth=14, random_state=42)\n",
        "\n",
        "# Train the model on the training data\n",
        "rfr.fit(x_train_scaled, y_train)\n",
        "\n",
        "# Predict the target variable on the test data\n",
        "y_pred_rfr = rfr.predict(x_test_scaled)\n",
        "\n",
        "mse_rfr = mse(y_test, y_pred_rfr)\n",
        "rmse_rfr = sqrt(mse_rfr)\n",
        "\n",
        "# Evaluate the performance of the model\n",
        "print(\"MSE rfr:\", mse_rfr)\n",
        "print(\"RMSE rfr:\", rmse_rfr)\n",
        "\n",
        "# append values to array\n",
        "model_Name.append(\"RF Reg\")\n",
        "model_MSE.append(mse_rfr)\n",
        "model_RMSE.append(rmse_rfr)"
      ],
      "metadata": {
        "colab": {
          "base_uri": "https://localhost:8080/"
        },
        "id": "5oExUTJJJX0a",
        "outputId": "6be2181d-96bf-4600-949c-b5ea72d2b08e"
      },
      "execution_count": 84,
      "outputs": [
        {
          "output_type": "stream",
          "name": "stdout",
          "text": [
            "MSE rfr: 11.509173513805427\n",
            "RMSE rfr: 3.392517282757072\n"
          ]
        }
      ]
    },
    {
      "cell_type": "code",
      "source": [
        "model_Name, model_MSE, model_RMSE"
      ],
      "metadata": {
        "colab": {
          "base_uri": "https://localhost:8080/"
        },
        "id": "fE64k7PaJXwP",
        "outputId": "cd91543e-6194-4bb6-e557-96b836021ec3"
      },
      "execution_count": 85,
      "outputs": [
        {
          "output_type": "execute_result",
          "data": {
            "text/plain": [
              "(['Linear Reg',\n",
              "  'Polynomial Reg',\n",
              "  'Ridge Reg',\n",
              "  'Lasso Reg',\n",
              "  'SVR',\n",
              "  'DT Reg',\n",
              "  'RF Reg'],\n",
              " [14.79826707770656,\n",
              "  13.029404165943301,\n",
              "  14.76469385947631,\n",
              "  15.066874594864526,\n",
              "  15.068400803164044,\n",
              "  21.331236812033218,\n",
              "  11.509173513805427],\n",
              " [3.846851579890568,\n",
              "  3.609626596469959,\n",
              "  3.8424853753106607,\n",
              "  3.8816072180044863,\n",
              "  3.88180380791766,\n",
              "  4.618575192852577,\n",
              "  3.392517282757072])"
            ]
          },
          "metadata": {},
          "execution_count": 85
        }
      ]
    },
    {
      "cell_type": "code",
      "source": [
        "result_df = pd.DataFrame({'Real Values':y_test, 'Predicted Values':y_pred_rfr})\n",
        "result_df.head(10)"
      ],
      "metadata": {
        "colab": {
          "base_uri": "https://localhost:8080/",
          "height": 363
        },
        "id": "1XHi6E45JXtm",
        "outputId": "448f7ba9-11df-4b69-8380-04aff4b76539"
      },
      "execution_count": 86,
      "outputs": [
        {
          "output_type": "execute_result",
          "data": {
            "text/plain": [
              "     Real Values  Predicted Values\n",
              "377         31.0         35.101000\n",
              "99          18.0         16.691000\n",
              "217         30.0         24.927200\n",
              "129         31.0         28.313000\n",
              "74          13.0         12.685000\n",
              "395         32.0         30.579000\n",
              "52          30.0         23.367000\n",
              "303         31.8         33.470567\n",
              "221         17.5         15.310000\n",
              "228         18.5         15.083000"
            ],
            "text/html": [
              "\n",
              "  <div id=\"df-ee289bcc-c373-4bee-9d7a-8c42bee9b65f\">\n",
              "    <div class=\"colab-df-container\">\n",
              "      <div>\n",
              "<style scoped>\n",
              "    .dataframe tbody tr th:only-of-type {\n",
              "        vertical-align: middle;\n",
              "    }\n",
              "\n",
              "    .dataframe tbody tr th {\n",
              "        vertical-align: top;\n",
              "    }\n",
              "\n",
              "    .dataframe thead th {\n",
              "        text-align: right;\n",
              "    }\n",
              "</style>\n",
              "<table border=\"1\" class=\"dataframe\">\n",
              "  <thead>\n",
              "    <tr style=\"text-align: right;\">\n",
              "      <th></th>\n",
              "      <th>Real Values</th>\n",
              "      <th>Predicted Values</th>\n",
              "    </tr>\n",
              "  </thead>\n",
              "  <tbody>\n",
              "    <tr>\n",
              "      <th>377</th>\n",
              "      <td>31.0</td>\n",
              "      <td>35.101000</td>\n",
              "    </tr>\n",
              "    <tr>\n",
              "      <th>99</th>\n",
              "      <td>18.0</td>\n",
              "      <td>16.691000</td>\n",
              "    </tr>\n",
              "    <tr>\n",
              "      <th>217</th>\n",
              "      <td>30.0</td>\n",
              "      <td>24.927200</td>\n",
              "    </tr>\n",
              "    <tr>\n",
              "      <th>129</th>\n",
              "      <td>31.0</td>\n",
              "      <td>28.313000</td>\n",
              "    </tr>\n",
              "    <tr>\n",
              "      <th>74</th>\n",
              "      <td>13.0</td>\n",
              "      <td>12.685000</td>\n",
              "    </tr>\n",
              "    <tr>\n",
              "      <th>395</th>\n",
              "      <td>32.0</td>\n",
              "      <td>30.579000</td>\n",
              "    </tr>\n",
              "    <tr>\n",
              "      <th>52</th>\n",
              "      <td>30.0</td>\n",
              "      <td>23.367000</td>\n",
              "    </tr>\n",
              "    <tr>\n",
              "      <th>303</th>\n",
              "      <td>31.8</td>\n",
              "      <td>33.470567</td>\n",
              "    </tr>\n",
              "    <tr>\n",
              "      <th>221</th>\n",
              "      <td>17.5</td>\n",
              "      <td>15.310000</td>\n",
              "    </tr>\n",
              "    <tr>\n",
              "      <th>228</th>\n",
              "      <td>18.5</td>\n",
              "      <td>15.083000</td>\n",
              "    </tr>\n",
              "  </tbody>\n",
              "</table>\n",
              "</div>\n",
              "      <button class=\"colab-df-convert\" onclick=\"convertToInteractive('df-ee289bcc-c373-4bee-9d7a-8c42bee9b65f')\"\n",
              "              title=\"Convert this dataframe to an interactive table.\"\n",
              "              style=\"display:none;\">\n",
              "        \n",
              "  <svg xmlns=\"http://www.w3.org/2000/svg\" height=\"24px\"viewBox=\"0 0 24 24\"\n",
              "       width=\"24px\">\n",
              "    <path d=\"M0 0h24v24H0V0z\" fill=\"none\"/>\n",
              "    <path d=\"M18.56 5.44l.94 2.06.94-2.06 2.06-.94-2.06-.94-.94-2.06-.94 2.06-2.06.94zm-11 1L8.5 8.5l.94-2.06 2.06-.94-2.06-.94L8.5 2.5l-.94 2.06-2.06.94zm10 10l.94 2.06.94-2.06 2.06-.94-2.06-.94-.94-2.06-.94 2.06-2.06.94z\"/><path d=\"M17.41 7.96l-1.37-1.37c-.4-.4-.92-.59-1.43-.59-.52 0-1.04.2-1.43.59L10.3 9.45l-7.72 7.72c-.78.78-.78 2.05 0 2.83L4 21.41c.39.39.9.59 1.41.59.51 0 1.02-.2 1.41-.59l7.78-7.78 2.81-2.81c.8-.78.8-2.07 0-2.86zM5.41 20L4 18.59l7.72-7.72 1.47 1.35L5.41 20z\"/>\n",
              "  </svg>\n",
              "      </button>\n",
              "      \n",
              "  <style>\n",
              "    .colab-df-container {\n",
              "      display:flex;\n",
              "      flex-wrap:wrap;\n",
              "      gap: 12px;\n",
              "    }\n",
              "\n",
              "    .colab-df-convert {\n",
              "      background-color: #E8F0FE;\n",
              "      border: none;\n",
              "      border-radius: 50%;\n",
              "      cursor: pointer;\n",
              "      display: none;\n",
              "      fill: #1967D2;\n",
              "      height: 32px;\n",
              "      padding: 0 0 0 0;\n",
              "      width: 32px;\n",
              "    }\n",
              "\n",
              "    .colab-df-convert:hover {\n",
              "      background-color: #E2EBFA;\n",
              "      box-shadow: 0px 1px 2px rgba(60, 64, 67, 0.3), 0px 1px 3px 1px rgba(60, 64, 67, 0.15);\n",
              "      fill: #174EA6;\n",
              "    }\n",
              "\n",
              "    [theme=dark] .colab-df-convert {\n",
              "      background-color: #3B4455;\n",
              "      fill: #D2E3FC;\n",
              "    }\n",
              "\n",
              "    [theme=dark] .colab-df-convert:hover {\n",
              "      background-color: #434B5C;\n",
              "      box-shadow: 0px 1px 3px 1px rgba(0, 0, 0, 0.15);\n",
              "      filter: drop-shadow(0px 1px 2px rgba(0, 0, 0, 0.3));\n",
              "      fill: #FFFFFF;\n",
              "    }\n",
              "  </style>\n",
              "\n",
              "      <script>\n",
              "        const buttonEl =\n",
              "          document.querySelector('#df-ee289bcc-c373-4bee-9d7a-8c42bee9b65f button.colab-df-convert');\n",
              "        buttonEl.style.display =\n",
              "          google.colab.kernel.accessAllowed ? 'block' : 'none';\n",
              "\n",
              "        async function convertToInteractive(key) {\n",
              "          const element = document.querySelector('#df-ee289bcc-c373-4bee-9d7a-8c42bee9b65f');\n",
              "          const dataTable =\n",
              "            await google.colab.kernel.invokeFunction('convertToInteractive',\n",
              "                                                     [key], {});\n",
              "          if (!dataTable) return;\n",
              "\n",
              "          const docLinkHtml = 'Like what you see? Visit the ' +\n",
              "            '<a target=\"_blank\" href=https://colab.research.google.com/notebooks/data_table.ipynb>data table notebook</a>'\n",
              "            + ' to learn more about interactive tables.';\n",
              "          element.innerHTML = '';\n",
              "          dataTable['output_type'] = 'display_data';\n",
              "          await google.colab.output.renderOutput(dataTable, element);\n",
              "          const docLink = document.createElement('div');\n",
              "          docLink.innerHTML = docLinkHtml;\n",
              "          element.appendChild(docLink);\n",
              "        }\n",
              "      </script>\n",
              "    </div>\n",
              "  </div>\n",
              "  "
            ]
          },
          "metadata": {},
          "execution_count": 86
        }
      ]
    },
    {
      "cell_type": "markdown",
      "source": [
        "### Gradient Boosting Regressor"
      ],
      "metadata": {
        "id": "8h-c_bPYI7ro"
      }
    },
    {
      "cell_type": "code",
      "source": [
        "model = GradientBoostingRegressor(n_estimators=100, learning_rate=0.1, max_depth=3, random_state=42)\n",
        "\n",
        "# Fit the model on the training data\n",
        "model.fit(x_train_scaled, y_train)\n",
        "\n",
        "# Make predictions on the test data\n",
        "y_pred_gbr = model.predict(x_test_scaled)\n",
        "\n",
        "mse_gbr = mse(y_test, y_pred_gbr)\n",
        "rmse_gbr = sqrt(mse_gbr)\n",
        "\n",
        "# Evaluate the performance of the model\n",
        "print(\"MSE gbr:\", mse_gbr)\n",
        "print(\"RMSE gbr:\", rmse_gbr)\n",
        "\n",
        "# append values to array\n",
        "model_Name.append(\"GB Reg\")\n",
        "model_MSE.append(mse_gbr)\n",
        "model_RMSE.append(rmse_gbr)"
      ],
      "metadata": {
        "colab": {
          "base_uri": "https://localhost:8080/"
        },
        "id": "8_mZDdovIs-7",
        "outputId": "cc8cfb76-f01f-4ddb-c71c-6ee2e4801cf0"
      },
      "execution_count": 87,
      "outputs": [
        {
          "output_type": "stream",
          "name": "stdout",
          "text": [
            "MSE gbr: 13.231229101026027\n",
            "RMSE gbr: 3.6374756495440663\n"
          ]
        }
      ]
    },
    {
      "cell_type": "code",
      "source": [
        "model_Name, model_MSE, model_RMSE"
      ],
      "metadata": {
        "colab": {
          "base_uri": "https://localhost:8080/"
        },
        "id": "IV1o16KDJYUd",
        "outputId": "42284eba-e8a5-47fe-c8bc-9370afe14392"
      },
      "execution_count": 88,
      "outputs": [
        {
          "output_type": "execute_result",
          "data": {
            "text/plain": [
              "(['Linear Reg',\n",
              "  'Polynomial Reg',\n",
              "  'Ridge Reg',\n",
              "  'Lasso Reg',\n",
              "  'SVR',\n",
              "  'DT Reg',\n",
              "  'RF Reg',\n",
              "  'GB Reg'],\n",
              " [14.79826707770656,\n",
              "  13.029404165943301,\n",
              "  14.76469385947631,\n",
              "  15.066874594864526,\n",
              "  15.068400803164044,\n",
              "  21.331236812033218,\n",
              "  11.509173513805427,\n",
              "  13.231229101026027],\n",
              " [3.846851579890568,\n",
              "  3.609626596469959,\n",
              "  3.8424853753106607,\n",
              "  3.8816072180044863,\n",
              "  3.88180380791766,\n",
              "  4.618575192852577,\n",
              "  3.392517282757072,\n",
              "  3.6374756495440663])"
            ]
          },
          "metadata": {},
          "execution_count": 88
        }
      ]
    },
    {
      "cell_type": "code",
      "source": [
        "result_df = pd.DataFrame({'Real Values':y_test, 'Predicted Values':y_pred_gbr})\n",
        "result_df.head(10)"
      ],
      "metadata": {
        "colab": {
          "base_uri": "https://localhost:8080/",
          "height": 363
        },
        "id": "uaRGhFGcJY8m",
        "outputId": "b59c42ae-3de7-4bbc-ae41-9ecbfc9ce5d8"
      },
      "execution_count": 89,
      "outputs": [
        {
          "output_type": "execute_result",
          "data": {
            "text/plain": [
              "     Real Values  Predicted Values\n",
              "377         31.0         36.466723\n",
              "99          18.0         16.544654\n",
              "217         30.0         25.670609\n",
              "129         31.0         27.606985\n",
              "74          13.0         12.583108\n",
              "395         32.0         29.644546\n",
              "52          30.0         23.233485\n",
              "303         31.8         33.443508\n",
              "221         17.5         15.093044\n",
              "228         18.5         16.191746"
            ],
            "text/html": [
              "\n",
              "  <div id=\"df-e1db4a69-1263-4124-8b0d-21adae223dc3\">\n",
              "    <div class=\"colab-df-container\">\n",
              "      <div>\n",
              "<style scoped>\n",
              "    .dataframe tbody tr th:only-of-type {\n",
              "        vertical-align: middle;\n",
              "    }\n",
              "\n",
              "    .dataframe tbody tr th {\n",
              "        vertical-align: top;\n",
              "    }\n",
              "\n",
              "    .dataframe thead th {\n",
              "        text-align: right;\n",
              "    }\n",
              "</style>\n",
              "<table border=\"1\" class=\"dataframe\">\n",
              "  <thead>\n",
              "    <tr style=\"text-align: right;\">\n",
              "      <th></th>\n",
              "      <th>Real Values</th>\n",
              "      <th>Predicted Values</th>\n",
              "    </tr>\n",
              "  </thead>\n",
              "  <tbody>\n",
              "    <tr>\n",
              "      <th>377</th>\n",
              "      <td>31.0</td>\n",
              "      <td>36.466723</td>\n",
              "    </tr>\n",
              "    <tr>\n",
              "      <th>99</th>\n",
              "      <td>18.0</td>\n",
              "      <td>16.544654</td>\n",
              "    </tr>\n",
              "    <tr>\n",
              "      <th>217</th>\n",
              "      <td>30.0</td>\n",
              "      <td>25.670609</td>\n",
              "    </tr>\n",
              "    <tr>\n",
              "      <th>129</th>\n",
              "      <td>31.0</td>\n",
              "      <td>27.606985</td>\n",
              "    </tr>\n",
              "    <tr>\n",
              "      <th>74</th>\n",
              "      <td>13.0</td>\n",
              "      <td>12.583108</td>\n",
              "    </tr>\n",
              "    <tr>\n",
              "      <th>395</th>\n",
              "      <td>32.0</td>\n",
              "      <td>29.644546</td>\n",
              "    </tr>\n",
              "    <tr>\n",
              "      <th>52</th>\n",
              "      <td>30.0</td>\n",
              "      <td>23.233485</td>\n",
              "    </tr>\n",
              "    <tr>\n",
              "      <th>303</th>\n",
              "      <td>31.8</td>\n",
              "      <td>33.443508</td>\n",
              "    </tr>\n",
              "    <tr>\n",
              "      <th>221</th>\n",
              "      <td>17.5</td>\n",
              "      <td>15.093044</td>\n",
              "    </tr>\n",
              "    <tr>\n",
              "      <th>228</th>\n",
              "      <td>18.5</td>\n",
              "      <td>16.191746</td>\n",
              "    </tr>\n",
              "  </tbody>\n",
              "</table>\n",
              "</div>\n",
              "      <button class=\"colab-df-convert\" onclick=\"convertToInteractive('df-e1db4a69-1263-4124-8b0d-21adae223dc3')\"\n",
              "              title=\"Convert this dataframe to an interactive table.\"\n",
              "              style=\"display:none;\">\n",
              "        \n",
              "  <svg xmlns=\"http://www.w3.org/2000/svg\" height=\"24px\"viewBox=\"0 0 24 24\"\n",
              "       width=\"24px\">\n",
              "    <path d=\"M0 0h24v24H0V0z\" fill=\"none\"/>\n",
              "    <path d=\"M18.56 5.44l.94 2.06.94-2.06 2.06-.94-2.06-.94-.94-2.06-.94 2.06-2.06.94zm-11 1L8.5 8.5l.94-2.06 2.06-.94-2.06-.94L8.5 2.5l-.94 2.06-2.06.94zm10 10l.94 2.06.94-2.06 2.06-.94-2.06-.94-.94-2.06-.94 2.06-2.06.94z\"/><path d=\"M17.41 7.96l-1.37-1.37c-.4-.4-.92-.59-1.43-.59-.52 0-1.04.2-1.43.59L10.3 9.45l-7.72 7.72c-.78.78-.78 2.05 0 2.83L4 21.41c.39.39.9.59 1.41.59.51 0 1.02-.2 1.41-.59l7.78-7.78 2.81-2.81c.8-.78.8-2.07 0-2.86zM5.41 20L4 18.59l7.72-7.72 1.47 1.35L5.41 20z\"/>\n",
              "  </svg>\n",
              "      </button>\n",
              "      \n",
              "  <style>\n",
              "    .colab-df-container {\n",
              "      display:flex;\n",
              "      flex-wrap:wrap;\n",
              "      gap: 12px;\n",
              "    }\n",
              "\n",
              "    .colab-df-convert {\n",
              "      background-color: #E8F0FE;\n",
              "      border: none;\n",
              "      border-radius: 50%;\n",
              "      cursor: pointer;\n",
              "      display: none;\n",
              "      fill: #1967D2;\n",
              "      height: 32px;\n",
              "      padding: 0 0 0 0;\n",
              "      width: 32px;\n",
              "    }\n",
              "\n",
              "    .colab-df-convert:hover {\n",
              "      background-color: #E2EBFA;\n",
              "      box-shadow: 0px 1px 2px rgba(60, 64, 67, 0.3), 0px 1px 3px 1px rgba(60, 64, 67, 0.15);\n",
              "      fill: #174EA6;\n",
              "    }\n",
              "\n",
              "    [theme=dark] .colab-df-convert {\n",
              "      background-color: #3B4455;\n",
              "      fill: #D2E3FC;\n",
              "    }\n",
              "\n",
              "    [theme=dark] .colab-df-convert:hover {\n",
              "      background-color: #434B5C;\n",
              "      box-shadow: 0px 1px 3px 1px rgba(0, 0, 0, 0.15);\n",
              "      filter: drop-shadow(0px 1px 2px rgba(0, 0, 0, 0.3));\n",
              "      fill: #FFFFFF;\n",
              "    }\n",
              "  </style>\n",
              "\n",
              "      <script>\n",
              "        const buttonEl =\n",
              "          document.querySelector('#df-e1db4a69-1263-4124-8b0d-21adae223dc3 button.colab-df-convert');\n",
              "        buttonEl.style.display =\n",
              "          google.colab.kernel.accessAllowed ? 'block' : 'none';\n",
              "\n",
              "        async function convertToInteractive(key) {\n",
              "          const element = document.querySelector('#df-e1db4a69-1263-4124-8b0d-21adae223dc3');\n",
              "          const dataTable =\n",
              "            await google.colab.kernel.invokeFunction('convertToInteractive',\n",
              "                                                     [key], {});\n",
              "          if (!dataTable) return;\n",
              "\n",
              "          const docLinkHtml = 'Like what you see? Visit the ' +\n",
              "            '<a target=\"_blank\" href=https://colab.research.google.com/notebooks/data_table.ipynb>data table notebook</a>'\n",
              "            + ' to learn more about interactive tables.';\n",
              "          element.innerHTML = '';\n",
              "          dataTable['output_type'] = 'display_data';\n",
              "          await google.colab.output.renderOutput(dataTable, element);\n",
              "          const docLink = document.createElement('div');\n",
              "          docLink.innerHTML = docLinkHtml;\n",
              "          element.appendChild(docLink);\n",
              "        }\n",
              "      </script>\n",
              "    </div>\n",
              "  </div>\n",
              "  "
            ]
          },
          "metadata": {},
          "execution_count": 89
        }
      ]
    },
    {
      "cell_type": "markdown",
      "source": [
        "### Sorting values based on MSE"
      ],
      "metadata": {
        "id": "KEFiIsgJJquM"
      }
    },
    {
      "cell_type": "code",
      "source": [
        "MSE_dict = pd.DataFrame({\"MODEL\": model_Name, \"MSE\": model_MSE})\n",
        "MSE_dict.sort_values(by=\"MSE\", inplace = True)\n",
        "MSE_dict"
      ],
      "metadata": {
        "colab": {
          "base_uri": "https://localhost:8080/",
          "height": 300
        },
        "id": "nXiPIpg1JwIt",
        "outputId": "c57bfe70-edac-41aa-d459-5a7300e74dd7"
      },
      "execution_count": 90,
      "outputs": [
        {
          "output_type": "execute_result",
          "data": {
            "text/plain": [
              "            MODEL        MSE\n",
              "6          RF Reg  11.509174\n",
              "1  Polynomial Reg  13.029404\n",
              "7          GB Reg  13.231229\n",
              "2       Ridge Reg  14.764694\n",
              "0      Linear Reg  14.798267\n",
              "3       Lasso Reg  15.066875\n",
              "4             SVR  15.068401\n",
              "5          DT Reg  21.331237"
            ],
            "text/html": [
              "\n",
              "  <div id=\"df-fe4a6870-51c8-4d21-b7fc-c822fffb8d7e\">\n",
              "    <div class=\"colab-df-container\">\n",
              "      <div>\n",
              "<style scoped>\n",
              "    .dataframe tbody tr th:only-of-type {\n",
              "        vertical-align: middle;\n",
              "    }\n",
              "\n",
              "    .dataframe tbody tr th {\n",
              "        vertical-align: top;\n",
              "    }\n",
              "\n",
              "    .dataframe thead th {\n",
              "        text-align: right;\n",
              "    }\n",
              "</style>\n",
              "<table border=\"1\" class=\"dataframe\">\n",
              "  <thead>\n",
              "    <tr style=\"text-align: right;\">\n",
              "      <th></th>\n",
              "      <th>MODEL</th>\n",
              "      <th>MSE</th>\n",
              "    </tr>\n",
              "  </thead>\n",
              "  <tbody>\n",
              "    <tr>\n",
              "      <th>6</th>\n",
              "      <td>RF Reg</td>\n",
              "      <td>11.509174</td>\n",
              "    </tr>\n",
              "    <tr>\n",
              "      <th>1</th>\n",
              "      <td>Polynomial Reg</td>\n",
              "      <td>13.029404</td>\n",
              "    </tr>\n",
              "    <tr>\n",
              "      <th>7</th>\n",
              "      <td>GB Reg</td>\n",
              "      <td>13.231229</td>\n",
              "    </tr>\n",
              "    <tr>\n",
              "      <th>2</th>\n",
              "      <td>Ridge Reg</td>\n",
              "      <td>14.764694</td>\n",
              "    </tr>\n",
              "    <tr>\n",
              "      <th>0</th>\n",
              "      <td>Linear Reg</td>\n",
              "      <td>14.798267</td>\n",
              "    </tr>\n",
              "    <tr>\n",
              "      <th>3</th>\n",
              "      <td>Lasso Reg</td>\n",
              "      <td>15.066875</td>\n",
              "    </tr>\n",
              "    <tr>\n",
              "      <th>4</th>\n",
              "      <td>SVR</td>\n",
              "      <td>15.068401</td>\n",
              "    </tr>\n",
              "    <tr>\n",
              "      <th>5</th>\n",
              "      <td>DT Reg</td>\n",
              "      <td>21.331237</td>\n",
              "    </tr>\n",
              "  </tbody>\n",
              "</table>\n",
              "</div>\n",
              "      <button class=\"colab-df-convert\" onclick=\"convertToInteractive('df-fe4a6870-51c8-4d21-b7fc-c822fffb8d7e')\"\n",
              "              title=\"Convert this dataframe to an interactive table.\"\n",
              "              style=\"display:none;\">\n",
              "        \n",
              "  <svg xmlns=\"http://www.w3.org/2000/svg\" height=\"24px\"viewBox=\"0 0 24 24\"\n",
              "       width=\"24px\">\n",
              "    <path d=\"M0 0h24v24H0V0z\" fill=\"none\"/>\n",
              "    <path d=\"M18.56 5.44l.94 2.06.94-2.06 2.06-.94-2.06-.94-.94-2.06-.94 2.06-2.06.94zm-11 1L8.5 8.5l.94-2.06 2.06-.94-2.06-.94L8.5 2.5l-.94 2.06-2.06.94zm10 10l.94 2.06.94-2.06 2.06-.94-2.06-.94-.94-2.06-.94 2.06-2.06.94z\"/><path d=\"M17.41 7.96l-1.37-1.37c-.4-.4-.92-.59-1.43-.59-.52 0-1.04.2-1.43.59L10.3 9.45l-7.72 7.72c-.78.78-.78 2.05 0 2.83L4 21.41c.39.39.9.59 1.41.59.51 0 1.02-.2 1.41-.59l7.78-7.78 2.81-2.81c.8-.78.8-2.07 0-2.86zM5.41 20L4 18.59l7.72-7.72 1.47 1.35L5.41 20z\"/>\n",
              "  </svg>\n",
              "      </button>\n",
              "      \n",
              "  <style>\n",
              "    .colab-df-container {\n",
              "      display:flex;\n",
              "      flex-wrap:wrap;\n",
              "      gap: 12px;\n",
              "    }\n",
              "\n",
              "    .colab-df-convert {\n",
              "      background-color: #E8F0FE;\n",
              "      border: none;\n",
              "      border-radius: 50%;\n",
              "      cursor: pointer;\n",
              "      display: none;\n",
              "      fill: #1967D2;\n",
              "      height: 32px;\n",
              "      padding: 0 0 0 0;\n",
              "      width: 32px;\n",
              "    }\n",
              "\n",
              "    .colab-df-convert:hover {\n",
              "      background-color: #E2EBFA;\n",
              "      box-shadow: 0px 1px 2px rgba(60, 64, 67, 0.3), 0px 1px 3px 1px rgba(60, 64, 67, 0.15);\n",
              "      fill: #174EA6;\n",
              "    }\n",
              "\n",
              "    [theme=dark] .colab-df-convert {\n",
              "      background-color: #3B4455;\n",
              "      fill: #D2E3FC;\n",
              "    }\n",
              "\n",
              "    [theme=dark] .colab-df-convert:hover {\n",
              "      background-color: #434B5C;\n",
              "      box-shadow: 0px 1px 3px 1px rgba(0, 0, 0, 0.15);\n",
              "      filter: drop-shadow(0px 1px 2px rgba(0, 0, 0, 0.3));\n",
              "      fill: #FFFFFF;\n",
              "    }\n",
              "  </style>\n",
              "\n",
              "      <script>\n",
              "        const buttonEl =\n",
              "          document.querySelector('#df-fe4a6870-51c8-4d21-b7fc-c822fffb8d7e button.colab-df-convert');\n",
              "        buttonEl.style.display =\n",
              "          google.colab.kernel.accessAllowed ? 'block' : 'none';\n",
              "\n",
              "        async function convertToInteractive(key) {\n",
              "          const element = document.querySelector('#df-fe4a6870-51c8-4d21-b7fc-c822fffb8d7e');\n",
              "          const dataTable =\n",
              "            await google.colab.kernel.invokeFunction('convertToInteractive',\n",
              "                                                     [key], {});\n",
              "          if (!dataTable) return;\n",
              "\n",
              "          const docLinkHtml = 'Like what you see? Visit the ' +\n",
              "            '<a target=\"_blank\" href=https://colab.research.google.com/notebooks/data_table.ipynb>data table notebook</a>'\n",
              "            + ' to learn more about interactive tables.';\n",
              "          element.innerHTML = '';\n",
              "          dataTable['output_type'] = 'display_data';\n",
              "          await google.colab.output.renderOutput(dataTable, element);\n",
              "          const docLink = document.createElement('div');\n",
              "          docLink.innerHTML = docLinkHtml;\n",
              "          element.appendChild(docLink);\n",
              "        }\n",
              "      </script>\n",
              "    </div>\n",
              "  </div>\n",
              "  "
            ]
          },
          "metadata": {},
          "execution_count": 90
        }
      ]
    },
    {
      "cell_type": "markdown",
      "source": [
        "### Sorting values based on RMSE"
      ],
      "metadata": {
        "id": "3M3HEXnEJtD8"
      }
    },
    {
      "cell_type": "code",
      "source": [
        "RMSE_dict = pd.DataFrame({\"MODEL\": model_Name, \"RMSE\": model_RMSE})\n",
        "RMSE_dict.sort_values(by=\"RMSE\", inplace = True)\n",
        "RMSE_dict"
      ],
      "metadata": {
        "colab": {
          "base_uri": "https://localhost:8080/",
          "height": 300
        },
        "id": "vdKjBbSiJstZ",
        "outputId": "2698b4fb-08d8-4af3-e028-a0b5f16c9122"
      },
      "execution_count": 91,
      "outputs": [
        {
          "output_type": "execute_result",
          "data": {
            "text/plain": [
              "            MODEL      RMSE\n",
              "6          RF Reg  3.392517\n",
              "1  Polynomial Reg  3.609627\n",
              "7          GB Reg  3.637476\n",
              "2       Ridge Reg  3.842485\n",
              "0      Linear Reg  3.846852\n",
              "3       Lasso Reg  3.881607\n",
              "4             SVR  3.881804\n",
              "5          DT Reg  4.618575"
            ],
            "text/html": [
              "\n",
              "  <div id=\"df-6f2fed67-aa0c-48e4-84e6-1eef97346120\">\n",
              "    <div class=\"colab-df-container\">\n",
              "      <div>\n",
              "<style scoped>\n",
              "    .dataframe tbody tr th:only-of-type {\n",
              "        vertical-align: middle;\n",
              "    }\n",
              "\n",
              "    .dataframe tbody tr th {\n",
              "        vertical-align: top;\n",
              "    }\n",
              "\n",
              "    .dataframe thead th {\n",
              "        text-align: right;\n",
              "    }\n",
              "</style>\n",
              "<table border=\"1\" class=\"dataframe\">\n",
              "  <thead>\n",
              "    <tr style=\"text-align: right;\">\n",
              "      <th></th>\n",
              "      <th>MODEL</th>\n",
              "      <th>RMSE</th>\n",
              "    </tr>\n",
              "  </thead>\n",
              "  <tbody>\n",
              "    <tr>\n",
              "      <th>6</th>\n",
              "      <td>RF Reg</td>\n",
              "      <td>3.392517</td>\n",
              "    </tr>\n",
              "    <tr>\n",
              "      <th>1</th>\n",
              "      <td>Polynomial Reg</td>\n",
              "      <td>3.609627</td>\n",
              "    </tr>\n",
              "    <tr>\n",
              "      <th>7</th>\n",
              "      <td>GB Reg</td>\n",
              "      <td>3.637476</td>\n",
              "    </tr>\n",
              "    <tr>\n",
              "      <th>2</th>\n",
              "      <td>Ridge Reg</td>\n",
              "      <td>3.842485</td>\n",
              "    </tr>\n",
              "    <tr>\n",
              "      <th>0</th>\n",
              "      <td>Linear Reg</td>\n",
              "      <td>3.846852</td>\n",
              "    </tr>\n",
              "    <tr>\n",
              "      <th>3</th>\n",
              "      <td>Lasso Reg</td>\n",
              "      <td>3.881607</td>\n",
              "    </tr>\n",
              "    <tr>\n",
              "      <th>4</th>\n",
              "      <td>SVR</td>\n",
              "      <td>3.881804</td>\n",
              "    </tr>\n",
              "    <tr>\n",
              "      <th>5</th>\n",
              "      <td>DT Reg</td>\n",
              "      <td>4.618575</td>\n",
              "    </tr>\n",
              "  </tbody>\n",
              "</table>\n",
              "</div>\n",
              "      <button class=\"colab-df-convert\" onclick=\"convertToInteractive('df-6f2fed67-aa0c-48e4-84e6-1eef97346120')\"\n",
              "              title=\"Convert this dataframe to an interactive table.\"\n",
              "              style=\"display:none;\">\n",
              "        \n",
              "  <svg xmlns=\"http://www.w3.org/2000/svg\" height=\"24px\"viewBox=\"0 0 24 24\"\n",
              "       width=\"24px\">\n",
              "    <path d=\"M0 0h24v24H0V0z\" fill=\"none\"/>\n",
              "    <path d=\"M18.56 5.44l.94 2.06.94-2.06 2.06-.94-2.06-.94-.94-2.06-.94 2.06-2.06.94zm-11 1L8.5 8.5l.94-2.06 2.06-.94-2.06-.94L8.5 2.5l-.94 2.06-2.06.94zm10 10l.94 2.06.94-2.06 2.06-.94-2.06-.94-.94-2.06-.94 2.06-2.06.94z\"/><path d=\"M17.41 7.96l-1.37-1.37c-.4-.4-.92-.59-1.43-.59-.52 0-1.04.2-1.43.59L10.3 9.45l-7.72 7.72c-.78.78-.78 2.05 0 2.83L4 21.41c.39.39.9.59 1.41.59.51 0 1.02-.2 1.41-.59l7.78-7.78 2.81-2.81c.8-.78.8-2.07 0-2.86zM5.41 20L4 18.59l7.72-7.72 1.47 1.35L5.41 20z\"/>\n",
              "  </svg>\n",
              "      </button>\n",
              "      \n",
              "  <style>\n",
              "    .colab-df-container {\n",
              "      display:flex;\n",
              "      flex-wrap:wrap;\n",
              "      gap: 12px;\n",
              "    }\n",
              "\n",
              "    .colab-df-convert {\n",
              "      background-color: #E8F0FE;\n",
              "      border: none;\n",
              "      border-radius: 50%;\n",
              "      cursor: pointer;\n",
              "      display: none;\n",
              "      fill: #1967D2;\n",
              "      height: 32px;\n",
              "      padding: 0 0 0 0;\n",
              "      width: 32px;\n",
              "    }\n",
              "\n",
              "    .colab-df-convert:hover {\n",
              "      background-color: #E2EBFA;\n",
              "      box-shadow: 0px 1px 2px rgba(60, 64, 67, 0.3), 0px 1px 3px 1px rgba(60, 64, 67, 0.15);\n",
              "      fill: #174EA6;\n",
              "    }\n",
              "\n",
              "    [theme=dark] .colab-df-convert {\n",
              "      background-color: #3B4455;\n",
              "      fill: #D2E3FC;\n",
              "    }\n",
              "\n",
              "    [theme=dark] .colab-df-convert:hover {\n",
              "      background-color: #434B5C;\n",
              "      box-shadow: 0px 1px 3px 1px rgba(0, 0, 0, 0.15);\n",
              "      filter: drop-shadow(0px 1px 2px rgba(0, 0, 0, 0.3));\n",
              "      fill: #FFFFFF;\n",
              "    }\n",
              "  </style>\n",
              "\n",
              "      <script>\n",
              "        const buttonEl =\n",
              "          document.querySelector('#df-6f2fed67-aa0c-48e4-84e6-1eef97346120 button.colab-df-convert');\n",
              "        buttonEl.style.display =\n",
              "          google.colab.kernel.accessAllowed ? 'block' : 'none';\n",
              "\n",
              "        async function convertToInteractive(key) {\n",
              "          const element = document.querySelector('#df-6f2fed67-aa0c-48e4-84e6-1eef97346120');\n",
              "          const dataTable =\n",
              "            await google.colab.kernel.invokeFunction('convertToInteractive',\n",
              "                                                     [key], {});\n",
              "          if (!dataTable) return;\n",
              "\n",
              "          const docLinkHtml = 'Like what you see? Visit the ' +\n",
              "            '<a target=\"_blank\" href=https://colab.research.google.com/notebooks/data_table.ipynb>data table notebook</a>'\n",
              "            + ' to learn more about interactive tables.';\n",
              "          element.innerHTML = '';\n",
              "          dataTable['output_type'] = 'display_data';\n",
              "          await google.colab.output.renderOutput(dataTable, element);\n",
              "          const docLink = document.createElement('div');\n",
              "          docLink.innerHTML = docLinkHtml;\n",
              "          element.appendChild(docLink);\n",
              "        }\n",
              "      </script>\n",
              "    </div>\n",
              "  </div>\n",
              "  "
            ]
          },
          "metadata": {},
          "execution_count": 91
        }
      ]
    }
  ]
}
